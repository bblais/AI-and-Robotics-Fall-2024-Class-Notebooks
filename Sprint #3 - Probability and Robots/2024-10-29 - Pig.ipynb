{
 "cells": [
  {
   "cell_type": "markdown",
   "id": "d928720c-fe7e-45c6-94af-d8c1d18e8b1a",
   "metadata": {},
   "source": [
    "## Pig\n",
    "\n",
    "- Player choose a move: hold or roll\n",
    "\n",
    "- if roll\n",
    "    - roll a single die (1-6)\n",
    "    - if value == 1:\n",
    "       - turn total = 0\n",
    "       - can't roll again \n",
    "    - else:\n",
    "       - value is added turn total \n",
    "       - can roll again = choose between hold and roll\n",
    "- if hold\n",
    "    - turn total is added to your total score\n",
    "    - next player\n",
    " \n",
    "- game ends when 1 player reaches max score (100)\n",
    "\n",
    "\n",
    "\n",
    "- What is a state? [player 1 score, player2 score, turn total, last die roll]\n",
    "- What is a move?  \"hold\" or \"roll\""
   ]
  },
  {
   "cell_type": "code",
   "execution_count": 2,
   "id": "746ace8a-2caf-4303-81d7-8d2a49e6acc0",
   "metadata": {},
   "outputs": [
    {
     "name": "stdout",
     "output_type": "stream",
     "text": [
      "Version:  0.3.07\n"
     ]
    }
   ],
   "source": [
    "from Game import *"
   ]
  },
  {
   "cell_type": "code",
   "execution_count": 3,
   "id": "e5c85b89-5b03-42a2-8280-b42871cd23c4",
   "metadata": {},
   "outputs": [],
   "source": [
    "def initial_state():\n",
    "    player_1_score=0\n",
    "    player_2_score=0\n",
    "    turn_total=0\n",
    "    last_die_roll=0\n",
    "\n",
    "    state=[player_1_score,player_2_score,turn_total,last_die_roll]\n",
    "    return state"
   ]
  },
  {
   "cell_type": "code",
   "execution_count": 4,
   "id": "8a9ac89e-fe3d-4e8a-a5a5-d19c5133db8c",
   "metadata": {},
   "outputs": [],
   "source": [
    "def show_state(state,player):\n",
    "    player_1_score,player_2_score,turn_total,last_die_roll=state\n",
    "    print(f\"Player 1 total is {player_1_score}\")\n",
    "    print(f\"Player 2 total is {player_2_score}\")    \n",
    "    print(f\"Last Die Roll {last_die_roll}\")    \n",
    "    print(f\"The turn total is {turn_total}\")\n",
    "    "
   ]
  },
  {
   "cell_type": "code",
   "execution_count": 6,
   "id": "bb7d89c3-f941-4178-abba-f1a5715a6678",
   "metadata": {},
   "outputs": [
    {
     "name": "stdout",
     "output_type": "stream",
     "text": [
      "Player 1 total is 50\n",
      "Player 2 total is 30\n",
      "Last Die Roll 20\n",
      "The turn total is 2\n"
     ]
    }
   ],
   "source": [
    "show_state([50,30,2,20],1)"
   ]
  },
  {
   "cell_type": "code",
   "execution_count": 7,
   "id": "1539ed47-1e1d-48fc-b180-8e674de8875d",
   "metadata": {},
   "outputs": [],
   "source": [
    "def valid_moves(state,player):\n",
    "    return [\"hold\",\"roll\"]"
   ]
  },
  {
   "cell_type": "code",
   "execution_count": 15,
   "id": "0c8ea96b-bb99-49f2-bc2b-c71111e2a1cd",
   "metadata": {},
   "outputs": [],
   "source": [
    "def update_state(state,player,move):\n",
    "    player_1_score,player_2_score,turn_total,last_die_roll=state\n",
    "\n",
    "    if move==\"hold\":\n",
    "        if player==1:\n",
    "            player_1_score+=turn_total\n",
    "        else:\n",
    "            player_2_score+=turn_total\n",
    "        \n",
    "        turn_total=0\n",
    "        last_die_roll=0\n",
    "\n",
    "    elif move==\"roll\":\n",
    "\n",
    "        dice=random.randint(1,6) \n",
    "        last_die_roll=dice\n",
    "\n",
    "        if dice==1:\n",
    "            turn_total=0\n",
    "        else:\n",
    "            turn_total+=dice\n",
    "            \n",
    "    else:\n",
    "        raise ValueError(\"You can't get there from here.\")    \n",
    "\n",
    "\n",
    "    state=[player_1_score,player_2_score,turn_total,last_die_roll]\n",
    "    return state"
   ]
  },
  {
   "cell_type": "code",
   "execution_count": 16,
   "id": "0a7bfda4-9e34-49ae-b666-f89274174c2a",
   "metadata": {},
   "outputs": [
    {
     "data": {
      "text/plain": [
       "[50, 30, 8, 6]"
      ]
     },
     "execution_count": 16,
     "metadata": {},
     "output_type": "execute_result"
    }
   ],
   "source": [
    "update_state([50,30,2,20],1,\"roll\")"
   ]
  },
  {
   "cell_type": "code",
   "execution_count": 17,
   "id": "cb8c91d4-651e-4599-ba8e-0d4fc019a182",
   "metadata": {},
   "outputs": [
    {
     "data": {
      "text/plain": [
       "[50, 30, 0, 1]"
      ]
     },
     "execution_count": 17,
     "metadata": {},
     "output_type": "execute_result"
    }
   ],
   "source": [
    "update_state([50, 30, 8, 6],1,\"roll\")"
   ]
  },
  {
   "cell_type": "code",
   "execution_count": 19,
   "id": "e066f88e-215f-442a-bf52-c5a5de0b3189",
   "metadata": {},
   "outputs": [
    {
     "data": {
      "text/plain": [
       "[52, 30, 0, 0]"
      ]
     },
     "execution_count": 19,
     "metadata": {},
     "output_type": "execute_result"
    }
   ],
   "source": [
    "update_state([50,30,2,20],1,\"hold\")"
   ]
  },
  {
   "cell_type": "code",
   "execution_count": 20,
   "id": "86961d0a-cf4a-4562-a161-42f019534e40",
   "metadata": {},
   "outputs": [
    {
     "data": {
      "text/plain": [
       "[50, 32, 0, 0]"
      ]
     },
     "execution_count": 20,
     "metadata": {},
     "output_type": "execute_result"
    }
   ],
   "source": [
    "update_state([50,30,2,20],2,\"hold\")"
   ]
  },
  {
   "cell_type": "code",
   "execution_count": 21,
   "id": "7db8b6b8-802e-43cf-b567-5e9a8c995870",
   "metadata": {},
   "outputs": [],
   "source": [
    "def win_status(state,player):\n",
    "    player_1_score,player_2_score,turn_total,last_die_roll=state\n",
    "\n",
    "    max_score=21\n",
    "\n",
    "    if player==1:\n",
    "        if player_1_score+turn_total>=max_score:\n",
    "            return \"win\"\n",
    "    if player==2:\n",
    "        if player_2_score+turn_total>=max_score:\n",
    "            return \"win\"\n"
   ]
  },
  {
   "cell_type": "code",
   "execution_count": 22,
   "id": "444243a5-0d8a-460f-8e77-6c5f4b7ae51a",
   "metadata": {},
   "outputs": [],
   "source": [
    "def repeat_move(state,player,move):\n",
    "    player_1_score,player_2_score,turn_total,last_die_roll=state\n",
    "    if turn_total>0:\n",
    "        return True\n",
    "    else:\n",
    "        return False\n",
    "        "
   ]
  },
  {
   "cell_type": "code",
   "execution_count": 23,
   "id": "924f7034-8f6a-4566-a6c5-167e7ed7d4ff",
   "metadata": {},
   "outputs": [],
   "source": [
    "def monkey_move(state,player):\n",
    "    return random.choice(valid_moves(state,player))\n",
    "monkey_agent=random_agent=Agent(monkey_move)"
   ]
  },
  {
   "cell_type": "code",
   "execution_count": 24,
   "id": "aae3fd38-4708-40d8-a0b3-ac316fe49e4c",
   "metadata": {},
   "outputs": [
    {
     "name": "stdout",
     "output_type": "stream",
     "text": [
      "====\n",
      "Game  1\n",
      "Player 1 total is 0\n",
      "Player 2 total is 0\n",
      "Last Die Roll 0\n",
      "The turn total is 0\n",
      "Player 1 moves hold\n",
      "Player 1 total is 0\n",
      "Player 2 total is 0\n",
      "Last Die Roll 0\n",
      "The turn total is 0\n",
      "Player 2 moves hold\n",
      "Player 1 total is 0\n",
      "Player 2 total is 0\n",
      "Last Die Roll 0\n",
      "The turn total is 0\n",
      "Player 1 moves roll\n",
      "Player 1 total is 0\n",
      "Player 2 total is 0\n",
      "Last Die Roll 6\n",
      "The turn total is 6\n",
      "Player 1 moves roll\n",
      "Player 1 total is 0\n",
      "Player 2 total is 0\n",
      "Last Die Roll 3\n",
      "The turn total is 9\n",
      "Player 1 moves roll\n",
      "Player 1 total is 0\n",
      "Player 2 total is 0\n",
      "Last Die Roll 5\n",
      "The turn total is 14\n",
      "Player 1 moves hold\n",
      "Player 1 total is 14\n",
      "Player 2 total is 0\n",
      "Last Die Roll 0\n",
      "The turn total is 0\n",
      "Player 2 moves roll\n",
      "Player 1 total is 14\n",
      "Player 2 total is 0\n",
      "Last Die Roll 5\n",
      "The turn total is 5\n",
      "Player 2 moves hold\n",
      "Player 1 total is 14\n",
      "Player 2 total is 5\n",
      "Last Die Roll 0\n",
      "The turn total is 0\n",
      "Player 1 moves roll\n",
      "Player 1 total is 14\n",
      "Player 2 total is 5\n",
      "Last Die Roll 1\n",
      "The turn total is 0\n",
      "Player 2 moves hold\n",
      "Player 1 total is 14\n",
      "Player 2 total is 5\n",
      "Last Die Roll 0\n",
      "The turn total is 0\n",
      "Player 1 moves roll\n",
      "Player 1 total is 14\n",
      "Player 2 total is 5\n",
      "Last Die Roll 6\n",
      "The turn total is 6\n",
      "Player 1 moves hold\n",
      "Player 1 total is 20\n",
      "Player 2 total is 5\n",
      "Last Die Roll 0\n",
      "The turn total is 0\n",
      "Player 2 moves roll\n",
      "Player 1 total is 20\n",
      "Player 2 total is 5\n",
      "Last Die Roll 5\n",
      "The turn total is 5\n",
      "Player 2 moves roll\n",
      "Player 1 total is 20\n",
      "Player 2 total is 5\n",
      "Last Die Roll 5\n",
      "The turn total is 10\n",
      "Player 2 moves roll\n",
      "Player 1 total is 20\n",
      "Player 2 total is 5\n",
      "Last Die Roll 1\n",
      "The turn total is 0\n",
      "Player 1 moves hold\n",
      "Player 1 total is 20\n",
      "Player 2 total is 5\n",
      "Last Die Roll 0\n",
      "The turn total is 0\n",
      "Player 2 moves roll\n",
      "Player 1 total is 20\n",
      "Player 2 total is 5\n",
      "Last Die Roll 4\n",
      "The turn total is 4\n",
      "Player 2 moves hold\n",
      "Player 1 total is 20\n",
      "Player 2 total is 9\n",
      "Last Die Roll 0\n",
      "The turn total is 0\n",
      "Player 1 moves hold\n",
      "Player 1 total is 20\n",
      "Player 2 total is 9\n",
      "Last Die Roll 0\n",
      "The turn total is 0\n",
      "Player 2 moves roll\n",
      "Player 1 total is 20\n",
      "Player 2 total is 9\n",
      "Last Die Roll 5\n",
      "The turn total is 5\n",
      "Player 2 moves roll\n",
      "Player 1 total is 20\n",
      "Player 2 total is 9\n",
      "Last Die Roll 4\n",
      "The turn total is 9\n",
      "Player 2 moves roll\n",
      "Player 1 total is 20\n",
      "Player 2 total is 9\n",
      "Last Die Roll 4\n",
      "The turn total is 13\n",
      "Player  2 won.\n"
     ]
    },
    {
     "data": {
      "text/plain": [
       "[2]"
      ]
     },
     "execution_count": 24,
     "metadata": {},
     "output_type": "execute_result"
    }
   ],
   "source": [
    "g=Game()\n",
    "g.run(monkey_agent,monkey_agent)"
   ]
  },
  {
   "cell_type": "code",
   "execution_count": null,
   "id": "a5b4ca98-dafa-4618-a465-5b4ed0474b0c",
   "metadata": {},
   "outputs": [],
   "source": []
  }
 ],
 "metadata": {
  "kernelspec": {
   "display_name": "Python 3 (ipykernel)",
   "language": "python",
   "name": "python3"
  },
  "language_info": {
   "codemirror_mode": {
    "name": "ipython",
    "version": 3
   },
   "file_extension": ".py",
   "mimetype": "text/x-python",
   "name": "python",
   "nbconvert_exporter": "python",
   "pygments_lexer": "ipython3",
   "version": "3.12.6"
  }
 },
 "nbformat": 4,
 "nbformat_minor": 5
}
