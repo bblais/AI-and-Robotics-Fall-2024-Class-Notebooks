{
 "cells": [
  {
   "cell_type": "code",
   "execution_count": 2,
   "id": "34a63348-250c-4955-a2f3-7a7166ed1c71",
   "metadata": {},
   "outputs": [
    {
     "name": "stdout",
     "output_type": "stream",
     "text": [
      "Version:  0.3.07\n"
     ]
    }
   ],
   "source": [
    "from Game import *"
   ]
  },
  {
   "cell_type": "code",
   "execution_count": 4,
   "id": "9bb99379-7d8c-4b6a-90bf-de64e4128c0f",
   "metadata": {},
   "outputs": [
    {
     "name": "stdout",
     "output_type": "stream",
     "text": [
      " 0  1  2  3 \n",
      " 4  5  6  7 \n",
      " 8  9 10 11 \n",
      "12 13 14 15 \n",
      "\n"
     ]
    }
   ],
   "source": [
    "state=Board(4,4)\n",
    "state.show_locations()"
   ]
  },
  {
   "cell_type": "code",
   "execution_count": 5,
   "id": "ca2a82f8-2f7f-4b92-a2e2-eb70df2ae7a8",
   "metadata": {},
   "outputs": [],
   "source": [
    "move=[8,5]"
   ]
  },
  {
   "cell_type": "code",
   "execution_count": 6,
   "id": "b7f466ac-c70a-407d-9912-bc7b0a66b4e6",
   "metadata": {},
   "outputs": [
    {
     "data": {
      "text/plain": [
       "(2, 0)"
      ]
     },
     "execution_count": 6,
     "metadata": {},
     "output_type": "execute_result"
    }
   ],
   "source": [
    "start,end=move\n",
    "row,col=state.row(start),state.col(start)\n",
    "row,col"
   ]
  },
  {
   "cell_type": "code",
   "execution_count": 7,
   "id": "ebf4fdc0-d012-46ea-a439-4a19260ffda6",
   "metadata": {},
   "outputs": [
    {
     "data": {
      "text/plain": [
       "(4, 2)"
      ]
     },
     "execution_count": 7,
     "metadata": {},
     "output_type": "execute_result"
    }
   ],
   "source": [
    "number_cols_to_move=4-col\n",
    "number_rows_to_move=4-row\n",
    "number_cols_to_move, number_rows_to_move"
   ]
  },
  {
   "cell_type": "code",
   "execution_count": null,
   "id": "52685c22-5d46-49cf-b242-0fd0b132d879",
   "metadata": {},
   "outputs": [],
   "source": [
    "go_forward_squares(number_cols_to_move)\n",
    "rot90()\n",
    "go_forward_squares(number_rows_to_move)\n",
    "\n",
    "if start-end==3:\n",
    "    do_right_diag()\n",
    "elif start-end==5:\n",
    "    do_left_diag()\n",
    "elif start-end==4:\n",
    "    do_forward_move()\n",
    "else:\n",
    "    raise ValueError(\"You can't get there from here\")\n",
    "\n"
   ]
  },
  {
   "cell_type": "code",
   "execution_count": 8,
   "id": "175af8d8-2a9f-47fd-866d-786e6d25a3f3",
   "metadata": {},
   "outputs": [],
   "source": [
    "def forward():\n",
    "    left.power=19\n",
    "    right.power=19  # Reset both motors to forward\n",
    "\n",
    "def stop():\n",
    "    left.power=0\n",
    "    right.power=0  # Reset both motors to forward\n",
    "\n",
    "\n",
    "def get_color(verbose=False):\n",
    "    r,g,b,something=color_sensor.value\n",
    "    detected_color=closest_color(r,g,b,\n",
    "        yellow=[255,255,0],\n",
    "        blue=[0,0,255],\n",
    "        white=[255,255,255],\n",
    "        black=[0,0,0]\n",
    "    )\n",
    "\n",
    "    if verbose:\n",
    "        print(\"Color read: \",r,g,b)\n",
    "        print(\"Color name: \",detected_color)\n",
    "\n",
    "\n",
    "    return detected_color\n"
   ]
  },
  {
   "cell_type": "code",
   "execution_count": 9,
   "id": "9c015182-7d46-4aa2-bd79-f4a276ca652d",
   "metadata": {},
   "outputs": [],
   "source": [
    "def go_forward_squares(n,count_color=\"yellow\"):\n",
    "    forward()\n",
    "    \n",
    "    count=0\n",
    "    color_change=False\n",
    "    previous_color=None\n",
    "    \n",
    "    while True:\n",
    "    \n",
    "        color_change=False\n",
    "        color=get_color(verbose=True)\n",
    "    \n",
    "        if color!=previous_color:\n",
    "            color_change=True\n",
    "            previous_color=color\n",
    "    \n",
    "        if color==count_color and color_change:\n",
    "            count+=1\n",
    "            print(\"Count:\",count)\n",
    "    \n",
    "    \n",
    "        if count>n:\n",
    "            break\n",
    "    \n",
    "    stop()    "
   ]
  },
  {
   "cell_type": "code",
   "execution_count": null,
   "id": "176f9fb4-bbc9-4d21-af34-f04506b44543",
   "metadata": {},
   "outputs": [],
   "source": [
    "def go_forward_squares(n):\n",
    "    forward()\n",
    "    Wait(0.2*n)\n",
    "    stop()\n",
    "    "
   ]
  },
  {
   "cell_type": "code",
   "execution_count": null,
   "id": "ebca9403-c137-4026-9ca7-d44fecfa014e",
   "metadata": {},
   "outputs": [],
   "source": [
    "def make_move(move):\n",
    "    start,end=move\n",
    "    row,col=state.row(start),state.col(start)\n",
    "\n",
    "    # depends on where the robot starts\n",
    "    number_cols_to_move=4-col\n",
    "    number_rows_to_move=4-row\n",
    "\n",
    "\n",
    "    go_forward_squares(number_cols_to_move)\n",
    "    rot90()\n",
    "    go_forward_squares(number_rows_to_move)\n",
    "\n",
    "\n",
    "    #  0  1  2  3 \n",
    "    #  4  5  6  7 \n",
    "    #  8  9 10 11 \n",
    "    # 12 13 14 15 \n",
    "    \n",
    "    if start-end==3:\n",
    "        do_right_diag()\n",
    "    elif start-end==5:\n",
    "        do_left_diag()\n",
    "    elif start-end==4:\n",
    "        do_forward_move()\n",
    "    else:\n",
    "        raise ValueError(\"You can't get there from here\")\n",
    "    \n",
    "    "
   ]
  }
 ],
 "metadata": {
  "kernelspec": {
   "display_name": "Python 3 (ipykernel)",
   "language": "python",
   "name": "python3"
  },
  "language_info": {
   "codemirror_mode": {
    "name": "ipython",
    "version": 3
   },
   "file_extension": ".py",
   "mimetype": "text/x-python",
   "name": "python",
   "nbconvert_exporter": "python",
   "pygments_lexer": "ipython3",
   "version": "3.12.6"
  }
 },
 "nbformat": 4,
 "nbformat_minor": 5
}
