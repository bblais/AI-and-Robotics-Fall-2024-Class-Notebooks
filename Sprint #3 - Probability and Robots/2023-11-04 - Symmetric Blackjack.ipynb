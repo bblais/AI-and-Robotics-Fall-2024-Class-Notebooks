{
 "cells": [
  {
   "cell_type": "code",
   "execution_count": 1,
   "id": "19296f2a-aeff-4a15-8bc8-08aeaf3e540c",
   "metadata": {},
   "outputs": [
    {
     "name": "stdout",
     "output_type": "stream",
     "text": [
      "Version:  0.3.07\n"
     ]
    }
   ],
   "source": [
    "from Game import *"
   ]
  },
  {
   "cell_type": "markdown",
   "id": "b44114ff-31f9-4772-803e-6accb64d4135",
   "metadata": {},
   "source": [
    "## Symmetric Blackjack (i.e. no house)\n",
    "\n",
    "- shuffle one deck\n",
    "- each player is dealt 2 cards - one is face up one face down\n",
    "- 2 players, both equivalent\n",
    "- move \"hit\" and \"stand\"\n",
    "- if \"hit\"\n",
    "    - dealt another card face up - bust - hand score > 21(end of game)\n",
    "    - other player's turn\n",
    "- if \"stand\"\n",
    "    - end of your turn\n",
    " \n",
    "- end when both players stand\n",
    "- whoever has the highest hand score wins  (ties as well)\n",
    "- hand score calculated\n"
   ]
  },
  {
   "cell_type": "code",
   "execution_count": 2,
   "id": "7400fc4c-1848-42d0-80be-c0d280b05787",
   "metadata": {},
   "outputs": [],
   "source": [
    "def valid_moves(state,player):\n",
    "    return [\"hit\",\"stand\"]"
   ]
  },
  {
   "cell_type": "code",
   "execution_count": 3,
   "id": "e062a60a-8e06-4154-9bca-d62bbe58d4c4",
   "metadata": {},
   "outputs": [],
   "source": [
    "def initial_state():\n",
    "\n",
    "    # State\n",
    "    # deck\n",
    "    # hand player 1\n",
    "    # hand player 2\n",
    "    # player 1 standing\n",
    "    # player 2 standing\n",
    "    # last card player 1\n",
    "    # last card player 2\n",
    "\n",
    "    deck=makedeck(1)\n",
    "    hand1=deck.deal(2)\n",
    "    hand2=deck.deal(2) \n",
    "    standing1=False\n",
    "    standing2=False    \n",
    "    last_card1=None\n",
    "    last_card2=None\n",
    "\n",
    "    state=deck,hand1,hand2,standing1,standing2\n",
    "\n",
    "    return state"
   ]
  },
  {
   "cell_type": "code",
   "execution_count": 4,
   "id": "3f700056-8a58-40fc-8132-379342060576",
   "metadata": {},
   "outputs": [],
   "source": [
    "def score(hand):\n",
    "\n",
    "    total=0\n",
    "    has_ace=False\n",
    "    for card in hand:\n",
    "        if card.rank==1:\n",
    "            has_ace=True\n",
    "            \n",
    "        if card.rank>10:\n",
    "            total=total+10\n",
    "        else:\n",
    "            total=total+card.rank\n",
    "\n",
    "    if has_ace:\n",
    "        if total+10<=21:\n",
    "            total=total+10\n",
    "    \n",
    "    return total\n",
    "    "
   ]
  },
  {
   "cell_type": "code",
   "execution_count": 5,
   "id": "acc2d8b7-cdd1-4472-9b54-05e8aaed9f12",
   "metadata": {},
   "outputs": [
    {
     "data": {
      "text/plain": [
       "12"
      ]
     },
     "execution_count": 5,
     "metadata": {},
     "output_type": "execute_result"
    }
   ],
   "source": [
    "score([Card(1,'C'),Card(1,'C'),Card(8,'C'),Card(2,'C')])"
   ]
  },
  {
   "cell_type": "code",
   "execution_count": 6,
   "id": "fb11fff5-e20d-4a02-b0df-2f72eded2b52",
   "metadata": {},
   "outputs": [
    {
     "name": "stdout",
     "output_type": "stream",
     "text": [
      "4H JC 14\n",
      "4D 9S 13\n"
     ]
    }
   ],
   "source": [
    "deck,hand1,hand2,standing1,standing2=initial_state()\n",
    "print(hand1,score(hand1))\n",
    "print(hand2,score(hand2))"
   ]
  },
  {
   "cell_type": "code",
   "execution_count": 23,
   "id": "4c131d72-6ee0-4903-9d65-ba6084f11fea",
   "metadata": {},
   "outputs": [],
   "source": [
    "def win_status(state,player):\n",
    "    deck,hand1,hand2,standing1,standing2=state\n",
    "\n",
    "    score1=score(hand1)\n",
    "    score2=score(hand2)\n",
    "    visible_score1=score(hand1[1:])\n",
    "    visible_score2=score(hand2[1:])\n",
    "\n",
    "    if player==1 and visible_score1>21:\n",
    "        return \"lose\"\n",
    "\n",
    "    if player==2 and visible_score2>21:\n",
    "        return \"lose\"\n",
    "\n",
    "    \n",
    "    if standing1 and standing2:\n",
    "        if player==1:\n",
    "\n",
    "            if score1>21 and score2>21:\n",
    "                return \"tie\"\n",
    "            if score1>21:\n",
    "                return \"lose\"\n",
    "            if score2>21:\n",
    "                return \"win\"\n",
    "                \n",
    "            \n",
    "            if score1>score2:\n",
    "                return 'win'\n",
    "            elif score1==score2:\n",
    "                return 'stalemate'\n",
    "            else:\n",
    "                return 'lose'\n",
    "\n",
    "        elif player==2:\n",
    "\n",
    "            if score1>21 and score2>21:\n",
    "                return \"tie\"\n",
    "            if score1>21:\n",
    "                return \"win\"\n",
    "            if score2>21:\n",
    "                return \"lose\"\n",
    "\n",
    "\n",
    "            \n",
    "            if score1>score2:\n",
    "                return 'lose'\n",
    "            elif score1==score2:\n",
    "                return 'stalemate'\n",
    "            else:\n",
    "                return 'win'\n",
    "        else:\n",
    "            raise ValueError(\"You can't get there from here.\")\n",
    "\n",
    "\n",
    "\n",
    "    "
   ]
  },
  {
   "cell_type": "code",
   "execution_count": 24,
   "id": "e2660a9b-92e4-4f43-9292-d3bbf9c4b8d0",
   "metadata": {},
   "outputs": [],
   "source": [
    "def state_to_observation(state,player):\n",
    "    \n",
    "    deck,hand1,hand2,standing1,standing2=state\n",
    "\n",
    "    if player==1:\n",
    "        observation=hand1,hand2[1:],standing1,standing2\n",
    "    else:\n",
    "        observation=hand2,hand1[1:],standing2,standing1\n",
    "        \n",
    "\n",
    "    return observation  # what an agent actually sees"
   ]
  },
  {
   "cell_type": "code",
   "execution_count": 25,
   "id": "df95c2f9-61ec-4e4c-b7b9-fac20dfff079",
   "metadata": {},
   "outputs": [],
   "source": [
    "def update_state(state,player,move):\n",
    "    deck,hand1,hand2,standing1,standing2=state\n",
    "\n",
    "    if move=='stand':\n",
    "        if player==1:\n",
    "            standing1=True\n",
    "\n",
    "        if player==2:\n",
    "            standing2=True\n",
    "            \n",
    "    elif move=='hit':\n",
    "        card=deck.deal(1)[0]  # deal one card and take the [0th] element of the list\n",
    "        if player==1:\n",
    "            hand1+=[card]\n",
    "        if player==2:\n",
    "            hand2+=[card]\n",
    "        \n",
    "    else:\n",
    "        raise ValueError(\"You can't get there from here.\")\n",
    "\n",
    "    new_state=deck,hand1,hand2,standing1,standing2\n",
    "    return new_state\n"
   ]
  },
  {
   "cell_type": "code",
   "execution_count": 54,
   "id": "0109b8b1-37b0-4da6-a340-4be349db4d0c",
   "metadata": {},
   "outputs": [],
   "source": [
    "def show_state(observation,player):\n",
    "    my_hand,your_hand,me_standing,you_standing=observation\n",
    "    \n",
    "    print(f\"My (player {player}) hand {my_hand} with visible score {score(my_hand[1:])} and total score {score(my_hand)}.\")\n",
    "    if you_standing:\n",
    "        print(f\"Other hand {your_hand} showing with visible score {score(your_hand)} and Standing\")    \n",
    "    else:\n",
    "        print(f\"Other hand {your_hand} with visible score {score(your_hand)} .\")    \n",
    "\n"
   ]
  },
  {
   "cell_type": "code",
   "execution_count": 55,
   "id": "b276cf6c-b36c-4564-9ba8-f180d0cb92f6",
   "metadata": {},
   "outputs": [],
   "source": [
    "def repeat_move(state,player,move):\n",
    "    deck,hand1,hand2,standing1,standing2=state\n",
    "\n",
    "    if player==1 and standing2:\n",
    "        return True\n",
    "\n",
    "    if player==2 and standing1:\n",
    "        return True\n",
    "\n",
    "    return False"
   ]
  },
  {
   "cell_type": "markdown",
   "id": "992faa39-fe0d-43cd-b647-54dc219baaeb",
   "metadata": {},
   "source": [
    "what specifies a card\n",
    "\n",
    "- rank 1-13\n",
    "- suit H , C, S, D\n",
    "\n",
    "- jokers\n"
   ]
  },
  {
   "cell_type": "code",
   "execution_count": 56,
   "id": "b0a583eb-8979-432c-a306-8c7fb91d3676",
   "metadata": {},
   "outputs": [],
   "source": [
    "card=Card(13,'C')"
   ]
  },
  {
   "cell_type": "code",
   "execution_count": 57,
   "id": "cf246ac6-ca82-48a5-ba76-5562de69c9e5",
   "metadata": {},
   "outputs": [
    {
     "data": {
      "text/plain": [
       "13"
      ]
     },
     "execution_count": 57,
     "metadata": {},
     "output_type": "execute_result"
    }
   ],
   "source": [
    "card.rank"
   ]
  },
  {
   "cell_type": "code",
   "execution_count": 58,
   "id": "e8876ec3-bf67-4d41-ad0d-f4733e86e03f",
   "metadata": {},
   "outputs": [
    {
     "data": {
      "text/plain": [
       "'C'"
      ]
     },
     "execution_count": 58,
     "metadata": {},
     "output_type": "execute_result"
    }
   ],
   "source": [
    "card.suit"
   ]
  },
  {
   "cell_type": "code",
   "execution_count": 59,
   "id": "4756b9a7-e61e-4b59-8528-e930bcff4a7a",
   "metadata": {},
   "outputs": [
    {
     "name": "stdout",
     "output_type": "stream",
     "text": [
      "10H 8C JS AC 4S 9H 10C QH 6H AS 8S JH 2D 9D KS 10D 7C 4C 5S 7H 8D 3S 4H 2S QD 5D QS 7D 6D 8H 5C 4D 10S QC 3C KC 6C KH JD 9S 5H JC 9C 3D AD AH 6S 2C 7S 3H 2H KD\n"
     ]
    }
   ],
   "source": [
    "print(makedeck(1))"
   ]
  },
  {
   "cell_type": "code",
   "execution_count": 60,
   "id": "ade4bdd9-2999-47c1-a21c-c0e9f9b40dc3",
   "metadata": {},
   "outputs": [
    {
     "name": "stdout",
     "output_type": "stream",
     "text": [
      "2D 6H 10C 10C JH KD 3S 5H 9D 10S 10D 5C 9C 9S AC 3S 2D QS 9C 2C KH 2H QH AH 10D 7S 2C 4C AD KH 7H 9H 6C 6S JS JC KC 7C JC AD 9H 4H JD 4C 8D 8S 5D 4D QD AS AS 6C 6D JH 4H QS 5S 10H 3H 3C AC 6H JS KS 8C 4S 8H 7S 10H 2S 6S 4S 8D 3H 3C 3D 2S 8S QH 9S 5H AH 10S JD QC 5D 7D 4D 3D KC 7H 8C 2H QD 9D 5C KD 6D 7C 7D QC KS 8H 5S\n"
     ]
    }
   ],
   "source": [
    "print(makedeck(2))"
   ]
  },
  {
   "cell_type": "code",
   "execution_count": 61,
   "id": "7975fc27-efa7-42d5-bb31-a7d4a70f4f0c",
   "metadata": {},
   "outputs": [
    {
     "data": {
      "text/plain": [
       "52"
      ]
     },
     "execution_count": 61,
     "metadata": {},
     "output_type": "execute_result"
    }
   ],
   "source": [
    "deck=makedeck(1)\n",
    "len(deck)"
   ]
  },
  {
   "cell_type": "code",
   "execution_count": 62,
   "id": "a4372feb-8093-491d-9a44-d9b7a5329f15",
   "metadata": {},
   "outputs": [],
   "source": [
    "hand=deck.deal(2)"
   ]
  },
  {
   "cell_type": "code",
   "execution_count": 63,
   "id": "41907057-a81c-4100-8c59-17685c6f4d2f",
   "metadata": {},
   "outputs": [
    {
     "data": {
      "text/plain": [
       "['AS', 'KH']"
      ]
     },
     "execution_count": 63,
     "metadata": {},
     "output_type": "execute_result"
    }
   ],
   "source": [
    "hand"
   ]
  },
  {
   "cell_type": "code",
   "execution_count": 64,
   "id": "a32e45c7-e362-4696-a38f-cecfb5a1779a",
   "metadata": {},
   "outputs": [
    {
     "data": {
      "text/plain": [
       "50"
      ]
     },
     "execution_count": 64,
     "metadata": {},
     "output_type": "execute_result"
    }
   ],
   "source": [
    "len(deck)"
   ]
  },
  {
   "cell_type": "code",
   "execution_count": 65,
   "id": "aaa0f739-ed07-4340-952b-4ed3c3b8b309",
   "metadata": {},
   "outputs": [],
   "source": [
    "def random_move(observation,player):    \n",
    "    moves=valid_moves(observation,player)\n",
    "    return random.choice(moves)\n",
    "\n",
    "random_agent=Agent(random_move)\n"
   ]
  },
  {
   "cell_type": "code",
   "execution_count": 66,
   "id": "b332325a-a835-42b8-9290-1d48733c5bd8",
   "metadata": {},
   "outputs": [
    {
     "name": "stdout",
     "output_type": "stream",
     "text": [
      "====\n",
      "Game  1\n",
      "My (player 1) hand 10H KS with visible score 10 and total score 20.\n",
      "Other hand ['2C'] with visible score 2 .\n",
      "Player 1 moves hit\n",
      "My (player 2) hand QS 2C with visible score 2 and total score 12.\n",
      "Other hand ['KS', '6D'] with visible score 16 .\n",
      "Player 2 moves stand\n",
      "My (player 1) hand 10H KS 6D with visible score 16 and total score 26.\n",
      "Other hand ['2C'] showing with visible score 2 and Standing\n",
      "Player 1 moves hit\n",
      "My (player 1) hand 10H KS 6D 4H with visible score 20 and total score 30.\n",
      "Other hand ['2C'] showing with visible score 2 and Standing\n",
      "Player 1 moves hit\n",
      "My (player 1) hand 10H KS 6D 4H 9C with visible score 29 and total score 39.\n",
      "Other hand ['2C'] showing with visible score 2 and Standing\n",
      "Player  2 won.\n",
      "Total number of games:  1\n",
      "Player 1 (random) Winning 0.00 percent\n",
      "Player 2 (random) Winning 100.00 percent\n",
      "Tie 0.00 percent\n"
     ]
    }
   ],
   "source": [
    "g=Game(number_of_games=1)\n",
    "g.run(random_agent,random_agent)\n",
    "g.report()   "
   ]
  },
  {
   "cell_type": "code",
   "execution_count": null,
   "id": "c73d5115-06fc-45ad-b141-d71aff4337dc",
   "metadata": {},
   "outputs": [],
   "source": []
  },
  {
   "cell_type": "code",
   "execution_count": null,
   "id": "84a1c011-bade-4ecc-b1a4-bb7b9d5c8d17",
   "metadata": {},
   "outputs": [],
   "source": []
  },
  {
   "cell_type": "code",
   "execution_count": null,
   "id": "f0a792cb-ae90-4135-8638-ddc2c78a9b3f",
   "metadata": {},
   "outputs": [],
   "source": []
  }
 ],
 "metadata": {
  "kernelspec": {
   "display_name": "Python 3 (ipykernel)",
   "language": "python",
   "name": "python3"
  },
  "language_info": {
   "codemirror_mode": {
    "name": "ipython",
    "version": 3
   },
   "file_extension": ".py",
   "mimetype": "text/x-python",
   "name": "python",
   "nbconvert_exporter": "python",
   "pygments_lexer": "ipython3",
   "version": "3.12.6"
  }
 },
 "nbformat": 4,
 "nbformat_minor": 5
}
