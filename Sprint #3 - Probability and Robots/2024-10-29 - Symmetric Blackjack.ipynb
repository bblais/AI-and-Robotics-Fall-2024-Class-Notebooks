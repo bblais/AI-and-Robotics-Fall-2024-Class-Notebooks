{
 "cells": [
  {
   "cell_type": "code",
   "execution_count": 1,
   "id": "12cbd7a9-1369-4e1f-952a-0a774eb12b9b",
   "metadata": {},
   "outputs": [
    {
     "name": "stdout",
     "output_type": "stream",
     "text": [
      "Version:  0.3.07\n"
     ]
    }
   ],
   "source": [
    "from Game import *"
   ]
  },
  {
   "cell_type": "code",
   "execution_count": 2,
   "id": "aba0561a-a50d-42d2-afc3-c5a95aa162b2",
   "metadata": {},
   "outputs": [],
   "source": [
    "deck=makedeck()"
   ]
  },
  {
   "cell_type": "code",
   "execution_count": 4,
   "id": "20732236-591a-487e-a9ba-7a620200d61a",
   "metadata": {},
   "outputs": [
    {
     "name": "stdout",
     "output_type": "stream",
     "text": [
      "3H AD QH 4S KC 3C QC 6D JS QS KH JD 2D 8D 7C 2H 8S 7H 7S 2S 9S 4H 10S 8H 5D AH 7D 2C QD 3D 8C 9C 6C KS AC 10D KD 6S 3S 4C JH 10H JC 5S 6H 5C 10C 4D AS 9H 9D 5H\n"
     ]
    }
   ],
   "source": [
    "print(deck)"
   ]
  },
  {
   "cell_type": "code",
   "execution_count": 5,
   "id": "eb1c76ee-7bd7-4646-a3f2-d338d308197a",
   "metadata": {},
   "outputs": [
    {
     "name": "stdout",
     "output_type": "stream",
     "text": [
      "3H AD\n",
      "QH 4S KC 3C QC 6D JS QS KH JD 2D 8D 7C 2H 8S 7H 7S 2S 9S 4H 10S 8H 5D AH 7D 2C QD 3D 8C 9C 6C KS AC 10D KD 6S 3S 4C JH 10H JC 5S 6H 5C 10C 4D AS 9H 9D 5H\n"
     ]
    }
   ],
   "source": [
    "cards=deal(deck,2)\n",
    "print(cards)\n",
    "print(deck)"
   ]
  },
  {
   "cell_type": "code",
   "execution_count": 6,
   "id": "acd3dc93-7823-4abf-8f58-a2fbb95313a9",
   "metadata": {},
   "outputs": [
    {
     "name": "stdout",
     "output_type": "stream",
     "text": [
      "QH 4S\n",
      "KC 3C QC 6D JS QS KH JD 2D 8D 7C 2H 8S 7H 7S 2S 9S 4H 10S 8H 5D AH 7D 2C QD 3D 8C 9C 6C KS AC 10D KD 6S 3S 4C JH 10H JC 5S 6H 5C 10C 4D AS 9H 9D 5H\n"
     ]
    }
   ],
   "source": [
    "cards=deal(deck,2)\n",
    "print(cards)\n",
    "print(deck)"
   ]
  },
  {
   "cell_type": "code",
   "execution_count": 9,
   "id": "d855d970-5d4c-41b1-a15f-c5575fe74131",
   "metadata": {},
   "outputs": [
    {
     "data": {
      "text/plain": [
       "['QH', '4S']"
      ]
     },
     "execution_count": 9,
     "metadata": {},
     "output_type": "execute_result"
    }
   ],
   "source": [
    "cards"
   ]
  },
  {
   "cell_type": "code",
   "execution_count": 10,
   "id": "a7d77286-7b01-436d-bbfb-754aeb2117d1",
   "metadata": {},
   "outputs": [],
   "source": [
    "card1,card2=cards"
   ]
  },
  {
   "cell_type": "code",
   "execution_count": 11,
   "id": "2df69aae-e163-4874-8cf2-27506436bda8",
   "metadata": {},
   "outputs": [
    {
     "data": {
      "text/plain": [
       "4"
      ]
     },
     "execution_count": 11,
     "metadata": {},
     "output_type": "execute_result"
    }
   ],
   "source": [
    "card2.rank"
   ]
  },
  {
   "cell_type": "code",
   "execution_count": 12,
   "id": "57367947-7ec4-4f08-a417-7902fd1c74c1",
   "metadata": {},
   "outputs": [
    {
     "data": {
      "text/plain": [
       "12"
      ]
     },
     "execution_count": 12,
     "metadata": {},
     "output_type": "execute_result"
    }
   ],
   "source": [
    "card1.rank"
   ]
  },
  {
   "cell_type": "code",
   "execution_count": null,
   "id": "25978d2f-1542-46f1-81d5-aa4b170eb175",
   "metadata": {},
   "outputs": [],
   "source": []
  },
  {
   "cell_type": "code",
   "execution_count": 7,
   "id": "1c78cb3c-ad23-49a9-98ab-22efc1a98d68",
   "metadata": {},
   "outputs": [],
   "source": [
    "def initial_state():\n",
    "    deck=makedeck()\n",
    "    player1_hand=deal(deck,2)\n",
    "    player2_hand=deal(deck,2)\n",
    "\n",
    "    state=[player1_hand,player2_hand,deck]\n",
    "    return state"
   ]
  },
  {
   "cell_type": "code",
   "execution_count": 8,
   "id": "718ebdce-8ccf-49f4-b7f2-d7519e233e22",
   "metadata": {},
   "outputs": [
    {
     "name": "stdout",
     "output_type": "stream",
     "text": [
      "[['9S', '10D'], ['KS', '8D'], ['JC', '7H', 'AS', 'QS', '4S', 'QH', '7D', '3C', 'JD', '8C', '10C', '2S', 'QD', '10S', 'KH', '2C', '6C', '5D', '5H', '6S', '4H', '9D', 'JH', '7C', '9H', '3D', '7S', '3S', 'AH', '5S', '4D', '6H', 'AC', '9C', '2D', '8H', '6D', 'AD', '2H', 'QC', '8S', '5C', 'JS', 'KD', 'KC', '3H', '4C', '10H']]\n"
     ]
    }
   ],
   "source": [
    "state=initial_state()\n",
    "print(state)"
   ]
  },
  {
   "cell_type": "code",
   "execution_count": 13,
   "id": "1083bd18-c868-49a2-8c64-3b7879ed97e7",
   "metadata": {},
   "outputs": [],
   "source": [
    "def score(hand):\n",
    "\n",
    "    # go through all the cards\n",
    "    # add the rank to the score if rank <10\n",
    "    # add 10 to the score if rank >=10\n",
    "    # ace is sometimes 11 -- if the score with 11 is <21\n",
    "\n",
    "    total=0\n",
    "    has_ace=False\n",
    "    for card in hand:\n",
    "\n",
    "        if card.rank<10:\n",
    "            total=total+card.rank\n",
    "        else:\n",
    "            total=total+10\n",
    "\n",
    "        if card.rank==1:\n",
    "            has_ace=True\n",
    "\n",
    "\n",
    "    if has_ace and total+10<=21:\n",
    "        total=total+10\n",
    "\n",
    "\n",
    "    return total"
   ]
  },
  {
   "cell_type": "code",
   "execution_count": 18,
   "id": "8f5257dc-18d5-444c-b4f6-07b990ba347d",
   "metadata": {},
   "outputs": [
    {
     "name": "stdout",
     "output_type": "stream",
     "text": [
      "10C QD\n",
      "20\n"
     ]
    }
   ],
   "source": [
    "deck=makedeck()\n",
    "cards=deal(deck,randint(2,5))\n",
    "print(cards)\n",
    "print(score(cards))"
   ]
  },
  {
   "cell_type": "code",
   "execution_count": 19,
   "id": "f093019b-1d09-462a-b0c8-0cc8d90ce7f1",
   "metadata": {},
   "outputs": [],
   "source": [
    "def state_to_observation(state,player):\n",
    "    player1_hand,player2_hand,deck=state\n",
    "\n",
    "    if player==1:\n",
    "        observation=player1_hand,player2_hand[1:]\n",
    "\n",
    "    elif player==2:\n",
    "        observation=player2_hand,player1_hand[1:]\n",
    "\n",
    "    else:\n",
    "        raise ValueError    \n",
    "\n",
    "\n",
    "    return observation"
   ]
  },
  {
   "cell_type": "code",
   "execution_count": 20,
   "id": "30cb0c50-e442-43a5-a833-3fd1861308bf",
   "metadata": {},
   "outputs": [
    {
     "name": "stdout",
     "output_type": "stream",
     "text": [
      "player 1 hand: 10C 7C 4H QS\n",
      "31\n",
      "player 2 hand: 7D 3D\n",
      "10\n",
      "player 1 sees:\n",
      "(['10C', '7C', '4H', 'QS'], ['3D'])\n",
      "player 2 sees:\n",
      "(['7D', '3D'], ['7C', '4H', 'QS'])\n"
     ]
    }
   ],
   "source": [
    "deck=makedeck()\n",
    "player1_hand=deal(deck,randint(2,5))\n",
    "player2_hand=deal(deck,randint(2,5))\n",
    "print('player 1 hand:',player1_hand)\n",
    "print(score(player1_hand))\n",
    "print('player 2 hand:',player2_hand)\n",
    "print(score(player2_hand))\n",
    "state=[player1_hand,player2_hand,deck]\n",
    "print(\"player 1 sees:\")\n",
    "print(state_to_observation(state,1))\n",
    "print(\"player 2 sees:\")\n",
    "print(state_to_observation(state,2))"
   ]
  },
  {
   "cell_type": "code",
   "execution_count": null,
   "id": "25655280-c0c6-4f4e-8fed-27c8c23de32f",
   "metadata": {},
   "outputs": [],
   "source": []
  }
 ],
 "metadata": {
  "kernelspec": {
   "display_name": "Python 3 (ipykernel)",
   "language": "python",
   "name": "python3"
  },
  "language_info": {
   "codemirror_mode": {
    "name": "ipython",
    "version": 3
   },
   "file_extension": ".py",
   "mimetype": "text/x-python",
   "name": "python",
   "nbconvert_exporter": "python",
   "pygments_lexer": "ipython3",
   "version": "3.12.6"
  }
 },
 "nbformat": 4,
 "nbformat_minor": 5
}
