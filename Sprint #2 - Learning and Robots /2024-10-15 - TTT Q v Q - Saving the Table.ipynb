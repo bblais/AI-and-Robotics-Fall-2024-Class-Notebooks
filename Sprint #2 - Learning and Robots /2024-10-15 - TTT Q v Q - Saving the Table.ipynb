{
 "cells": [
  {
   "cell_type": "code",
   "execution_count": 1,
   "id": "63c4c0d5-5ddf-4985-a1dd-c063338e091c",
   "metadata": {},
   "outputs": [
    {
     "name": "stdout",
     "output_type": "stream",
     "text": [
      "Version:  0.3.04\n"
     ]
    }
   ],
   "source": [
    "from Game import *\n",
    "from Game.minimax import *\n",
    "from tqdm import tqdm"
   ]
  },
  {
   "cell_type": "markdown",
   "id": "2bb415b0-d300-4fb5-831a-b5f4709a8777",
   "metadata": {},
   "source": [
    "## TTT"
   ]
  },
  {
   "cell_type": "code",
   "execution_count": 2,
   "id": "df762937-286f-428a-bf96-65030d88641a",
   "metadata": {},
   "outputs": [],
   "source": [
    "def initial_state():\n",
    "    return Board(3,3)\n",
    "\n",
    "def count_pieces(state):\n",
    "    count=0\n",
    "    for location in range(9):\n",
    "        if state[location]!=0:\n",
    "            count=count+1\n",
    "            \n",
    "    return count\n",
    "\n",
    "def row(state,location):\n",
    "    r,c=state.rc_from_index(location)\n",
    "    return r\n",
    "def col(state,location):\n",
    "    r,c=state.rc_from_index(location)\n",
    "    return c\n",
    "\n",
    "def valid_moves(state,player):\n",
    "    \n",
    "    moves=[]\n",
    "    \n",
    "    if count_pieces(state)<9:  # placement - temporaily set to 9 to behave like ttt\n",
    "        # placement\n",
    "        for location in range(9): \n",
    "            if state[location]==0:\n",
    "                moves.append(location)\n",
    "    else:\n",
    "        # sliding\n",
    "        for start in range(9):\n",
    "            if state[start]!=player:\n",
    "                continue\n",
    "\n",
    "            rs,cs=row(state,start),col(state,start)\n",
    "\n",
    "            for location in range(9):\n",
    "                end=None\n",
    "\n",
    "                r,c=row(state,location),col(state,location)\n",
    "\n",
    "                if state[location]==0:\n",
    "\n",
    "                    if r-rs==1 and c-cs==0:  # vertical\n",
    "                        end=location\n",
    "                    if r-rs==-1 and c-cs==0:  # vertical\n",
    "                        end=location\n",
    "                    if r-rs==0 and c-cs==1:  # horizontal\n",
    "                        end=location\n",
    "                    if r-rs==0 and c-cs==-1:  # horizontal\n",
    "                        end=location\n",
    "                    if r-rs==1 and c-cs==1:  # diagonal\n",
    "                        end=location\n",
    "                    if r-rs==-1 and c-cs==-1:  # diagonal\n",
    "                        end=location\n",
    "                    if r-rs==1 and c-cs==-1:  # diagonal\n",
    "                        end=location\n",
    "                    if r-rs==-1 and c-cs==1:  # diagonal\n",
    "                        end=location\n",
    "\n",
    "                    if not end is None:\n",
    "                        moves.append([start,end])\n",
    "                pass\n",
    "\n",
    "        \n",
    "    return moves\n",
    "    \n",
    "    \n",
    "def update_state(state,player,move):\n",
    "    if isinstance(move,int):  # placement\n",
    "        new_state=state\n",
    "        new_state[move]=player\n",
    "        \n",
    "    else:  # sliding\n",
    "        start,end=move\n",
    "        new_state=state\n",
    "        new_state[start]=0\n",
    "        new_state[end]=player\n",
    "        \n",
    "    return new_state\n",
    "\n",
    "def win_status(state,player):\n",
    "    # 0  1  2 \n",
    "    # 3  4  5 \n",
    "    # 6  7  8 \n",
    "\n",
    "    if player==1:\n",
    "        other_player=2\n",
    "    else:\n",
    "        other_player=1\n",
    "    \n",
    "    if state[0]==state[1]==state[2]==player:\n",
    "        return \"win\"\n",
    "    if state[3]==state[4]==state[5]==player:\n",
    "        return \"win\"\n",
    "    if state[6]==state[7]==state[8]==player:\n",
    "        return \"win\"\n",
    "    if state[0]==state[3]==state[6]==player:\n",
    "        return \"win\"\n",
    "    if state[1]==state[4]==state[7]==player:\n",
    "        return \"win\"\n",
    "    if state[2]==state[5]==state[8]==player:\n",
    "        return \"win\"\n",
    "    if state[0]==state[4]==state[8]==player:\n",
    "        return \"win\"\n",
    "    if state[6]==state[4]==state[2]==player:\n",
    "        return \"win\"\n",
    "    \n",
    "    if not valid_moves(state,other_player):\n",
    "        return \"stalemate\"\n",
    "    \n",
    "    return None\n",
    "\n",
    "def show_state(state,player):\n",
    "    print(state)"
   ]
  },
  {
   "cell_type": "markdown",
   "id": "ac7114f5-a741-445e-a069-79f82bab0324",
   "metadata": {},
   "source": [
    "## Agents"
   ]
  },
  {
   "cell_type": "code",
   "execution_count": 3,
   "id": "c2c0fa9e-e1c1-437b-91a1-a7dc4deb9a1a",
   "metadata": {},
   "outputs": [],
   "source": [
    "def random_move(state,player):    \n",
    "    moves=valid_moves(state,player)\n",
    "    return random.choice(moves)\n",
    "\n",
    "random_agent=Agent(random_move)\n",
    "\n",
    "def human_move(state,player):\n",
    "    print(\"Player \", player)\n",
    "    valid_move=False\n",
    "    while not valid_move:\n",
    "        move=int(input('What is your move? '))\n",
    "\n",
    "        if move in valid_moves(state,player):\n",
    "            valid_move=True\n",
    "        else:\n",
    "            print(\"Illegal move.\")\n",
    "\n",
    "    return move\n",
    "human_agent=Agent(human_move)\n"
   ]
  },
  {
   "cell_type": "markdown",
   "id": "7ddc491e-c3fd-4964-a098-84562bc99633",
   "metadata": {},
   "source": [
    "## Q Agent"
   ]
  },
  {
   "cell_type": "code",
   "execution_count": 4,
   "id": "5d748909-b9f1-45b6-b737-3424a2b17c86",
   "metadata": {},
   "outputs": [],
   "source": [
    "def Q_move(state,player,info):\n",
    "    Q=info.Q\n",
    "    last_state=info.last_state\n",
    "    last_action=info.last_action\n",
    "    learning=info.learning\n",
    "    \n",
    "    α=info.α  # learning rate\n",
    "    ϵ=info.ϵ  # how often to take a random move\n",
    "    γ=info.γ  # memory constant -- how quickly does the table update back in time (earlier in the game)\n",
    "    \n",
    "    # \\alpha <hit tab>    α\n",
    "    # \\epsilon <hit tab>  ϵ\n",
    "    # \\gamma <hit tab>    γ\n",
    "    \n",
    "    if state not in Q:\n",
    "        actions=valid_moves(state,player)\n",
    "        Q[state]=Table()\n",
    "        for action in actions:\n",
    "            Q[state][action]=0  # initial value of table\n",
    "    \n",
    "    if learning:\n",
    "        if random.random()<ϵ:  # take a random move occasionally to explore the environment\n",
    "            move=random_move(state,player)\n",
    "        else:\n",
    "            move=top_choice(Q[state])\n",
    "    else:\n",
    "        move=top_choice(Q[state])\n",
    "    \n",
    "    if not last_action is None:  # not the first move\n",
    "        reward=0\n",
    "        \n",
    "        # learn\n",
    "        if learning:\n",
    "            Q[last_state][last_action]+=α*(reward +\n",
    "                        γ*max([Q[state][a] for a in Q[state]]) - Q[last_state][last_action])\n",
    "    \n",
    "    return move"
   ]
  },
  {
   "cell_type": "code",
   "execution_count": 5,
   "id": "f7d09a48-6bd5-4adc-94a2-26a6a0f516f2",
   "metadata": {},
   "outputs": [],
   "source": [
    "def Q_after(status,player,info):\n",
    "    Q=info.Q\n",
    "    last_state=info.last_state\n",
    "    last_action=info.last_action\n",
    "    learning=info.learning\n",
    "    \n",
    "    α=info.α  # learning rate\n",
    "    ϵ=info.ϵ  # how often to take a random move\n",
    "    γ=info.γ  # memory constant -- how quickly does the table update back in time (earlier in the game)\n",
    "    \n",
    "    # \\alpha <hit tab>    α\n",
    "    # \\epsilon <hit tab>  ϵ\n",
    "    # \\gamma <hit tab>    γ\n",
    "\n",
    "    if status=='lose':\n",
    "        reward=-1\n",
    "    elif status=='win':\n",
    "        reward=1\n",
    "    elif status=='stalemate':\n",
    "        reward=.5 # value stalemate a little closer to a win\n",
    "    else:\n",
    "        reward=0\n",
    "    \n",
    "    \n",
    "    if learning:\n",
    "        Q[last_state][last_action]+=α*(reward - Q[last_state][last_action])\n",
    "        \n"
   ]
  },
  {
   "cell_type": "code",
   "execution_count": 6,
   "id": "1fde9c92-0746-454d-a6e3-ea9225295cf5",
   "metadata": {},
   "outputs": [],
   "source": [
    "Q1_agent=Agent(Q_move)\n",
    "Q1_agent.post=Q_after\n",
    "Q1_agent.Q=Table()  # makes an empty table\n",
    "Q1_agent.learning=True\n",
    "\n",
    "Q1_agent.α=0.4  # learning rate\n",
    "Q1_agent.ϵ=0.5  # how often to take a random move\n",
    "Q1_agent.γ=0.9  # memory constant -- how quickly does the table update back in time (earlier in the game)"
   ]
  },
  {
   "cell_type": "code",
   "execution_count": 7,
   "id": "d94b6480-6cad-413d-b431-a6fb15c30125",
   "metadata": {},
   "outputs": [],
   "source": [
    "Q2_agent=Agent(Q_move)\n",
    "Q2_agent.post=Q_after\n",
    "Q2_agent.Q=Table()  # makes an empty table\n",
    "Q2_agent.learning=True\n",
    "\n",
    "Q2_agent.α=0.4  # learning rate\n",
    "Q2_agent.ϵ=0.5  # how often to take a random move\n",
    "Q2_agent.γ=0.9  # memory constant -- how quickly does the table update back in time (earlier in the game)"
   ]
  },
  {
   "cell_type": "markdown",
   "id": "ca6273af-f03f-44a0-b851-710ada601607",
   "metadata": {},
   "source": [
    "## Training"
   ]
  },
  {
   "cell_type": "code",
   "execution_count": 8,
   "id": "49a29bdb-37af-4a7d-bfa4-04ce2ff6b4a1",
   "metadata": {},
   "outputs": [],
   "source": [
    "agent1=Q1_agent\n",
    "agent1.Q=Table()\n",
    "agent2=Q2_agent\n",
    "agent2.Q=Table()"
   ]
  },
  {
   "cell_type": "code",
   "execution_count": 9,
   "id": "bb639662-dcda-49d8-ad52-f9c808bb048c",
   "metadata": {},
   "outputs": [],
   "source": [
    "S=Storage()\n",
    "one,two,ties,N=0,0,0,0"
   ]
  },
  {
   "cell_type": "code",
   "execution_count": 10,
   "id": "d02256fd-3724-4d16-bb2a-e62f7f7ca2b4",
   "metadata": {},
   "outputs": [],
   "source": [
    "N_test=100\n",
    "N_train=100"
   ]
  },
  {
   "cell_type": "code",
   "execution_count": 11,
   "id": "42c96ea4-11a4-4d17-8c72-3469ed01dd89",
   "metadata": {},
   "outputs": [
    {
     "name": "stderr",
     "output_type": "stream",
     "text": [
      "100%|███████████████████████████████████████████████████████████████| 200/200 [00:21<00:00,  9.33it/s]\n"
     ]
    }
   ],
   "source": [
    "for i in tqdm(range(200)):\n",
    "    Q1_agent.learning=True\n",
    "    Q2_agent.learning=True\n",
    "    g=Game(number_of_games=N_train)\n",
    "    g.display=False\n",
    "    result=g.run(agent1,agent2)\n",
    "\n",
    "    \n",
    "    Q1_agent.learning=False\n",
    "    Q2_agent.learning=False\n",
    "    g=Game(number_of_games=N_test)\n",
    "    g.display=False\n",
    "    result=g.run(agent1,agent2)\n",
    "    one,two,ties,N=one+result.count(1),two+result.count(2),ties+result.count(0),N+len(result)\n",
    "    \n",
    "    S+=one/N*100,two/N*100,ties/N*100,N\n"
   ]
  },
  {
   "cell_type": "markdown",
   "id": "45b01b54-4e98-492e-aa39-0e1dca50d0c9",
   "metadata": {},
   "source": [
    "## Progress"
   ]
  },
  {
   "cell_type": "code",
   "execution_count": 12,
   "id": "61abe046-f504-42b4-bcd4-c76259dc875b",
   "metadata": {},
   "outputs": [],
   "source": [
    "y1,y2,y0,x=S.arrays()"
   ]
  },
  {
   "cell_type": "code",
   "execution_count": 13,
   "id": "3bd35428-9e6a-4e22-941c-aac49e4d5208",
   "metadata": {},
   "outputs": [],
   "source": [
    "%matplotlib inline\n",
    "from matplotlib.pyplot import figure,plot,grid,legend,xlabel,ylabel,title"
   ]
  },
  {
   "cell_type": "code",
   "execution_count": 14,
   "id": "04bd326c-da2b-4e91-a966-08715e1f0e13",
   "metadata": {},
   "outputs": [
    {
     "data": {
      "text/plain": [
       "Text(0, 0.5, 'Percent')"
      ]
     },
     "execution_count": 14,
     "metadata": {},
     "output_type": "execute_result"
    },
    {
     "data": {
      "image/png": "[encoded data removed]",
      "text/plain": [
       "<Figure size 1600x800 with 1 Axes>"
      ]
     },
     "metadata": {},
     "output_type": "display_data"
    }
   ],
   "source": [
    "figure(figsize=(16,8))\n",
    "plot(x,y1,label='One Win')\n",
    "plot(x,y2,label='Two Win')\n",
    "plot(x,y0,label='Tie')\n",
    "legend()\n",
    "xlabel('Number of Games')\n",
    "ylabel('Percent')"
   ]
  },
  {
   "cell_type": "code",
   "execution_count": 16,
   "id": "f294cc1e-dc37-47ff-ad17-a822ed8d727a",
   "metadata": {},
   "outputs": [],
   "source": [
    "SaveTable(Q1_agent.Q,'2024-10-15 TTT Q1 Table.json')\n",
    "SaveTable(Q2_agent.Q,'2024-10-15 TTT Q2 Table.json')"
   ]
  },
  {
   "cell_type": "code",
   "execution_count": null,
   "id": "c1c42f94-1817-4147-bd56-96ffc07b75ec",
   "metadata": {},
   "outputs": [],
   "source": []
  }
 ],
 "metadata": {
  "kernelspec": {
   "display_name": "Python 3 (ipykernel)",
   "language": "python",
   "name": "python3"
  },
  "language_info": {
   "codemirror_mode": {
    "name": "ipython",
    "version": 3
   },
   "file_extension": ".py",
   "mimetype": "text/x-python",
   "name": "python",
   "nbconvert_exporter": "python",
   "pygments_lexer": "ipython3",
   "version": "3.12.6"
  }
 },
 "nbformat": 4,
 "nbformat_minor": 5
}
