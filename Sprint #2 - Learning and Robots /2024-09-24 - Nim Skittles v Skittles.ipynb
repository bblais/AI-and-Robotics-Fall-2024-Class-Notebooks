{
 "cells": [
  {
   "cell_type": "code",
   "execution_count": null,
   "id": "5e9ad7e1-6b67-470e-a267-1cf507e5ae0a",
   "metadata": {},
   "outputs": [
    {
     "name": "stdout",
     "output_type": "stream",
     "text": [
      "Version:  0.3.02\n"
     ]
    }
   ],
   "source": [
    "from Game import *\n",
    "from Game.minimax import *"
   ]
  },
  {
   "cell_type": "markdown",
   "id": "37a58b7b-b93f-4086-a0c3-6fc12c45f1dd",
   "metadata": {},
   "source": [
    "## Nim "
   ]
  },
  {
   "cell_type": "code",
   "execution_count": null,
   "id": "ed7923e5-3f6a-4fc2-bbb6-dff254f0cf99",
   "metadata": {},
   "outputs": [],
   "source": [
    "def initial_state(): \n",
    "    \"\"\" returns  - The initial state of the game\"\"\"\n",
    "    return 21\n",
    "\n",
    "def valid_moves(state,player):\n",
    "    \"\"\"returns  - a list of the valid moves for the state and player\"\"\"\n",
    "\n",
    "    if state==2:\n",
    "        return [1,2]\n",
    "    elif state==1:\n",
    "        return [1]\n",
    "    else:\n",
    "        return [1,2,3]\n",
    "\n",
    "def show_state(state,player):\n",
    "    \"\"\"prints or shows the current state\"\"\"\n",
    "    print(f\"There are >>{state} sticks<<< for player {player}.\")\n",
    "\n",
    "def update_state(state,player,move):\n",
    "    \"\"\"returns  - the new state after the move for the player\"\"\"\n",
    "\n",
    "    new_state=state-move\n",
    "\n",
    "    return new_state\n",
    "\n",
    "\n",
    "def win_status(state,player):\n",
    "    \"\"\"    returns  - 'win'  if the state is a winning state for the player, \n",
    "               'lose' if the state is a losing state for the player,\n",
    "               'stalemate' for a stalemate\n",
    "               None otherwise\n",
    "    \"\"\"\n",
    "\n",
    "    if state==0:\n",
    "        return 'lose'\n",
    "\n",
    "    if state==1:\n",
    "        return 'win'\n",
    "\n",
    "\n",
    "    return None\n",
    "    \n"
   ]
  },
  {
   "cell_type": "markdown",
   "id": "9be501f9-9d82-47a1-be10-b330571f3ec7",
   "metadata": {},
   "source": [
    "## Agents"
   ]
  },
  {
   "cell_type": "code",
   "execution_count": null,
   "id": "27a364b6-2c01-433a-95fb-79e2597e9517",
   "metadata": {},
   "outputs": [],
   "source": [
    "def random_move(state,player):    \n",
    "    moves=valid_moves(state,player)\n",
    "    return random.choice(moves)\n",
    "\n",
    "random_agent=Agent(random_move)\n",
    "\n",
    "def human_move(state,player):\n",
    "    print(\"Player \", player)\n",
    "    valid_move=False\n",
    "    while not valid_move:\n",
    "        move=int(input('What is your move? '))\n",
    "\n",
    "        if move in valid_moves(state,player):\n",
    "            valid_move=True\n",
    "        else:\n",
    "            print(\"Illegal move.\")\n",
    "\n",
    "    return move\n",
    "\n",
    "human_agent=Agent(human_move)"
   ]
  },
  {
   "cell_type": "code",
   "execution_count": null,
   "id": "2463820f-5620-422f-86ea-e577570b400b",
   "metadata": {},
   "outputs": [],
   "source": [
    "def minimax_move(state,player):\n",
    "    values,moves=minimax_values(state,player,display=False)\n",
    "    return top_choice(moves,values)\n",
    "\n",
    "\n",
    "minimax_agent=Agent(minimax_move)"
   ]
  },
  {
   "cell_type": "code",
   "execution_count": null,
   "id": "c9394387-72cc-48b6-94b8-cd555fbeb831",
   "metadata": {},
   "outputs": [],
   "source": []
  },
  {
   "cell_type": "code",
   "execution_count": null,
   "id": "a6d6a508-6eb5-4b38-9901-2f4df211887d",
   "metadata": {},
   "outputs": [],
   "source": [
    "def skittles_move(state,player,info):\n",
    "    S=info.S\n",
    "    last_state=info.last_state\n",
    "    last_action=info.last_action\n",
    "    verbose=info.verbose\n",
    "\n",
    "    \n",
    "    if verbose:\n",
    "        print(\"\\t\",\"Player \",player,\" is thinking...\")\n",
    "        print(\"\\t\",\"State: \",state)\n",
    "        print(\"\\t\",\"Table:\",S)\n",
    "        print(\"\\t\",\"Last state,action: \",last_state,last_action)\n",
    "    \n",
    "    # make/adjust the table\n",
    "\n",
    "    if state not in S:\n",
    "        # add a row to the table for each move\n",
    "        S[state]=Table()\n",
    "        moves=valid_moves(state,player)\n",
    "        for action in moves:\n",
    "            S[state][action]=3  # number of skittles/beads for each move\n",
    "    \n",
    "        if verbose:\n",
    "            print(\"\\t\",\"State \",state,\"unknown...added to table\")\n",
    "            print(\"\\t\",\"Table\",S)\n",
    "    \n",
    "    move=weighted_choice(S[state])\n",
    "    if verbose:\n",
    "        print(\"\\t\",\"Choosing from S[\",state,\"]\",S[state],\"....Move: \",move)\n",
    "\n",
    "    if move is None:  # there are no skittles in this row\n",
    "        if last_state:\n",
    "            if verbose:\n",
    "                print(\"\\t\",\"No possible moves!\")\n",
    "                print(\"\\t\",\"Modifying the table: removing one skittle from (state,action) \",last_state,last_action)\n",
    "            S[last_state][last_action]=S[last_state][last_action]-1\n",
    "            \n",
    "            if verbose:\n",
    "                print(\"\\t\",\"Table:\",S)\n",
    "                \n",
    "            if S[last_state][last_action]<0:                \n",
    "                S[last_state][last_action]=0\n",
    "                if verbose:\n",
    "                    print(\"\\t\",\"Negative skittles...fixing.\")\n",
    "                    print(\"\\t\",\"Table:\",S)                \n",
    "        else:\n",
    "            if verbose:\n",
    "                print(\"\\t\",\"Started in a bad state \",state,\"with no moves and no last state.  Won't modify table.\")\n",
    "                  \n",
    "                  \n",
    "\n",
    "        move=random_move(state,player)\n",
    "\n",
    "    \n",
    "    return move\n",
    "\n",
    "def skittles_after(status,player,info):\n",
    "    S=info.S\n",
    "    last_state=info.last_state\n",
    "    last_action=info.last_action\n",
    "    verbose=info.verbose\n",
    "\n",
    "    if verbose:\n",
    "        print(\"\\t\",\"End of Game adjustments\")\n",
    "        print(\"\\t\",\"Player \",player,\" is thinking...\")\n",
    "        print(\"\\t\",\"Win Status: \",status)\n",
    "        print(\"\\t\",\"Table:\",S)\n",
    "        print(\"\\t\",\"Last state,action: \",last_state,last_action)\n",
    "        \n",
    "    if status=='lose':\n",
    "        if last_state:\n",
    "            S[last_state][last_action]=S[last_state][last_action]-1\n",
    "            if S[last_state][last_action]<0:\n",
    "                S[last_state][last_action]=0\n",
    "                \n",
    "            if verbose:\n",
    "                print(\"\\t\",\"Modifying the table: removing one skittle from (state,action) \",last_state,last_action)\n",
    "                print(\"\\t\",\"Table:\",S)\n",
    "\n",
    "                \n",
    "        else:\n",
    "            if verbose:\n",
    "                print(\"\\t\",\"No last state, so nothing to learn.\")\n",
    "            \n",
    "                \n",
    "    else:\n",
    "        if verbose:\n",
    "            print(\"\\t\",\"No adjustments needed.\")\n",
    "        \n",
    "    # does this double-count the learning if you lose on your own turn        \n",
    "    "
   ]
  },
  {
   "cell_type": "code",
   "execution_count": null,
   "id": "02ad0b1c-8edd-4790-bcf0-9afc60ce62ca",
   "metadata": {},
   "outputs": [],
   "source": [
    "skittles_agent1=Agent(skittles_move)\n",
    "skittles_agent1.S=Table()\n",
    "skittles_agent1.post=skittles_after\n",
    "skittles_agent1.verbose=False\n",
    "\n",
    "skittles_agent2=Agent(skittles_move)\n",
    "skittles_agent2.S=Table()\n",
    "skittles_agent2.post=skittles_after\n",
    "skittles_agent2.verbose=False"
   ]
  },
  {
   "cell_type": "code",
   "execution_count": null,
   "id": "43171fd2-f23c-4aa2-ade8-185b1aa59c4f",
   "metadata": {},
   "outputs": [],
   "source": [
    "def perfect_move(state,player):\n",
    "    move=(state-1)%4\n",
    "\n",
    "    if move==0:  # bad state\n",
    "        move=1\n",
    "\n",
    "    return move\n",
    "\n",
    "perfect_agent=Agent(perfect_move)"
   ]
  },
  {
   "cell_type": "code",
   "execution_count": null,
   "id": "2fae4c57-7232-4909-8cac-99cb02dba4bf",
   "metadata": {},
   "outputs": [],
   "source": []
  },
  {
   "cell_type": "code",
   "execution_count": null,
   "id": "76034b53-9a65-4ca9-9500-99804b847fde",
   "metadata": {},
   "outputs": [
    {
     "name": "stdout",
     "output_type": "stream",
     "text": [
      "====\n",
      "Game  1\n",
      "There are >>21 sticks<<< for player 1.\n",
      "Player 1 moves 2\n",
      "There are >>19 sticks<<< for player 2.\n",
      "Player 2 moves 2\n",
      "There are >>17 sticks<<< for player 1.\n",
      "Player 1 moves 3\n",
      "There are >>14 sticks<<< for player 2.\n",
      "Player 2 moves 2\n",
      "There are >>12 sticks<<< for player 1.\n",
      "Player 1 moves 2\n",
      "There are >>10 sticks<<< for player 2.\n",
      "Player 2 moves 2\n",
      "There are >>8 sticks<<< for player 1.\n",
      "Player 1 moves 3\n",
      "There are >>5 sticks<<< for player 2.\n",
      "Player 2 moves 2\n",
      "There are >>3 sticks<<< for player 1.\n",
      "Player 1 moves 1\n",
      "There are >>2 sticks<<< for player 2.\n",
      "Player 2 moves 1\n",
      "There are >>1 sticks<<< for player 2.\n",
      "Player  2 won.\n"
     ]
    },
    {
     "data": {
      "text/plain": [
       "[2]"
      ]
     },
     "execution_count": null,
     "metadata": {},
     "output_type": "execute_result"
    }
   ],
   "source": [
    "g=Game()\n",
    "g.run(skittles_agent1,skittles_agent2)"
   ]
  },
  {
   "cell_type": "code",
   "execution_count": null,
   "id": "155f17fb-ed6d-4d51-b485-833b81d61a6d",
   "metadata": {},
   "outputs": [],
   "source": [
    "SaveTable(skittles_agent1.S,'nim skittles1.json')\n",
    "SaveTable(skittles_agent2.S,'nim skittles2.json')"
   ]
  },
  {
   "cell_type": "code",
   "execution_count": null,
   "id": "b7e1cb7f-202a-4299-9abe-ac298fb09dab",
   "metadata": {},
   "outputs": [],
   "source": [
    "%matplotlib inline\n",
    "from matplotlib.pyplot import figure,plot,grid,legend,xlabel,ylabel,title\n",
    "from tqdm.notebook import tqdm"
   ]
  },
  {
   "cell_type": "code",
   "execution_count": null,
   "id": "dbe1f934-5fa5-47aa-85d0-1a60361a8e41",
   "metadata": {},
   "outputs": [],
   "source": [
    "agent1=skittles_agent1\n",
    "agent1.S=Table()\n",
    "\n",
    "agent2=skittles_agent2\n",
    "agent2.S=Table()"
   ]
  },
  {
   "cell_type": "code",
   "execution_count": null,
   "id": "4712f8ab-ab5d-4d36-8611-83d0f94fe2df",
   "metadata": {},
   "outputs": [],
   "source": [
    "S=Storage()\n",
    "one,two,ties,N=0,0,0,0"
   ]
  },
  {
   "cell_type": "code",
   "execution_count": null,
   "id": "3eb953a2-6bc8-4e0d-8c04-d600683f5fef",
   "metadata": {},
   "outputs": [
    {
     "data": {
      "application/vnd.jupyter.widget-view+json": {
       "model_id": "2583fbd763f44a0fbe1fb33fdc02c256",
       "version_major": 2,
       "version_minor": 0
      },
      "text/plain": [
       "  0%|          | 0/30 [00:00<?, ?it/s]"
      ]
     },
     "metadata": {},
     "output_type": "display_data"
    }
   ],
   "source": [
    "for i in tqdm(range(30)):\n",
    "    g=Game(number_of_games=100)\n",
    "    g.display=False\n",
    "    \n",
    "    result=g.run(agent1,agent2)\n",
    "    one,two,ties,N=one+result.count(1),two+result.count(2),ties+result.count(0),N+len(result)\n",
    "    \n",
    "    S+=one/N*100,two/N*100,ties/N*100,N\n",
    "    \n",
    "y1,y2,y0,x=S.arrays()    "
   ]
  },
  {
   "cell_type": "code",
   "execution_count": null,
   "id": "10d99c9b-a222-4ace-9449-0b2cfee896c9",
   "metadata": {},
   "outputs": [
    {
     "data": {
      "text/plain": [
       "Text(0, 0.5, 'Percent')"
      ]
     },
     "execution_count": null,
     "metadata": {},
     "output_type": "execute_result"
    },
    {
     "data": {
      "image/png": "[encoded data removed]",
      "text/plain": [
       "<Figure size 1600x800 with 1 Axes>"
      ]
     },
     "metadata": {},
     "output_type": "display_data"
    }
   ],
   "source": [
    "figure(figsize=(16,8))\n",
    "plot(x,y1,label='One Win')\n",
    "plot(x,y2,label='Two Win')\n",
    "plot(x,y0,label='Tie')\n",
    "legend()\n",
    "xlabel('Number of Games')\n",
    "ylabel('Percent')"
   ]
  },
  {
   "cell_type": "code",
   "execution_count": null,
   "id": "191eabd6-4bdd-4821-9ea1-ea5686c5dd7c",
   "metadata": {},
   "outputs": [],
   "source": [
    "SaveTable(skittles_agent1.S,'nim skittles1.json')\n",
    "SaveTable(skittles_agent2.S,'nim skittles2.json')"
   ]
  },
  {
   "cell_type": "markdown",
   "id": "503b608e-dbb7-486c-975c-50d0d7156236",
   "metadata": {},
   "source": [
    "## Test the agent"
   ]
  },
  {
   "cell_type": "code",
   "execution_count": null,
   "id": "7668d1bb-6f2d-4f97-987c-789709f78f10",
   "metadata": {},
   "outputs": [
    {
     "name": "stdout",
     "output_type": "stream",
     "text": [
      "====\n",
      "Game  1\n",
      "There are >>21 sticks<<< for player 1.\n",
      "Player  1\n"
     ]
    },
    {
     "name": "stdin",
     "output_type": "stream",
     "text": [
      "What is your move?  1\n"
     ]
    },
    {
     "name": "stdout",
     "output_type": "stream",
     "text": [
      "Player 1 moves 1\n",
      "There are >>20 sticks<<< for player 2.\n",
      "Player 2 moves 3\n",
      "There are >>17 sticks<<< for player 1.\n",
      "Player  1\n"
     ]
    },
    {
     "name": "stdin",
     "output_type": "stream",
     "text": [
      "What is your move?  2\n"
     ]
    },
    {
     "name": "stdout",
     "output_type": "stream",
     "text": [
      "Player 1 moves 2\n",
      "There are >>15 sticks<<< for player 2.\n",
      "Player 2 moves 2\n",
      "There are >>13 sticks<<< for player 1.\n",
      "Player  1\n"
     ]
    },
    {
     "name": "stdin",
     "output_type": "stream",
     "text": [
      "What is your move?  1\n"
     ]
    },
    {
     "name": "stdout",
     "output_type": "stream",
     "text": [
      "Player 1 moves 1\n",
      "There are >>12 sticks<<< for player 2.\n",
      "Player 2 moves 3\n",
      "There are >>9 sticks<<< for player 1.\n",
      "Player  1\n"
     ]
    },
    {
     "name": "stdin",
     "output_type": "stream",
     "text": [
      "What is your move?  2\n"
     ]
    },
    {
     "name": "stdout",
     "output_type": "stream",
     "text": [
      "Player 1 moves 2\n",
      "There are >>7 sticks<<< for player 2.\n",
      "Player 2 moves 2\n",
      "There are >>5 sticks<<< for player 1.\n",
      "Player  1\n"
     ]
    },
    {
     "name": "stdin",
     "output_type": "stream",
     "text": [
      "What is your move?  1\n"
     ]
    },
    {
     "name": "stdout",
     "output_type": "stream",
     "text": [
      "Player 1 moves 1\n",
      "There are >>4 sticks<<< for player 2.\n",
      "Player 2 moves 3\n",
      "There are >>1 sticks<<< for player 2.\n",
      "Player  2 won.\n"
     ]
    },
    {
     "data": {
      "text/plain": [
       "[2]"
      ]
     },
     "execution_count": null,
     "metadata": {},
     "output_type": "execute_result"
    }
   ],
   "source": [
    "g=Game()\n",
    "g.run(human_agent,agent2)"
   ]
  },
  {
   "cell_type": "code",
   "execution_count": null,
   "id": "61a8149c-bb10-4779-a193-8880de614d0c",
   "metadata": {},
   "outputs": [
    {
     "name": "stdout",
     "output_type": "stream",
     "text": [
      "Total number of games:  100\n",
      "Winning 0.00 percent\n",
      "Losing 100.00 percent\n",
      "Tie 0.00 percent\n"
     ]
    }
   ],
   "source": [
    "g=Game(number_of_games=100)\n",
    "g.display=False\n",
    "result=g.run(minimax_agent,agent2)\n",
    "g.report()"
   ]
  },
  {
   "cell_type": "code",
   "execution_count": null,
   "id": "c6901129-359d-4b10-bb7c-f5e1b5a5cc22",
   "metadata": {},
   "outputs": [],
   "source": []
  }
 ],
 "metadata": {
  "kernelspec": {
   "display_name": "python3",
   "language": "python",
   "name": "python3"
  }
 },
 "nbformat": 4,
 "nbformat_minor": 5
}
