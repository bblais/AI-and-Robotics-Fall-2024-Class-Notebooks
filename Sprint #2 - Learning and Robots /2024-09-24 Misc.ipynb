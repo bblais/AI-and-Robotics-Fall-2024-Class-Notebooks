{
 "cells": [
  {
   "cell_type": "code",
   "execution_count": null,
   "id": "84ab5ce6-36da-4da9-99ba-c48af873f96b",
   "metadata": {},
   "outputs": [
    {
     "name": "stdout",
     "output_type": "stream",
     "text": [
      "Version:  0.3.02\n"
     ]
    }
   ],
   "source": [
    "from Game import *"
   ]
  },
  {
   "cell_type": "code",
   "execution_count": null,
   "id": "5e3dcfb6-9e8f-41e0-93db-3ac4755a4325",
   "metadata": {},
   "outputs": [
    {
     "data": {
      "text/plain": [
       " 0  0  0  0  0 \n",
       " 0  0  0  0  0 \n",
       " 0  0  0  0  0 \n",
       " 0  0  0  0  0 "
      ]
     },
     "execution_count": null,
     "metadata": {},
     "output_type": "execute_result"
    }
   ],
   "source": [
    "state=Board(4,5)\n",
    "state"
   ]
  },
  {
   "cell_type": "code",
   "execution_count": null,
   "id": "eb13b971-1724-4931-9749-69c8aab61a52",
   "metadata": {},
   "outputs": [
    {
     "data": {
      "text/plain": [
       " 1  2  0  0  0 \n",
       " 0  0  0  0  0 \n",
       " 0  0  0  0  0 \n",
       " 0  0  0  0  0 "
      ]
     },
     "execution_count": null,
     "metadata": {},
     "output_type": "execute_result"
    }
   ],
   "source": [
    "state[0]=1\n",
    "state[1]=2\n",
    "\n",
    "\n",
    "state"
   ]
  },
  {
   "cell_type": "code",
   "execution_count": null,
   "id": "1260c68b-ee7d-4457-b661-ca3a36bad4e5",
   "metadata": {},
   "outputs": [],
   "source": [
    "state.board=[2,1,2,2,1,2,1,1,1,1,1,1,1,1,1,2,1,2,2,1]"
   ]
  },
  {
   "cell_type": "code",
   "execution_count": null,
   "id": "2ccf3dde-2809-4e8a-8063-2fe0f2c97164",
   "metadata": {},
   "outputs": [
    {
     "data": {
      "text/plain": [
       " 2  1  2  2  1 \n",
       " 2  1  1  1  1 \n",
       " 1  1  1  1  1 \n",
       " 2  1  2  2  1 "
      ]
     },
     "execution_count": null,
     "metadata": {},
     "output_type": "execute_result"
    }
   ],
   "source": [
    "state"
   ]
  },
  {
   "cell_type": "code",
   "execution_count": null,
   "id": "0b3cc606-342d-48a7-9498-5482c6acdbba",
   "metadata": {},
   "outputs": [],
   "source": [
    "win_status(state,2)"
   ]
  }
 ],
 "metadata": {
  "kernelspec": {
   "display_name": "python3",
   "language": "python",
   "name": "python3"
  }
 },
 "nbformat": 4,
 "nbformat_minor": 5
}
