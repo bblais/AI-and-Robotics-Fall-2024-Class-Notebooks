{
 "cells": [
  {
   "cell_type": "code",
   "execution_count": null,
   "id": "db39ec10-1b9d-4e5c-b4f9-e184ecd696ae",
   "metadata": {},
   "outputs": [],
   "source": [
    "from Game import *"
   ]
  },
  {
   "cell_type": "markdown",
   "id": "80a256d8-c404-424a-b3fb-bc608331c0f5",
   "metadata": {},
   "source": [
    "Four functions to do:\n",
    "\n",
    "1. `initial_state()`   return the state for the start of the game\n",
    "2. `valid_moves(state,player)` return a list of valid moves\n",
    "3. `update_state(state, player, move )` return the new state\n",
    "4. `win_status(state,player)` returns one of `\"win\"`,`\"lose\"`,`\"stalemate\"` or `None`"
   ]
  },
  {
   "cell_type": "markdown",
   "id": "ae9043d2-f7c8-4352-8920-657fd317b51b",
   "metadata": {},
   "source": [
    "- What is state for this game:  single #\n",
    "- What is a move for this game: single #. (1,2, or 3)"
   ]
  },
  {
   "cell_type": "code",
   "execution_count": null,
   "id": "4d3d08f5-15f2-4f00-ab48-4613e9aaa9b5",
   "metadata": {},
   "outputs": [],
   "source": [
    "def initial_state():\n",
    "    return 9"
   ]
  },
  {
   "cell_type": "code",
   "execution_count": null,
   "id": "1b60af6f-037e-489b-8cee-a7edfd46196a",
   "metadata": {},
   "outputs": [],
   "source": [
    "def valid_moves(state,player):\n",
    "    if state==2:\n",
    "        return [1,2]\n",
    "    elif state==1:\n",
    "        return [1]\n",
    "    else:\n",
    "        return [1,2,3 ]"
   ]
  },
  {
   "cell_type": "code",
   "execution_count": null,
   "id": "0bbcc235-5e75-4051-937e-3fd972481bf2",
   "metadata": {},
   "outputs": [],
   "source": [
    "def update_state(state,player,move):\n",
    "    new_state=state-move\n",
    "    return new_state"
   ]
  },
  {
   "cell_type": "code",
   "execution_count": null,
   "id": "9d140e16-37c7-4c3a-81c7-c6ed4d8b00df",
   "metadata": {},
   "outputs": [],
   "source": [
    "def win_status(new_state,player):\n",
    "    \n",
    "    if new_state==1:\n",
    "        return \"win\"\n",
    "    \n",
    "    if new_state==0:\n",
    "        return \"lose\"\n",
    "    \n",
    "    return None\n",
    "    \n",
    "    "
   ]
  },
  {
   "cell_type": "code",
   "execution_count": null,
   "id": "99bcb37e-132a-40a1-9bb4-9a209bbab12e",
   "metadata": {},
   "outputs": [],
   "source": [
    "def show_state(state,player):\n",
    "    print(state)"
   ]
  },
  {
   "cell_type": "markdown",
   "id": "2728d3b7-482a-48d6-bd9c-381dfbb5ae94",
   "metadata": {},
   "source": [
    "## Agents"
   ]
  },
  {
   "cell_type": "code",
   "execution_count": null,
   "id": "b337171a-e5ea-4303-8ff0-50530e9977de",
   "metadata": {},
   "outputs": [],
   "source": [
    "def human_move(state,player):\n",
    "    \n",
    "    while True:\n",
    "        move=eval(input(\"Enter your move\"))\n",
    "\n",
    "        if move not in valid_moves(state,player):\n",
    "            print(\"That is not a valid move\")\n",
    "        else:\n",
    "            break\n",
    "    \n",
    "    return move\n",
    "\n",
    "human_agent=Agent(human_move)"
   ]
  },
  {
   "cell_type": "code",
   "execution_count": null,
   "id": "7e1f34f9-7a34-49c9-b1c9-f229b88a70ac",
   "metadata": {},
   "outputs": [],
   "source": [
    "def monkey_move(state,player):\n",
    "    return random.choice(valid_moves(state,player))\n",
    "monkey_agent=Agent(monkey_move)"
   ]
  },
  {
   "cell_type": "code",
   "execution_count": null,
   "id": "080015b5-8474-4429-97c4-10417876a78e",
   "metadata": {},
   "outputs": [],
   "source": [
    "from Game.minimax import *"
   ]
  },
  {
   "cell_type": "code",
   "execution_count": null,
   "id": "738a1477-93af-409d-9a0f-95c266703877",
   "metadata": {},
   "outputs": [],
   "source": [
    "def minimax_move(state,player):\n",
    "    values,actions=minimax_values(state,player,display=False)\n",
    "    return top_choice(actions,values)\n",
    "minimax_agent=Agent(minimax_move)"
   ]
  },
  {
   "cell_type": "code",
   "execution_count": null,
   "id": "4dd012fd-897a-4908-bac5-caad6b41e489",
   "metadata": {},
   "outputs": [],
   "source": [
    "def table_move(state,player):\n",
    "    \n",
    "    T=Table()\n",
    "    \n",
    "    T[9]=Table()\n",
    "    T[9][1]=-100\n",
    "    T[9][2]=-100\n",
    "    T[9][3]=-100\n",
    "    \n",
    "    T[8]=Table()\n",
    "    T[8][1]=-100\n",
    "    T[8][2]=-100\n",
    "    T[8][3]=+100\n",
    "    \n",
    "    T[7]=Table()\n",
    "    T[7][1]=-100\n",
    "    T[7][2]=+100\n",
    "    T[7][3]=-100\n",
    "\n",
    "    T[6]=Table()\n",
    "    T[6][1]=+100\n",
    "    T[6][2]=-100\n",
    "    T[6][3]=-100\n",
    "\n",
    "    T[5]=Table()\n",
    "    T[5][1]=-100\n",
    "    T[5][2]=-100\n",
    "    T[5][3]=-100\n",
    "    \n",
    "    T[4]=Table()\n",
    "    T[4][1]=-100\n",
    "    T[4][2]=-100\n",
    "    T[4][3]=+100\n",
    "\n",
    "    \n",
    "    T[3]=Table()\n",
    "    T[3][1]=-100\n",
    "    T[3][2]=+100\n",
    "    T[3][3]=-100\n",
    "    \n",
    "\n",
    "    T[2]=Table()\n",
    "    T[2][1]=+100\n",
    "    T[2][2]=-100\n",
    "    \n",
    "\n",
    "    T[1]=Table()\n",
    "    T[1][1]=-100\n",
    "    \n",
    "    \n",
    "    print(\"\\t\",f\"Player {player} at state {state}.\")\n",
    "    print(\"\\t\",\"Table:\",T)\n",
    "    print(\"\\t\",\"Table values at state \",state,\":\",T[state])\n",
    "    \n",
    "    \n",
    "    \n",
    "    \n",
    "    move=top_choice(T[state])\n",
    "    \n",
    "    print(\"\\t\",\"Top choice is \",move)\n",
    "    \n",
    "    return move\n",
    "table_agent=Agent(table_move)"
   ]
  },
  {
   "cell_type": "code",
   "execution_count": null,
   "id": "9687fb2c-81de-4e8b-9f5a-71a06db62c96",
   "metadata": {},
   "outputs": [
    {
     "name": "stdout",
     "output_type": "stream",
     "text": [
      "====\n",
      "Game  1\n",
      "9\n",
      "\t Player 1 at state 9.\n",
      "\t Table: {9: {1: -100, 2: -100, 3: -100}, 8: {1: -100, 2: -100, 3: 100}, 7: {1: -100, 2: 100, 3: -100}, 6: {1: 100, 2: -100, 3: -100}, 5: {1: -100, 2: -100, 3: -100}, 4: {1: -100, 2: -100, 3: 100}, 3: {1: -100, 2: 100, 3: -100}, 2: {1: 100, 2: -100}, 1: {1: -100}}\n",
      "\t Table values at state  9 : {1: -100, 2: -100, 3: -100}\n",
      "\t Top choice is  2\n",
      "Player 1 moves 2\n",
      "7\n",
      "Player 2 moves 1\n",
      "6\n",
      "\t Player 1 at state 6.\n",
      "\t Table: {9: {1: -100, 2: -100, 3: -100}, 8: {1: -100, 2: -100, 3: 100}, 7: {1: -100, 2: 100, 3: -100}, 6: {1: 100, 2: -100, 3: -100}, 5: {1: -100, 2: -100, 3: -100}, 4: {1: -100, 2: -100, 3: 100}, 3: {1: -100, 2: 100, 3: -100}, 2: {1: 100, 2: -100}, 1: {1: -100}}\n",
      "\t Table values at state  6 : {1: 100, 2: -100, 3: -100}\n",
      "\t Top choice is  1\n",
      "Player 1 moves 1\n",
      "5\n",
      "Player 2 moves 1\n",
      "4\n",
      "\t Player 1 at state 4.\n",
      "\t Table: {9: {1: -100, 2: -100, 3: -100}, 8: {1: -100, 2: -100, 3: 100}, 7: {1: -100, 2: 100, 3: -100}, 6: {1: 100, 2: -100, 3: -100}, 5: {1: -100, 2: -100, 3: -100}, 4: {1: -100, 2: -100, 3: 100}, 3: {1: -100, 2: 100, 3: -100}, 2: {1: 100, 2: -100}, 1: {1: -100}}\n",
      "\t Table values at state  4 : {1: -100, 2: -100, 3: 100}\n",
      "\t Top choice is  3\n",
      "Player 1 moves 3\n",
      "1\n",
      "Player  1 won.\n"
     ]
    },
    {
     "data": {
      "text/plain": [
       "[1]"
      ]
     },
     "execution_count": null,
     "metadata": {},
     "output_type": "execute_result"
    }
   ],
   "source": [
    "g=Game()\n",
    "g.run(table_agent,monkey_agent)"
   ]
  },
  {
   "cell_type": "code",
   "execution_count": null,
   "id": "323035cc-b851-449b-af55-53da96b87b53",
   "metadata": {},
   "outputs": [
    {
     "data": {
      "text/plain": [
       "{1: {1: -100},\n",
       " 2: {1: 100, 2: -100},\n",
       " 3: {1: -100, 2: 100, 3: -100},\n",
       " 4: {1: -100, 3: 100, 2: -100},\n",
       " 5: {1: -100, 2: -100, 3: -100},\n",
       " 6: {1: 100, 2: -100, 3: -100},\n",
       " 7: {1: -100, 2: 100, 3: -100},\n",
       " 8: {1: -100, 3: 100, 2: -100},\n",
       " 9: {1: -100, 2: -100, 3: -100},\n",
       " 10: {1: 100, 2: -100, 3: -100},\n",
       " 11: {1: -100, 2: 100, 3: -100},\n",
       " 12: {1: -100, 3: 100, 2: -100},\n",
       " 13: {1: -100, 2: -100, 3: -100},\n",
       " 14: {1: 100, 2: -100, 3: -100},\n",
       " 15: {1: -100, 2: 100, 3: -100},\n",
       " 16: {1: -100, 3: 100, 2: -100},\n",
       " 17: {1: -100, 2: -100, 3: -100},\n",
       " 18: {1: 100, 2: -100, 3: -100},\n",
       " 19: {1: -100, 2: 100, 3: -100},\n",
       " 20: {1: -100, 3: 100, 2: -100},\n",
       " 21: {1: -100, 2: -100, 3: -100}}"
      ]
     },
     "execution_count": null,
     "metadata": {},
     "output_type": "execute_result"
    }
   ],
   "source": [
    "T=Table()\n",
    "for state in range(1,22):\n",
    "    T[state]=Table()\n",
    "    \n",
    "    for move in [1,2,3]:\n",
    "        \n",
    "        if move>state:\n",
    "            continue\n",
    "        \n",
    "        T[state][move]=-100\n",
    "        \n",
    "        if state%4==0:  # 4, 8, 12, 16, etc...\n",
    "            T[state][3]=+100\n",
    "            \n",
    "        if state%4==3:  # 3, 7, 11, etc...\n",
    "            T[state][2]=+100\n",
    "\n",
    "        if state%4==2:  # 2, 6, 10, etc...\n",
    "            T[state][1]=+100\n",
    "\n",
    "        if state%4==1:  # 1, 5, 9, etc...\n",
    "            pass\n",
    "        \n",
    "        \n",
    "            \n",
    "\n",
    "T"
   ]
  },
  {
   "cell_type": "code",
   "execution_count": null,
   "id": "559007e0-bc58-4eea-ba90-3b8ed8142c30",
   "metadata": {},
   "outputs": [
    {
     "data": {
      "text/plain": [
       "1"
      ]
     },
     "execution_count": null,
     "metadata": {},
     "output_type": "execute_result"
    }
   ],
   "source": [
    "10%3"
   ]
  },
  {
   "cell_type": "code",
   "execution_count": null,
   "id": "35eef453-d451-4813-adc5-c696a402da83",
   "metadata": {},
   "outputs": [],
   "source": []
  }
 ],
 "metadata": {
  "kernelspec": {
   "display_name": "python3",
   "language": "python",
   "name": "python3"
  }
 },
 "nbformat": 4,
 "nbformat_minor": 5
}
