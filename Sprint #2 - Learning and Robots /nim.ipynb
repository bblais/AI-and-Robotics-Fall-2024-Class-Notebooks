{
 "cells": [
  {
   "cell_type": "code",
   "execution_count": null,
   "id": "7ed2f345-0b89-41b6-9d2a-84f7dccc5f9f",
   "metadata": {},
   "outputs": [],
   "source": [
    "print(\"Nim functions!\")\n",
    "\n",
    "def initial_state(): \n",
    "    \"\"\" returns  - The initial state of the game\"\"\"\n",
    "    return 9\n",
    "\n",
    "def valid_moves(state,player):\n",
    "    \"\"\"returns  - a list of the valid moves for the state and player\"\"\"\n",
    "\n",
    "    if state==2:\n",
    "        return [1,2]\n",
    "    elif state==1:\n",
    "        return [1]\n",
    "    else:\n",
    "        return [1,2,3]\n",
    "\n",
    "def show_state(state,player):\n",
    "    \"\"\"prints or shows the current state\"\"\"\n",
    "    print(f\"There are >>{state} sticks<<< for player {player}.\")\n",
    "\n",
    "def update_state(state,player,move):\n",
    "    \"\"\"returns  - the new state after the move for the player\"\"\"\n",
    "\n",
    "    new_state=state-move\n",
    "\n",
    "    return new_state\n",
    "\n",
    "\n",
    "def win_status(state,player):\n",
    "    \"\"\"    returns  - 'win'  if the state is a winning state for the player, \n",
    "               'lose' if the state is a losing state for the player,\n",
    "               'stalemate' for a stalemate\n",
    "               None otherwise\n",
    "    \"\"\"\n",
    "\n",
    "    if state==0:\n",
    "        return 'lose'\n",
    "\n",
    "    if state==1:\n",
    "        return 'win'\n",
    "\n",
    "\n",
    "    return None\n",
    "    \n"
   ]
  },
  {
   "cell_type": "markdown",
   "id": "068a9c36-1ba8-4905-8a3c-ecb7446d8dd7",
   "metadata": {},
   "source": [
    "Some markdown!"
   ]
  },
  {
   "cell_type": "code",
   "execution_count": null,
   "id": "9628e7a9-f7eb-4c5e-8f99-4e452192932c",
   "metadata": {},
   "outputs": [],
   "source": []
  }
 ],
 "metadata": {
  "kernelspec": {
   "display_name": "Python 3 (ipykernel)",
   "language": "python",
   "name": "python3"
  },
  "language_info": {
   "codemirror_mode": {
    "name": "ipython",
    "version": 3
   },
   "file_extension": ".py",
   "mimetype": "text/x-python",
   "name": "python",
   "nbconvert_exporter": "python",
   "pygments_lexer": "ipython3",
   "version": "3.12.6"
  }
 },
 "nbformat": 4,
 "nbformat_minor": 5
}
