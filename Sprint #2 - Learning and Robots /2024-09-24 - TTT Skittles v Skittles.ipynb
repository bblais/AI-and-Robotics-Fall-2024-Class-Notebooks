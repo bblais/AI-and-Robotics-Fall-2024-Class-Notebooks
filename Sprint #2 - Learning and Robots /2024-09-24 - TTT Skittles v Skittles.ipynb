{
 "cells": [
  {
   "cell_type": "code",
   "execution_count": 1,
   "id": "5e9ad7e1-6b67-470e-a267-1cf507e5ae0a",
   "metadata": {},
   "outputs": [
    {
     "name": "stdout",
     "output_type": "stream",
     "text": [
      "Version:  0.3.02\n"
     ]
    }
   ],
   "source": [
    "from Game import *\n",
    "from Game.minimax import *"
   ]
  },
  {
   "cell_type": "markdown",
   "id": "37a58b7b-b93f-4086-a0c3-6fc12c45f1dd",
   "metadata": {},
   "source": [
    "## Tic Tac Toe"
   ]
  },
  {
   "cell_type": "code",
   "execution_count": 2,
   "id": "ed7923e5-3f6a-4fc2-bbb6-dff254f0cf99",
   "metadata": {},
   "outputs": [],
   "source": [
    "def initial_state():\n",
    "    return Board(3,3)\n",
    "\n",
    "def count_pieces(state):\n",
    "    count=0\n",
    "    for location in range(9):\n",
    "        if state[location]!=0:\n",
    "            count=count+1\n",
    "            \n",
    "    return count\n",
    "\n",
    "def row(state,location):\n",
    "    r,c=state.rc_from_index(location)\n",
    "    return r\n",
    "def col(state,location):\n",
    "    r,c=state.rc_from_index(location)\n",
    "    return c\n",
    "\n",
    "def valid_moves(state,player):\n",
    "    \n",
    "    moves=[]\n",
    "    \n",
    "    if count_pieces(state)<9:  # placement - temporaily set to 9 to behave like ttt\n",
    "        # placement\n",
    "        for location in range(9): \n",
    "            if state[location]==0:\n",
    "                moves.append(location)\n",
    "    else:\n",
    "        # sliding\n",
    "        for start in range(9):\n",
    "            if state[start]!=player:\n",
    "                continue\n",
    "\n",
    "            rs,cs=row(state,start),col(state,start)\n",
    "\n",
    "            for location in range(9):\n",
    "                end=None\n",
    "\n",
    "                r,c=row(state,location),col(state,location)\n",
    "\n",
    "                if state[location]==0:\n",
    "\n",
    "                    if r-rs==1 and c-cs==0:  # vertical\n",
    "                        end=location\n",
    "                    if r-rs==-1 and c-cs==0:  # vertical\n",
    "                        end=location\n",
    "                    if r-rs==0 and c-cs==1:  # horizontal\n",
    "                        end=location\n",
    "                    if r-rs==0 and c-cs==-1:  # horizontal\n",
    "                        end=location\n",
    "                    if r-rs==1 and c-cs==1:  # diagonal\n",
    "                        end=location\n",
    "                    if r-rs==-1 and c-cs==-1:  # diagonal\n",
    "                        end=location\n",
    "                    if r-rs==1 and c-cs==-1:  # diagonal\n",
    "                        end=location\n",
    "                    if r-rs==-1 and c-cs==1:  # diagonal\n",
    "                        end=location\n",
    "\n",
    "                    if not end is None:\n",
    "                        moves.append([start,end])\n",
    "                pass\n",
    "\n",
    "        \n",
    "    return moves\n",
    "    \n",
    "    \n",
    "def update_state(state,player,move):\n",
    "    if isinstance(move,int):  # placement\n",
    "        new_state=state\n",
    "        new_state[move]=player\n",
    "        \n",
    "    else:  # sliding\n",
    "        start,end=move\n",
    "        new_state=state\n",
    "        new_state[start]=0\n",
    "        new_state[end]=player\n",
    "        \n",
    "    return new_state\n",
    "\n",
    "def win_status(state,player):\n",
    "    # 0  1  2 \n",
    "    # 3  4  5 \n",
    "    # 6  7  8 \n",
    "\n",
    "    if player==1:\n",
    "        other_player=2\n",
    "    else:\n",
    "        other_player=1\n",
    "    \n",
    "    if state[0]==state[1]==state[2]==player:\n",
    "        return \"win\"\n",
    "    if state[3]==state[4]==state[5]==player:\n",
    "        return \"win\"\n",
    "    if state[6]==state[7]==state[8]==player:\n",
    "        return \"win\"\n",
    "    if state[0]==state[3]==state[6]==player:\n",
    "        return \"win\"\n",
    "    if state[1]==state[4]==state[7]==player:\n",
    "        return \"win\"\n",
    "    if state[2]==state[5]==state[8]==player:\n",
    "        return \"win\"\n",
    "    if state[0]==state[4]==state[8]==player:\n",
    "        return \"win\"\n",
    "    if state[6]==state[4]==state[2]==player:\n",
    "        return \"win\"\n",
    "    \n",
    "    if not valid_moves(state,other_player):\n",
    "        return \"stalemate\"\n",
    "    \n",
    "    return None\n",
    "\n",
    "def show_state(state,player):\n",
    "    print(state)"
   ]
  },
  {
   "cell_type": "markdown",
   "id": "9be501f9-9d82-47a1-be10-b330571f3ec7",
   "metadata": {},
   "source": [
    "## Agents"
   ]
  },
  {
   "cell_type": "code",
   "execution_count": 3,
   "id": "27a364b6-2c01-433a-95fb-79e2597e9517",
   "metadata": {},
   "outputs": [],
   "source": [
    "def random_move(state,player):    \n",
    "    moves=valid_moves(state,player)\n",
    "    return random.choice(moves)\n",
    "\n",
    "random_agent=Agent(random_move)\n",
    "\n",
    "def human_move(state,player):\n",
    "    print(\"Player \", player)\n",
    "    valid_move=False\n",
    "    while not valid_move:\n",
    "        move=int(input('What is your move? '))\n",
    "\n",
    "        if move in valid_moves(state,player):\n",
    "            valid_move=True\n",
    "        else:\n",
    "            print(\"Illegal move.\")\n",
    "\n",
    "    return move\n",
    "\n",
    "human_agent=Agent(human_move)"
   ]
  },
  {
   "cell_type": "code",
   "execution_count": 4,
   "id": "2463820f-5620-422f-86ea-e577570b400b",
   "metadata": {},
   "outputs": [],
   "source": [
    "def minimax_move(state,player):\n",
    "    values,moves=minimax_values(state,player,display=False)\n",
    "    return top_choice(moves,values)\n",
    "\n",
    "\n",
    "minimax_agent=Agent(minimax_move)"
   ]
  },
  {
   "cell_type": "code",
   "execution_count": null,
   "id": "c9394387-72cc-48b6-94b8-cd555fbeb831",
   "metadata": {},
   "outputs": [],
   "source": []
  },
  {
   "cell_type": "code",
   "execution_count": 5,
   "id": "a6d6a508-6eb5-4b38-9901-2f4df211887d",
   "metadata": {},
   "outputs": [],
   "source": [
    "def skittles_move(state,player,info):\n",
    "    S=info.S\n",
    "    last_state=info.last_state\n",
    "    last_action=info.last_action\n",
    "    verbose=info.verbose\n",
    "\n",
    "    \n",
    "    if verbose:\n",
    "        print(\"\\t\",\"Player \",player,\" is thinking...\")\n",
    "        print(\"\\t\",\"State: \",state)\n",
    "        print(\"\\t\",\"Table:\",S)\n",
    "        print(\"\\t\",\"Last state,action: \",last_state,last_action)\n",
    "    \n",
    "    # make/adjust the table\n",
    "\n",
    "    if state not in S:\n",
    "        # add a row to the table for each move\n",
    "        S[state]=Table()\n",
    "        moves=valid_moves(state,player)\n",
    "        for action in moves:\n",
    "            S[state][action]=3  # number of skittles/beads for each move\n",
    "    \n",
    "        if verbose:\n",
    "            print(\"\\t\",\"State \",state,\"unknown...added to table\")\n",
    "            print(\"\\t\",\"Table\",S)\n",
    "    \n",
    "    move=weighted_choice(S[state])\n",
    "    if verbose:\n",
    "        print(\"\\t\",\"Choosing from S[\",state,\"]\",S[state],\"....Move: \",move)\n",
    "\n",
    "    if move is None:  # there are no skittles in this row\n",
    "        if last_state:\n",
    "            if verbose:\n",
    "                print(\"\\t\",\"No possible moves!\")\n",
    "                print(\"\\t\",\"Modifying the table: removing one skittle from (state,action) \",last_state,last_action)\n",
    "            S[last_state][last_action]=S[last_state][last_action]-1\n",
    "            \n",
    "            if verbose:\n",
    "                print(\"\\t\",\"Table:\",S)\n",
    "                \n",
    "            if S[last_state][last_action]<0:                \n",
    "                S[last_state][last_action]=0\n",
    "                if verbose:\n",
    "                    print(\"\\t\",\"Negative skittles...fixing.\")\n",
    "                    print(\"\\t\",\"Table:\",S)                \n",
    "        else:\n",
    "            if verbose:\n",
    "                print(\"\\t\",\"Started in a bad state \",state,\"with no moves and no last state.  Won't modify table.\")\n",
    "                  \n",
    "                  \n",
    "\n",
    "        move=random_move(state,player)\n",
    "\n",
    "    \n",
    "    return move\n",
    "\n",
    "def skittles_after(status,player,info):\n",
    "    S=info.S\n",
    "    last_state=info.last_state\n",
    "    last_action=info.last_action\n",
    "    verbose=info.verbose\n",
    "\n",
    "    if verbose:\n",
    "        print(\"\\t\",\"End of Game adjustments\")\n",
    "        print(\"\\t\",\"Player \",player,\" is thinking...\")\n",
    "        print(\"\\t\",\"Win Status: \",status)\n",
    "        print(\"\\t\",\"Table:\",S)\n",
    "        print(\"\\t\",\"Last state,action: \",last_state,last_action)\n",
    "        \n",
    "    if status=='lose':\n",
    "        if last_state:\n",
    "            S[last_state][last_action]=S[last_state][last_action]-1\n",
    "            if S[last_state][last_action]<0:\n",
    "                S[last_state][last_action]=0\n",
    "                \n",
    "            if verbose:\n",
    "                print(\"\\t\",\"Modifying the table: removing one skittle from (state,action) \",last_state,last_action)\n",
    "                print(\"\\t\",\"Table:\",S)\n",
    "\n",
    "                \n",
    "        else:\n",
    "            if verbose:\n",
    "                print(\"\\t\",\"No last state, so nothing to learn.\")\n",
    "            \n",
    "                \n",
    "    else:\n",
    "        if verbose:\n",
    "            print(\"\\t\",\"No adjustments needed.\")\n",
    "        \n",
    "    # does this double-count the learning if you lose on your own turn        \n",
    "    "
   ]
  },
  {
   "cell_type": "code",
   "execution_count": 6,
   "id": "02ad0b1c-8edd-4790-bcf0-9afc60ce62ca",
   "metadata": {},
   "outputs": [],
   "source": [
    "skittles_agent1=Agent(skittles_move)\n",
    "skittles_agent1.S=Table()\n",
    "skittles_agent1.post=skittles_after\n",
    "skittles_agent1.verbose=True\n",
    "\n",
    "skittles_agent2=Agent(skittles_move)\n",
    "skittles_agent2.S=Table()\n",
    "skittles_agent2.post=skittles_after\n",
    "skittles_agent2.verbose=True"
   ]
  },
  {
   "cell_type": "code",
   "execution_count": 7,
   "id": "76034b53-9a65-4ca9-9500-99804b847fde",
   "metadata": {},
   "outputs": [
    {
     "name": "stdout",
     "output_type": "stream",
     "text": [
      "====\n",
      "Game  1\n",
      " 0  0  0 \n",
      " 0  0  0 \n",
      " 0  0  0 \n",
      "\n",
      "\t Player  1  is thinking...\n",
      "\t State:   0  0  0 \n",
      " 0  0  0 \n",
      " 0  0  0 \n",
      "\n",
      "\t Table: {}\n",
      "\t Last state,action:  None None\n",
      "\t State   0  0  0 \n",
      " 0  0  0 \n",
      " 0  0  0 \n",
      " unknown...added to table\n",
      "\t Table {(0, 0, 0, 0, 0, 0, 0, 0, 0): {0: 3, 1: 3, 2: 3, 3: 3, 4: 3, 5: 3, 6: 3, 7: 3, 8: 3}}\n",
      "\t Choosing from S[  0  0  0 \n",
      " 0  0  0 \n",
      " 0  0  0 \n",
      " ] {0: 3, 1: 3, 2: 3, 3: 3, 4: 3, 5: 3, 6: 3, 7: 3, 8: 3} ....Move:  1\n",
      "Player 1 moves 1\n",
      " 0  1  0 \n",
      " 0  0  0 \n",
      " 0  0  0 \n",
      "\n",
      "\t Player  2  is thinking...\n",
      "\t State:   0  1  0 \n",
      " 0  0  0 \n",
      " 0  0  0 \n",
      "\n",
      "\t Table: {}\n",
      "\t Last state,action:  None None\n",
      "\t State   0  1  0 \n",
      " 0  0  0 \n",
      " 0  0  0 \n",
      " unknown...added to table\n",
      "\t Table {(0, 1, 0, 0, 0, 0, 0, 0, 0): {0: 3, 2: 3, 3: 3, 4: 3, 5: 3, 6: 3, 7: 3, 8: 3}}\n",
      "\t Choosing from S[  0  1  0 \n",
      " 0  0  0 \n",
      " 0  0  0 \n",
      " ] {0: 3, 2: 3, 3: 3, 4: 3, 5: 3, 6: 3, 7: 3, 8: 3} ....Move:  0\n",
      "Player 2 moves 0\n",
      " 2  1  0 \n",
      " 0  0  0 \n",
      " 0  0  0 \n",
      "\n",
      "\t Player  1  is thinking...\n",
      "\t State:   2  1  0 \n",
      " 0  0  0 \n",
      " 0  0  0 \n",
      "\n",
      "\t Table: {(0, 0, 0, 0, 0, 0, 0, 0, 0): {0: 3, 1: 3, 2: 3, 3: 3, 4: 3, 5: 3, 6: 3, 7: 3, 8: 3}}\n",
      "\t Last state,action:   0  0  0 \n",
      " 0  0  0 \n",
      " 0  0  0 \n",
      " 1\n",
      "\t State   2  1  0 \n",
      " 0  0  0 \n",
      " 0  0  0 \n",
      " unknown...added to table\n",
      "\t Table {(0, 0, 0, 0, 0, 0, 0, 0, 0): {0: 3, 1: 3, 2: 3, 3: 3, 4: 3, 5: 3, 6: 3, 7: 3, 8: 3}, (2, 1, 0, 0, 0, 0, 0, 0, 0): {2: 3, 3: 3, 4: 3, 5: 3, 6: 3, 7: 3, 8: 3}}\n",
      "\t Choosing from S[  2  1  0 \n",
      " 0  0  0 \n",
      " 0  0  0 \n",
      " ] {2: 3, 3: 3, 4: 3, 5: 3, 6: 3, 7: 3, 8: 3} ....Move:  3\n",
      "Player 1 moves 3\n",
      " 2  1  0 \n",
      " 1  0  0 \n",
      " 0  0  0 \n",
      "\n",
      "\t Player  2  is thinking...\n",
      "\t State:   2  1  0 \n",
      " 1  0  0 \n",
      " 0  0  0 \n",
      "\n",
      "\t Table: {(0, 1, 0, 0, 0, 0, 0, 0, 0): {0: 3, 2: 3, 3: 3, 4: 3, 5: 3, 6: 3, 7: 3, 8: 3}}\n",
      "\t Last state,action:   0  1  0 \n",
      " 0  0  0 \n",
      " 0  0  0 \n",
      " 0\n",
      "\t State   2  1  0 \n",
      " 1  0  0 \n",
      " 0  0  0 \n",
      " unknown...added to table\n",
      "\t Table {(0, 1, 0, 0, 0, 0, 0, 0, 0): {0: 3, 2: 3, 3: 3, 4: 3, 5: 3, 6: 3, 7: 3, 8: 3}, (2, 1, 0, 1, 0, 0, 0, 0, 0): {2: 3, 4: 3, 5: 3, 6: 3, 7: 3, 8: 3}}\n",
      "\t Choosing from S[  2  1  0 \n",
      " 1  0  0 \n",
      " 0  0  0 \n",
      " ] {2: 3, 4: 3, 5: 3, 6: 3, 7: 3, 8: 3} ....Move:  8\n",
      "Player 2 moves 8\n",
      " 2  1  0 \n",
      " 1  0  0 \n",
      " 0  0  2 \n",
      "\n",
      "\t Player  1  is thinking...\n",
      "\t State:   2  1  0 \n",
      " 1  0  0 \n",
      " 0  0  2 \n",
      "\n",
      "\t Table: {(0, 0, 0, 0, 0, 0, 0, 0, 0): {0: 3, 1: 3, 2: 3, 3: 3, 4: 3, 5: 3, 6: 3, 7: 3, 8: 3}, (2, 1, 0, 0, 0, 0, 0, 0, 0): {2: 3, 3: 3, 4: 3, 5: 3, 6: 3, 7: 3, 8: 3}}\n",
      "\t Last state,action:   2  1  0 \n",
      " 0  0  0 \n",
      " 0  0  0 \n",
      " 3\n",
      "\t State   2  1  0 \n",
      " 1  0  0 \n",
      " 0  0  2 \n",
      " unknown...added to table\n",
      "\t Table {(0, 0, 0, 0, 0, 0, 0, 0, 0): {0: 3, 1: 3, 2: 3, 3: 3, 4: 3, 5: 3, 6: 3, 7: 3, 8: 3}, (2, 1, 0, 0, 0, 0, 0, 0, 0): {2: 3, 3: 3, 4: 3, 5: 3, 6: 3, 7: 3, 8: 3}, (2, 1, 0, 1, 0, 0, 0, 0, 2): {2: 3, 4: 3, 5: 3, 6: 3, 7: 3}}\n",
      "\t Choosing from S[  2  1  0 \n",
      " 1  0  0 \n",
      " 0  0  2 \n",
      " ] {2: 3, 4: 3, 5: 3, 6: 3, 7: 3} ....Move:  2\n",
      "Player 1 moves 2\n",
      " 2  1  1 \n",
      " 1  0  0 \n",
      " 0  0  2 \n",
      "\n",
      "\t Player  2  is thinking...\n",
      "\t State:   2  1  1 \n",
      " 1  0  0 \n",
      " 0  0  2 \n",
      "\n",
      "\t Table: {(0, 1, 0, 0, 0, 0, 0, 0, 0): {0: 3, 2: 3, 3: 3, 4: 3, 5: 3, 6: 3, 7: 3, 8: 3}, (2, 1, 0, 1, 0, 0, 0, 0, 0): {2: 3, 4: 3, 5: 3, 6: 3, 7: 3, 8: 3}}\n",
      "\t Last state,action:   2  1  0 \n",
      " 1  0  0 \n",
      " 0  0  0 \n",
      " 8\n",
      "\t State   2  1  1 \n",
      " 1  0  0 \n",
      " 0  0  2 \n",
      " unknown...added to table\n",
      "\t Table {(0, 1, 0, 0, 0, 0, 0, 0, 0): {0: 3, 2: 3, 3: 3, 4: 3, 5: 3, 6: 3, 7: 3, 8: 3}, (2, 1, 0, 1, 0, 0, 0, 0, 0): {2: 3, 4: 3, 5: 3, 6: 3, 7: 3, 8: 3}, (2, 1, 1, 1, 0, 0, 0, 0, 2): {4: 3, 5: 3, 6: 3, 7: 3}}\n",
      "\t Choosing from S[  2  1  1 \n",
      " 1  0  0 \n",
      " 0  0  2 \n",
      " ] {4: 3, 5: 3, 6: 3, 7: 3} ....Move:  7\n",
      "Player 2 moves 7\n",
      " 2  1  1 \n",
      " 1  0  0 \n",
      " 0  2  2 \n",
      "\n",
      "\t Player  1  is thinking...\n",
      "\t State:   2  1  1 \n",
      " 1  0  0 \n",
      " 0  2  2 \n",
      "\n",
      "\t Table: {(0, 0, 0, 0, 0, 0, 0, 0, 0): {0: 3, 1: 3, 2: 3, 3: 3, 4: 3, 5: 3, 6: 3, 7: 3, 8: 3}, (2, 1, 0, 0, 0, 0, 0, 0, 0): {2: 3, 3: 3, 4: 3, 5: 3, 6: 3, 7: 3, 8: 3}, (2, 1, 0, 1, 0, 0, 0, 0, 2): {2: 3, 4: 3, 5: 3, 6: 3, 7: 3}}\n",
      "\t Last state,action:   2  1  0 \n",
      " 1  0  0 \n",
      " 0  0  2 \n",
      " 2\n",
      "\t State   2  1  1 \n",
      " 1  0  0 \n",
      " 0  2  2 \n",
      " unknown...added to table\n",
      "\t Table {(0, 0, 0, 0, 0, 0, 0, 0, 0): {0: 3, 1: 3, 2: 3, 3: 3, 4: 3, 5: 3, 6: 3, 7: 3, 8: 3}, (2, 1, 0, 0, 0, 0, 0, 0, 0): {2: 3, 3: 3, 4: 3, 5: 3, 6: 3, 7: 3, 8: 3}, (2, 1, 0, 1, 0, 0, 0, 0, 2): {2: 3, 4: 3, 5: 3, 6: 3, 7: 3}, (2, 1, 1, 1, 0, 0, 0, 2, 2): {4: 3, 5: 3, 6: 3}}\n",
      "\t Choosing from S[  2  1  1 \n",
      " 1  0  0 \n",
      " 0  2  2 \n",
      " ] {4: 3, 5: 3, 6: 3} ....Move:  5\n",
      "Player 1 moves 5\n",
      " 2  1  1 \n",
      " 1  0  1 \n",
      " 0  2  2 \n",
      "\n",
      "\t Player  2  is thinking...\n",
      "\t State:   2  1  1 \n",
      " 1  0  1 \n",
      " 0  2  2 \n",
      "\n",
      "\t Table: {(0, 1, 0, 0, 0, 0, 0, 0, 0): {0: 3, 2: 3, 3: 3, 4: 3, 5: 3, 6: 3, 7: 3, 8: 3}, (2, 1, 0, 1, 0, 0, 0, 0, 0): {2: 3, 4: 3, 5: 3, 6: 3, 7: 3, 8: 3}, (2, 1, 1, 1, 0, 0, 0, 0, 2): {4: 3, 5: 3, 6: 3, 7: 3}}\n",
      "\t Last state,action:   2  1  1 \n",
      " 1  0  0 \n",
      " 0  0  2 \n",
      " 7\n",
      "\t State   2  1  1 \n",
      " 1  0  1 \n",
      " 0  2  2 \n",
      " unknown...added to table\n",
      "\t Table {(0, 1, 0, 0, 0, 0, 0, 0, 0): {0: 3, 2: 3, 3: 3, 4: 3, 5: 3, 6: 3, 7: 3, 8: 3}, (2, 1, 0, 1, 0, 0, 0, 0, 0): {2: 3, 4: 3, 5: 3, 6: 3, 7: 3, 8: 3}, (2, 1, 1, 1, 0, 0, 0, 0, 2): {4: 3, 5: 3, 6: 3, 7: 3}, (2, 1, 1, 1, 0, 1, 0, 2, 2): {4: 3, 6: 3}}\n",
      "\t Choosing from S[  2  1  1 \n",
      " 1  0  1 \n",
      " 0  2  2 \n",
      " ] {4: 3, 6: 3} ....Move:  6\n",
      "Player 2 moves 6\n",
      " 2  1  1 \n",
      " 1  0  1 \n",
      " 2  2  2 \n",
      "\n",
      "Player  2 won.\n",
      "\t End of Game adjustments\n",
      "\t Player  1  is thinking...\n",
      "\t Win Status:  lose\n",
      "\t Table: {(0, 0, 0, 0, 0, 0, 0, 0, 0): {0: 3, 1: 3, 2: 3, 3: 3, 4: 3, 5: 3, 6: 3, 7: 3, 8: 3}, (2, 1, 0, 0, 0, 0, 0, 0, 0): {2: 3, 3: 3, 4: 3, 5: 3, 6: 3, 7: 3, 8: 3}, (2, 1, 0, 1, 0, 0, 0, 0, 2): {2: 3, 4: 3, 5: 3, 6: 3, 7: 3}, (2, 1, 1, 1, 0, 0, 0, 2, 2): {4: 3, 5: 3, 6: 3}}\n",
      "\t Last state,action:   2  1  1 \n",
      " 1  0  0 \n",
      " 0  2  2 \n",
      " 5\n",
      "\t Modifying the table: removing one skittle from (state,action)   2  1  1 \n",
      " 1  0  0 \n",
      " 0  2  2 \n",
      " 5\n",
      "\t Table: {(0, 0, 0, 0, 0, 0, 0, 0, 0): {0: 3, 1: 3, 2: 3, 3: 3, 4: 3, 5: 3, 6: 3, 7: 3, 8: 3}, (2, 1, 0, 0, 0, 0, 0, 0, 0): {2: 3, 3: 3, 4: 3, 5: 3, 6: 3, 7: 3, 8: 3}, (2, 1, 0, 1, 0, 0, 0, 0, 2): {2: 3, 4: 3, 5: 3, 6: 3, 7: 3}, (2, 1, 1, 1, 0, 0, 0, 2, 2): {4: 3, 5: 2, 6: 3}}\n",
      "\t End of Game adjustments\n",
      "\t Player  2  is thinking...\n",
      "\t Win Status:  win\n",
      "\t Table: {(0, 1, 0, 0, 0, 0, 0, 0, 0): {0: 3, 2: 3, 3: 3, 4: 3, 5: 3, 6: 3, 7: 3, 8: 3}, (2, 1, 0, 1, 0, 0, 0, 0, 0): {2: 3, 4: 3, 5: 3, 6: 3, 7: 3, 8: 3}, (2, 1, 1, 1, 0, 0, 0, 0, 2): {4: 3, 5: 3, 6: 3, 7: 3}, (2, 1, 1, 1, 0, 1, 0, 2, 2): {4: 3, 6: 3}}\n",
      "\t Last state,action:   2  1  1 \n",
      " 1  0  1 \n",
      " 0  2  2 \n",
      " 6\n",
      "\t No adjustments needed.\n"
     ]
    },
    {
     "data": {
      "text/plain": [
       "[2]"
      ]
     },
     "execution_count": 7,
     "metadata": {},
     "output_type": "execute_result"
    }
   ],
   "source": [
    "g=Game()\n",
    "g.run(skittles_agent1,skittles_agent2)"
   ]
  },
  {
   "cell_type": "code",
   "execution_count": 8,
   "id": "155f17fb-ed6d-4d51-b485-833b81d61a6d",
   "metadata": {},
   "outputs": [],
   "source": [
    "SaveTable(skittles_agent1.S,'ttt skittles1.json')\n",
    "SaveTable(skittles_agent2.S,'ttt skittles2.json')"
   ]
  },
  {
   "cell_type": "code",
   "execution_count": 9,
   "id": "4ec66660-6a92-4091-868f-3b18378d5a70",
   "metadata": {},
   "outputs": [],
   "source": [
    "skittles_agent1=Agent(skittles_move)\n",
    "skittles_agent1.S=Table()\n",
    "skittles_agent1.post=skittles_after\n",
    "skittles_agent1.verbose=False\n",
    "\n",
    "skittles_agent2=Agent(skittles_move)\n",
    "skittles_agent2.S=Table()\n",
    "skittles_agent2.post=skittles_after\n",
    "skittles_agent2.verbose=False"
   ]
  },
  {
   "cell_type": "code",
   "execution_count": 10,
   "id": "b7e1cb7f-202a-4299-9abe-ac298fb09dab",
   "metadata": {},
   "outputs": [],
   "source": [
    "%matplotlib inline\n",
    "from matplotlib.pyplot import figure,plot,grid,legend,xlabel,ylabel,title\n",
    "from tqdm.notebook import tqdm"
   ]
  },
  {
   "cell_type": "code",
   "execution_count": 11,
   "id": "dbe1f934-5fa5-47aa-85d0-1a60361a8e41",
   "metadata": {},
   "outputs": [],
   "source": [
    "agent1=skittles_agent1\n",
    "agent1.S=Table()\n",
    "\n",
    "agent2=skittles_agent2\n",
    "agent2.S=Table()"
   ]
  },
  {
   "cell_type": "code",
   "execution_count": 12,
   "id": "4712f8ab-ab5d-4d36-8611-83d0f94fe2df",
   "metadata": {},
   "outputs": [],
   "source": [
    "S=Storage()\n",
    "one,two,ties,N=0,0,0,0"
   ]
  },
  {
   "cell_type": "code",
   "execution_count": 13,
   "id": "3eb953a2-6bc8-4e0d-8c04-d600683f5fef",
   "metadata": {},
   "outputs": [
    {
     "data": {
      "application/vnd.jupyter.widget-view+json": {
       "model_id": "6071341cfe0e4472bd6d6de3fdad8389",
       "version_major": 2,
       "version_minor": 0
      },
      "text/plain": [
       "  0%|          | 0/30 [00:00<?, ?it/s]"
      ]
     },
     "metadata": {},
     "output_type": "display_data"
    }
   ],
   "source": [
    "for i in tqdm(range(30)):\n",
    "    g=Game(number_of_games=100)\n",
    "    g.display=False\n",
    "    \n",
    "    result=g.run(agent1,agent2)\n",
    "    one,two,ties,N=one+result.count(1),two+result.count(2),ties+result.count(0),N+len(result)\n",
    "    \n",
    "    S+=one/N*100,two/N*100,ties/N*100,N\n",
    "    \n",
    "y1,y2,y0,x=S.arrays()    "
   ]
  },
  {
   "cell_type": "code",
   "execution_count": 14,
   "id": "10d99c9b-a222-4ace-9449-0b2cfee896c9",
   "metadata": {},
   "outputs": [
    {
     "data": {
      "text/plain": [
       "Text(0, 0.5, 'Percent')"
      ]
     },
     "execution_count": 14,
     "metadata": {},
     "output_type": "execute_result"
    },
    {
     "data": {
      "image/png": "[encoded data removed]",
      "text/plain": [
       "<Figure size 1600x800 with 1 Axes>"
      ]
     },
     "metadata": {},
     "output_type": "display_data"
    }
   ],
   "source": [
    "figure(figsize=(16,8))\n",
    "plot(x,y1,label='One Win')\n",
    "plot(x,y2,label='Two Win')\n",
    "plot(x,y0,label='Tie')\n",
    "legend()\n",
    "xlabel('Number of Games')\n",
    "ylabel('Percent')"
   ]
  },
  {
   "cell_type": "code",
   "execution_count": 16,
   "id": "191eabd6-4bdd-4821-9ea1-ea5686c5dd7c",
   "metadata": {},
   "outputs": [
    {
     "data": {
      "application/vnd.jupyter.widget-view+json": {
       "model_id": "b56d6b51707a4498a2491cd9a4a35c68",
       "version_major": 2,
       "version_minor": 0
      },
      "text/plain": [
       "  0%|          | 0/4000 [00:00<?, ?it/s]"
      ]
     },
     "metadata": {},
     "output_type": "display_data"
    },
    {
     "data": {
      "text/plain": [
       "Text(0, 0.5, 'Percent')"
      ]
     },
     "execution_count": 16,
     "metadata": {},
     "output_type": "execute_result"
    },
    {
     "data": {
      "image/png": "[encoded data removed]",
      "text/plain": [
       "<Figure size 1600x800 with 1 Axes>"
      ]
     },
     "metadata": {},
     "output_type": "display_data"
    }
   ],
   "source": [
    "for i in tqdm(range(4000)):\n",
    "    g=Game(number_of_games=100)\n",
    "    g.display=False\n",
    "    \n",
    "    result=g.run(agent1,agent2)\n",
    "    one,two,ties,N=one+result.count(1),two+result.count(2),ties+result.count(0),N+len(result)\n",
    "    \n",
    "    S+=one/N*100,two/N*100,ties/N*100,N\n",
    "    \n",
    "y1,y2,y0,x=S.arrays()   \n",
    "\n",
    "\n",
    "figure(figsize=(16,8))\n",
    "plot(x,y1,label='One Win')\n",
    "plot(x,y2,label='Two Win')\n",
    "plot(x,y0,label='Tie')\n",
    "legend()\n",
    "xlabel('Number of Games')\n",
    "ylabel('Percent')"
   ]
  },
  {
   "cell_type": "code",
   "execution_count": 15,
   "id": "ef1e609f-c55e-4fa5-b046-8c7bc48b38e8",
   "metadata": {},
   "outputs": [],
   "source": [
    "SaveTable(skittles_agent1.S,'ttt skittles1.json')\n",
    "SaveTable(skittles_agent2.S,'ttt skittles2.json')"
   ]
  },
  {
   "cell_type": "code",
   "execution_count": null,
   "id": "424dc1c1-65b6-4ae6-bdef-a13cce9fe8ca",
   "metadata": {},
   "outputs": [
    {
     "name": "stdout",
     "output_type": "stream",
     "text": [
      "Total number of games:  100\n",
      "Winning 0.00 percent\n",
      "Losing 0.00 percent\n",
      "Tie 100.00 percent\n"
     ]
    }
   ],
   "source": [
    "g=Game(number_of_games=100)\n",
    "g.display=False\n",
    "result=g.run(minimax_agent,skittles_agent2)\n",
    "g.report()"
   ]
  },
  {
   "cell_type": "code",
   "execution_count": null,
   "id": "38e6e23a-fee6-4fcc-8143-fe4f28db8650",
   "metadata": {},
   "outputs": [
    {
     "name": "stdout",
     "output_type": "stream",
     "text": [
      "Total number of games:  100\n",
      "Winning 0.00 percent\n",
      "Losing 0.00 percent\n",
      "Tie 100.00 percent\n"
     ]
    }
   ],
   "source": [
    "g=Game(number_of_games=100)\n",
    "g.display=False\n",
    "result=g.run(skittles_agent1,minimax_agent)\n",
    "g.report()"
   ]
  },
  {
   "cell_type": "code",
   "execution_count": null,
   "id": "36823756-7fc0-4def-b608-e93452e5ec9f",
   "metadata": {},
   "outputs": [],
   "source": []
  }
 ],
 "metadata": {
  "kernelspec": {
   "display_name": "Python 3 (ipykernel)",
   "language": "python",
   "name": "python3"
  },
  "language_info": {
   "codemirror_mode": {
    "name": "ipython",
    "version": 3
   },
   "file_extension": ".py",
   "mimetype": "text/x-python",
   "name": "python",
   "nbconvert_exporter": "python",
   "pygments_lexer": "ipython3",
   "version": "3.12.6"
  }
 },
 "nbformat": 4,
 "nbformat_minor": 5
}
