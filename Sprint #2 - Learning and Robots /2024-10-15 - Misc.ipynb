{
 "cells": [
  {
   "cell_type": "code",
   "execution_count": 11,
   "id": "83f03073-be1b-4e53-8171-94ae27786d4c",
   "metadata": {},
   "outputs": [],
   "source": [
    "from Robot373 import *"
   ]
  },
  {
   "cell_type": "code",
   "execution_count": 12,
   "id": "f11912b3-8658-4dad-943c-c4b0841bcd68",
   "metadata": {},
   "outputs": [
    {
     "name": "stdout",
     "output_type": "stream",
     "text": [
      "Warning -- Motor 1 in offline mode.  Returning fake data.\n",
      "Warning -- Motor 2 in offline mode.  Returning fake data.\n",
      "Waiting for Sensors to Warm Up...Offline mode for sensors...done.\n"
     ]
    }
   ],
   "source": [
    "left,right=Motors(\"ab\")\n",
    "bob,sally=Sensors(None,None,\"us\",\"touch\")"
   ]
  },
  {
   "cell_type": "code",
   "execution_count": 13,
   "id": "51c5cc68-db74-4acb-95bb-77190b785c34",
   "metadata": {},
   "outputs": [
    {
     "name": "stdout",
     "output_type": "stream",
     "text": [
      "Warning -- Sensor us in offline mode.  Returning fake data.\n",
      "eyes 31\n",
      "Warning -- Sensor touch in offline mode.  Returning fake data.\n",
      "touch True\n",
      "eyes 32\n",
      "touch True\n",
      "eyes 34\n",
      "touch True\n",
      "eyes 35\n",
      "touch True\n",
      "eyes 37\n",
      "touch True\n",
      "eyes 38\n",
      "touch True\n",
      "eyes 40\n",
      "touch True\n",
      "eyes 41\n",
      "touch True\n",
      "eyes 42\n",
      "touch True\n",
      "eyes 43\n",
      "touch True\n",
      "eyes 44\n",
      "touch True\n",
      "eyes 45\n",
      "touch True\n",
      "eyes 46\n",
      "touch True\n",
      "eyes 47\n",
      "touch True\n",
      "eyes 47\n",
      "touch True\n",
      "eyes 48\n",
      "touch True\n",
      "eyes 49\n",
      "touch True\n",
      "eyes 49\n",
      "touch True\n",
      "eyes 49\n",
      "touch True\n",
      "eyes 49\n",
      "touch True\n",
      "eyes 49\n",
      "touch True\n",
      "eyes 49\n",
      "touch True\n",
      "eyes 49\n",
      "touch True\n",
      "eyes 49\n",
      "touch True\n",
      "eyes 49\n",
      "touch True\n"
     ]
    },
    {
     "ename": "KeyboardInterrupt",
     "evalue": "",
     "output_type": "error",
     "traceback": [
      "\u001b[0;31m---------------------------------------------------------------------------\u001b[0m",
      "\u001b[0;31mKeyboardInterrupt\u001b[0m                         Traceback (most recent call last)",
      "Cell \u001b[0;32mIn[13], line 4\u001b[0m\n\u001b[1;32m      2\u001b[0m \u001b[38;5;28mprint\u001b[39m(\u001b[38;5;124m\"\u001b[39m\u001b[38;5;124meyes\u001b[39m\u001b[38;5;124m\"\u001b[39m,bob\u001b[38;5;241m.\u001b[39mvalue)\n\u001b[1;32m      3\u001b[0m \u001b[38;5;28mprint\u001b[39m(\u001b[38;5;124m\"\u001b[39m\u001b[38;5;124mtouch\u001b[39m\u001b[38;5;124m\"\u001b[39m,sally\u001b[38;5;241m.\u001b[39mvalue)\n\u001b[0;32m----> 4\u001b[0m \u001b[43mWait\u001b[49m\u001b[43m(\u001b[49m\u001b[38;5;241;43m0.1\u001b[39;49m\u001b[43m)\u001b[49m\n",
      "File \u001b[0;32m~/venvs/work/lib/python3.12/site-packages/Robot373/robot.py:5\u001b[0m, in \u001b[0;36mWait\u001b[0;34m(seconds)\u001b[0m\n\u001b[1;32m      4\u001b[0m \u001b[38;5;28;01mdef\u001b[39;00m \u001b[38;5;21mWait\u001b[39m(seconds):\n\u001b[0;32m----> 5\u001b[0m     \u001b[43mtime\u001b[49m\u001b[38;5;241;43m.\u001b[39;49m\u001b[43msleep\u001b[49m\u001b[43m(\u001b[49m\u001b[43mseconds\u001b[49m\u001b[43m)\u001b[49m\n",
      "\u001b[0;31mKeyboardInterrupt\u001b[0m: "
     ]
    }
   ],
   "source": [
    "try:\n",
    "    while True:\n",
    "        print(\"the value of eyes is:\",bob.value)\n",
    "        print(\"the value of the touch sensor is:\",sally.value)\n",
    "        Wait(0.1)\n",
    "except KeyboardInterrupt:  # wait for a control-C\n",
    "    pass\n",
    "\n",
    "Shutdown()\n"
   ]
  },
  {
   "cell_type": "code",
   "execution_count": null,
   "id": "49b1e934-59d8-4df0-b0f3-b8f6f109319a",
   "metadata": {},
   "outputs": [],
   "source": [
    "left.power=100\n",
    "right.power=100\n",
    "\n",
    "while True:\n",
    "    value=bob.value\n",
    "    if value<10:\n",
    "        break\n",
    "\n",
    "    Wait(0.2)\n",
    "    print(value)\n",
    "\n",
    "\n",
    "print(\"stopping\")\n",
    "left.power=0\n",
    "right.power=0\n",
    "\n",
    "\n"
   ]
  },
  {
   "cell_type": "code",
   "execution_count": null,
   "id": "b4eb1097-72df-4809-8b5d-69644e879bfa",
   "metadata": {},
   "outputs": [],
   "source": [
    "left.power=100\n",
    "right.power=100\n",
    "\n",
    "while bob.value>10:\n",
    "    print(\"going\")\n",
    "    print(\"eyes\",bob.value)\n",
    "\n",
    "    left.power=100\n",
    "    right.power=100\n",
    "\n",
    "print(\"stopping\")\n",
    "left.power=0\n",
    "right.power=0\n"
   ]
  },
  {
   "cell_type": "markdown",
   "id": "57578049-a769-44d2-b7f4-c5ddee74889e",
   "metadata": {},
   "source": [
    "## while loops"
   ]
  },
  {
   "cell_type": "code",
   "execution_count": 16,
   "id": "d258a48d-d08f-4a5b-ae22-28c47cf40747",
   "metadata": {},
   "outputs": [
    {
     "name": "stdout",
     "output_type": "stream",
     "text": [
      "0\n",
      "1\n",
      "2\n",
      "3\n",
      "4\n",
      "5\n",
      "6\n",
      "7\n",
      "8\n",
      "9\n",
      "10\n"
     ]
    }
   ],
   "source": [
    "value=0\n",
    "\n",
    "while value<10:\n",
    "    print(value)\n",
    "\n",
    "    value=value+1\n",
    "\n",
    "print(value)"
   ]
  },
  {
   "cell_type": "code",
   "execution_count": 18,
   "id": "e7596e25-d7bb-45a7-b673-93ee012eb20c",
   "metadata": {},
   "outputs": [
    {
     "name": "stdout",
     "output_type": "stream",
     "text": [
      "0\n",
      "1\n",
      "2\n",
      "3\n",
      "4\n",
      "5\n",
      "6\n",
      "7\n",
      "8\n",
      "9\n",
      "10\n"
     ]
    }
   ],
   "source": [
    "value=0\n",
    "\n",
    "while True:\n",
    "    print(value)\n",
    "\n",
    "    value=value+1\n",
    "    if value>=10:\n",
    "        break\n",
    "\n",
    "print(value)"
   ]
  },
  {
   "cell_type": "code",
   "execution_count": 19,
   "id": "d16cee91-9bf3-45d6-9d2b-7c4ca35ba4a7",
   "metadata": {},
   "outputs": [
    {
     "ename": "NameError",
     "evalue": "name 'color_sensor' is not defined",
     "output_type": "error",
     "traceback": [
      "\u001b[0;31m---------------------------------------------------------------------------\u001b[0m",
      "\u001b[0;31mNameError\u001b[0m                                 Traceback (most recent call last)",
      "Cell \u001b[0;32mIn[19], line 3\u001b[0m\n\u001b[1;32m      1\u001b[0m \u001b[38;5;28;01mwhile\u001b[39;00m \u001b[38;5;28;01mTrue\u001b[39;00m:\n\u001b[0;32m----> 3\u001b[0m     r,g,b,_\u001b[38;5;241m=\u001b[39m\u001b[43mcolor_sensor\u001b[49m\u001b[38;5;241m.\u001b[39mvalue\n\u001b[1;32m      5\u001b[0m     color\u001b[38;5;241m=\u001b[39mclosest_color(r,g,b,\n\u001b[1;32m      6\u001b[0m         red\u001b[38;5;241m=\u001b[39m[\u001b[38;5;241m255\u001b[39m,\u001b[38;5;241m0\u001b[39m,\u001b[38;5;241m0\u001b[39m],\n\u001b[1;32m      7\u001b[0m         green\u001b[38;5;241m=\u001b[39m[\u001b[38;5;241m0\u001b[39m,\u001b[38;5;241m255\u001b[39m,\u001b[38;5;241m0\u001b[39m],\n\u001b[1;32m      8\u001b[0m         white\u001b[38;5;241m=\u001b[39m[\u001b[38;5;241m255\u001b[39m,\u001b[38;5;241m255\u001b[39m,\u001b[38;5;241m255\u001b[39m],\n\u001b[1;32m      9\u001b[0m                        )\n\u001b[1;32m     11\u001b[0m     \u001b[38;5;28;01mif\u001b[39;00m color\u001b[38;5;241m==\u001b[39m\u001b[38;5;124m\"\u001b[39m\u001b[38;5;124mred\u001b[39m\u001b[38;5;124m\"\u001b[39m:\n",
      "\u001b[0;31mNameError\u001b[0m: name 'color_sensor' is not defined"
     ]
    }
   ],
   "source": [
    "while True:\n",
    "\n",
    "    r,g,b,_=color_sensor.value\n",
    "\n",
    "    color=closest_color(r,g,b,\n",
    "        red=[255,0,0],\n",
    "        green=[0,255,0],\n",
    "        white=[255,255,255],\n",
    "                       )\n",
    "\n",
    "    if color==\"red\":\n",
    "        break\n",
    "\n",
    "    if color!=\"white\":\n",
    "        break\n",
    "\n",
    "    if color in [\"red\",\"green\"]:\n",
    "        break\n",
    "\n",
    "\n",
    "if color==\"red\":\n",
    "    # do something here\n",
    "    pass\n",
    "elif color==\"green\":\n",
    "    # do something else\n",
    "    pass\n",
    "else:\n",
    "    print(\"You can't get there from here.\")\n",
    "    \n",
    "        "
   ]
  },
  {
   "cell_type": "code",
   "execution_count": null,
   "id": "dafb1b09-af73-4850-b2a7-2a101a37707a",
   "metadata": {},
   "outputs": [],
   "source": [
    "left.power=20\n",
    "right.power=20\n",
    "\n",
    "try:\n",
    "    while True:\n",
    "    \n",
    "        r,g,b,_=color_sensor.value\n",
    "    \n",
    "        color=closest_color(r,g,b,\n",
    "            red=[255,0,0],\n",
    "            green=[0,255,0],\n",
    "            white=[255,255,255],\n",
    "            gray=[55,55,55],\n",
    "            )\n",
    "    \n",
    "        if color==\"red\":\n",
    "            print(\"saw red\")\n",
    "            left.power=-20\n",
    "            right.power=-20\n",
    "    \n",
    "        if color==\"green\":\n",
    "            print(\"saw green\")\n",
    "            left.power=20\n",
    "            right.power=20\n",
    "\n",
    "        Wait(.1)\n",
    "\n",
    "except KeyboardInterrupt:  # control-C\n",
    "    print(\"Breaking out.\")\n",
    "\n",
    "Shutdown()\n",
    "    "
   ]
  }
 ],
 "metadata": {
  "kernelspec": {
   "display_name": "Python 3 (ipykernel)",
   "language": "python",
   "name": "python3"
  },
  "language_info": {
   "codemirror_mode": {
    "name": "ipython",
    "version": 3
   },
   "file_extension": ".py",
   "mimetype": "text/x-python",
   "name": "python",
   "nbconvert_exporter": "python",
   "pygments_lexer": "ipython3",
   "version": "3.12.6"
  }
 },
 "nbformat": 4,
 "nbformat_minor": 5
}
