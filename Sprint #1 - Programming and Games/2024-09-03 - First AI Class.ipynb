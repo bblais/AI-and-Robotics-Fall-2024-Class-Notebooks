{
 "cells": [
  {
   "cell_type": "code",
   "execution_count": null,
   "id": "4df1c73e-5f90-4cc5-b5d8-7dedba4ec12c",
   "metadata": {},
   "outputs": [
    {
     "name": "stdout",
     "output_type": "stream",
     "text": [
      "hello world\n"
     ]
    }
   ],
   "source": [
    "print(\"hello world\")"
   ]
  },
  {
   "cell_type": "code",
   "execution_count": null,
   "id": "64bfb90a-43b6-4e50-8e36-20f74998b2b2",
   "metadata": {},
   "outputs": [
    {
     "data": {
      "text/plain": [
       "466251870654350077"
      ]
     },
     "execution_count": null,
     "metadata": {},
     "output_type": "execute_result"
    }
   ],
   "source": [
    "634638237*734673463-674654654"
   ]
  },
  {
   "cell_type": "code",
   "execution_count": null,
   "id": "3124f82c-b18a-4b87-b22c-849c9f41c99b",
   "metadata": {},
   "outputs": [
    {
     "ename": "NameError",
     "evalue": "name 'cos' is not defined",
     "output_type": "error",
     "traceback": [
      "\u001b[0;31m---------------------------------------------------------------------------\u001b[0m",
      "\u001b[0;31mNameError\u001b[0m                                 Traceback (most recent call last)",
      "Cell \u001b[0;32mIn[5], line 1\u001b[0m\n\u001b[0;32m----> 1\u001b[0m cos(\u001b[38;5;241m90\u001b[39m)\n",
      "\u001b[0;31mNameError\u001b[0m: name 'cos' is not defined"
     ]
    }
   ],
   "source": [
    "cos(90)"
   ]
  },
  {
   "cell_type": "code",
   "execution_count": null,
   "id": "fe677773-3bfb-40a1-9609-f67227f22c61",
   "metadata": {},
   "outputs": [],
   "source": [
    "from numpy import cos"
   ]
  },
  {
   "cell_type": "code",
   "execution_count": null,
   "id": "e272ce36-ca74-4550-830e-ad5f95b31b52",
   "metadata": {},
   "outputs": [
    {
     "data": {
      "text/plain": [
       "-0.4480736161291702"
      ]
     },
     "execution_count": null,
     "metadata": {},
     "output_type": "execute_result"
    }
   ],
   "source": [
    "cos(90)"
   ]
  },
  {
   "cell_type": "code",
   "execution_count": null,
   "id": "c16dd450-6de1-4fad-bee1-81dc98a23ff3",
   "metadata": {},
   "outputs": [
    {
     "data": {
      "text/plain": [
       "-0.4480736161291702"
      ]
     },
     "execution_count": null,
     "metadata": {},
     "output_type": "execute_result"
    }
   ],
   "source": [
    "cos(90)"
   ]
  },
  {
   "cell_type": "code",
   "execution_count": null,
   "id": "1cbc32c6-61b8-4434-9a7c-24f749f05527",
   "metadata": {},
   "outputs": [],
   "source": []
  },
  {
   "cell_type": "code",
   "execution_count": null,
   "id": "03733002-84c9-48c0-939a-74cc80eb9d21",
   "metadata": {},
   "outputs": [
    {
     "ename": "NameError",
     "evalue": "name 'coss' is not defined",
     "output_type": "error",
     "traceback": [
      "\u001b[0;31m---------------------------------------------------------------------------\u001b[0m",
      "\u001b[0;31mNameError\u001b[0m                                 Traceback (most recent call last)",
      "Cell \u001b[0;32mIn[12], line 1\u001b[0m\n\u001b[0;32m----> 1\u001b[0m coss(\u001b[38;5;241m90\u001b[39m)\n",
      "\u001b[0;31mNameError\u001b[0m: name 'coss' is not defined"
     ]
    }
   ],
   "source": [
    "coss(90)"
   ]
  },
  {
   "cell_type": "code",
   "execution_count": null,
   "id": "b61f795a-f013-45b4-9404-e4b6d3807535",
   "metadata": {},
   "outputs": [],
   "source": [
    "from numpy import radians"
   ]
  },
  {
   "cell_type": "code",
   "execution_count": null,
   "id": "aa3db4e5-d7e3-4d8a-bf45-202ed97fb9cc",
   "metadata": {},
   "outputs": [
    {
     "data": {
      "text/plain": [
       "6.123233995736766e-17"
      ]
     },
     "execution_count": null,
     "metadata": {},
     "output_type": "execute_result"
    }
   ],
   "source": [
    "cos(radians(90))"
   ]
  },
  {
   "cell_type": "code",
   "execution_count": null,
   "id": "e76c7a93-200a-4d7f-a8fb-71047019125d",
   "metadata": {},
   "outputs": [],
   "source": [
    "a=5\n",
    "b=10\n",
    "c=a*b + b**2"
   ]
  },
  {
   "cell_type": "code",
   "execution_count": null,
   "id": "44fd8d52-3e81-4dcf-bfc4-b0416f2b4e79",
   "metadata": {},
   "outputs": [
    {
     "data": {
      "text/plain": [
       "150"
      ]
     },
     "execution_count": null,
     "metadata": {},
     "output_type": "execute_result"
    }
   ],
   "source": [
    "c"
   ]
  },
  {
   "cell_type": "markdown",
   "id": "76adcba8-3f56-4112-8fcf-9d5316d8c5b4",
   "metadata": {},
   "source": [
    "Text like this isn't python code.  It's notes.\n",
    "\n",
    "**bold** *italic*\n",
    "\n",
    "# heading 1\n",
    "\n",
    "some text\n",
    "\n",
    "## heading 2\n",
    "\n",
    "### heading 3\n",
    "\n",
    "https://www.markdownguide.org/basic-syntax/"
   ]
  },
  {
   "cell_type": "code",
   "execution_count": null,
   "id": "b634d442-a5ab-4717-b518-19d3d6553318",
   "metadata": {},
   "outputs": [
    {
     "data": {
      "text/plain": [
       "'/Users/bblais/Documents/Git/AI-and-Robotics-Fall-2024-Class-Notebooks'"
      ]
     },
     "execution_count": null,
     "metadata": {},
     "output_type": "execute_result"
    }
   ],
   "source": [
    "pwd"
   ]
  },
  {
   "cell_type": "code",
   "execution_count": null,
   "id": "2d3e9fda-069c-4655-b2b2-09e7dd3c2c9c",
   "metadata": {},
   "outputs": [],
   "source": []
  }
 ],
 "metadata": {
  "kernelspec": {
   "display_name": "python3",
   "language": "python",
   "name": "python3"
  }
 },
 "nbformat": 4,
 "nbformat_minor": 5
}
