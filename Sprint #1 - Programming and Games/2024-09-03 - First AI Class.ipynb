{
 "cells": [
  {
   "cell_type": "code",
   "execution_count": null,
   "id": "4df1c73e-5f90-4cc5-b5d8-7dedba4ec12c",
   "metadata": {},
   "outputs": [],
   "source": []
  }
 ],
 "metadata": {
  "kernelspec": {
   "display_name": "python3",
   "language": "python",
   "name": "python3"
  }
 },
 "nbformat": 4,
 "nbformat_minor": 5
}
