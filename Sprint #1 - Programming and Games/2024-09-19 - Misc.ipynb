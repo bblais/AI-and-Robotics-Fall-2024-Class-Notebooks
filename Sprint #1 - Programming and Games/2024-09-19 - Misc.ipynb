{
 "cells": [
  {
   "cell_type": "code",
   "execution_count": null,
   "id": "d9b87cac-acf1-49f8-aa1e-88c24220ab70",
   "metadata": {},
   "outputs": [
    {
     "name": "stdout",
     "output_type": "stream",
     "text": [
      "Version:  0.3.02\n"
     ]
    }
   ],
   "source": [
    "from Game import *"
   ]
  },
  {
   "cell_type": "code",
   "execution_count": null,
   "id": "9bf544c6-d628-45cb-b366-d2f98758b1c1",
   "metadata": {},
   "outputs": [
    {
     "data": {
      "text/plain": [
       " 1  2  0 \n",
       " 0  0  1 \n",
       " 1  0  0 "
      ]
     },
     "execution_count": null,
     "metadata": {},
     "output_type": "execute_result"
    }
   ],
   "source": [
    "state=Board(3,3)\n",
    "state.board=[random.choice([0,1,2]) for i in range(9)]\n",
    "state"
   ]
  },
  {
   "cell_type": "code",
   "execution_count": null,
   "id": "54c9d42b-bb9e-44fe-9b04-ca236e46a4b9",
   "metadata": {},
   "outputs": [
    {
     "data": {
      "text/plain": [
       " 0  1  1  0  1  1  1 \n",
       " 1  1  1  0  1  1  1 \n",
       " 1  1  0  1  1  0  0 \n",
       " 1  0  1  1  1  0  0 \n",
       " 0  1  0  1  1  1  1 \n",
       " 1  1  1  1  1  0  1 "
      ]
     },
     "execution_count": null,
     "metadata": {},
     "output_type": "execute_result"
    }
   ],
   "source": [
    "state=Board(6,7)\n",
    "state.board=[random.choice([0,1,1,1]) for i in range(42)]\n",
    "state"
   ]
  },
  {
   "cell_type": "code",
   "execution_count": null,
   "id": "bbb59801-bb0c-43c3-a8ab-367a150c5001",
   "metadata": {},
   "outputs": [
    {
     "name": "stdout",
     "output_type": "stream",
     "text": [
      " 0  1  2  3  4  5  6 \n",
      " 7  8  9 10 11 12 13 \n",
      "14 15 16 17 18 19 20 \n",
      "21 22 23 24 25 26 27 \n",
      "28 29 30 31 32 33 34 \n",
      "35 36 37 38 39 40 41 \n",
      "\n"
     ]
    }
   ],
   "source": [
    "state.show_locations()"
   ]
  },
  {
   "cell_type": "code",
   "execution_count": null,
   "id": "57c3494e-7eb2-4de2-8a94-61162b5e0837",
   "metadata": {},
   "outputs": [
    {
     "data": {
      "text/plain": [
       " 2  0  1  1  0  2  0 \n",
       " 0  2  2  1  2  1  2 \n",
       " 1  1  2  0  2  2  2 \n",
       " 1  2  2  0  0  1  1 \n",
       " 0  2  0  2  2  2  0 \n",
       " 0  0  0  0  0  2  0 "
      ]
     },
     "execution_count": null,
     "metadata": {},
     "output_type": "execute_result"
    }
   ],
   "source": [
    "state"
   ]
  },
  {
   "cell_type": "code",
   "execution_count": null,
   "id": "e5a2c520-17b9-4184-a277-372a5753020e",
   "metadata": {},
   "outputs": [
    {
     "name": "stdout",
     "output_type": "stream",
     "text": [
      "Row is  [0, 1, 1, 0, 1, 1, 1]\n",
      "Row is  [1, 1, 1, 0, 1, 1, 1]\n",
      "Row is  [1, 1, 0, 1, 1, 0, 0]\n",
      "Row is  [1, 0, 1, 1, 1, 0, 0]\n",
      "Row is  [0, 1, 0, 1, 1, 1, 1]\n",
      "Row is  [1, 1, 1, 1, 1, 0, 1]\n"
     ]
    }
   ],
   "source": [
    "for row in state.rows():\n",
    "    print(\"Row is \",row)"
   ]
  },
  {
   "cell_type": "code",
   "execution_count": null,
   "id": "d1e6661f-f7a9-4ae0-9ecd-87efcf9bcad8",
   "metadata": {},
   "outputs": [
    {
     "name": "stdout",
     "output_type": "stream",
     "text": [
      "Row is  [0, 1, 1, 0]\n",
      "Row is  [1, 1, 0, 1]\n",
      "Row is  [1, 0, 1, 1]\n",
      "Row is  [0, 1, 1, 1]\n",
      "Row is  [1, 1, 1, 0]\n",
      "Row is  [1, 1, 0, 1]\n",
      "Row is  [1, 0, 1, 1]\n",
      "Row is  [0, 1, 1, 1]\n",
      "Row is  [1, 1, 0, 1]\n",
      "Row is  [1, 0, 1, 1]\n",
      "Row is  [0, 1, 1, 0]\n",
      "Row is  [1, 1, 0, 0]\n",
      "Row is  [1, 0, 1, 1]\n",
      "Row is  [0, 1, 1, 1]\n",
      "Row is  [1, 1, 1, 0]\n",
      "Row is  [1, 1, 0, 0]\n",
      "Row is  [0, 1, 0, 1]\n",
      "Row is  [1, 0, 1, 1]\n",
      "Row is  [0, 1, 1, 1]\n",
      "[1, 1, 1, 1]  player 1 wins\n",
      "Row is  [1, 1, 1, 1]\n",
      "[1, 1, 1, 1]  player 1 wins\n",
      "Row is  [1, 1, 1, 1]\n",
      "[1, 1, 1, 1]  player 1 wins\n",
      "Row is  [1, 1, 1, 1]\n",
      "Row is  [1, 1, 1, 0]\n",
      "Row is  [1, 1, 0, 1]\n"
     ]
    }
   ],
   "source": [
    "for row in state.rows(4):\n",
    "    if row==[1,1,1,1]:\n",
    "        print(row,\" player 1 wins\")\n",
    "    if row==[2,2,2,2]:\n",
    "        print(row,\" player 2 wins\")\n",
    "    print(\"Row is \",row)"
   ]
  },
  {
   "cell_type": "code",
   "execution_count": null,
   "id": "3efb4f31-fcbe-4111-bed3-78c4a9a6f8fe",
   "metadata": {},
   "outputs": [
    {
     "data": {
      "text/plain": [
       " 0  1  1  0  1  1  1 \n",
       " 1  1  1  0  1  1  1 \n",
       " 1  1  0  1  1  0  0 \n",
       " 1  0  1  1  1  0  0 \n",
       " 0  1  0  1  1  1  1 \n",
       " 1  1  1  1  1  0  1 "
      ]
     },
     "execution_count": null,
     "metadata": {},
     "output_type": "execute_result"
    }
   ],
   "source": [
    "state"
   ]
  },
  {
   "cell_type": "code",
   "execution_count": null,
   "id": "4180b0fe-9c6b-4e12-82f9-69f0e152fab2",
   "metadata": {},
   "outputs": [],
   "source": []
  },
  {
   "cell_type": "code",
   "execution_count": null,
   "id": "010051c3-7bd3-4590-b191-986d759aabaa",
   "metadata": {},
   "outputs": [
    {
     "name": "stdout",
     "output_type": "stream",
     "text": [
      "col is  [0, 1, 1, 1]\n",
      "col is  [1, 1, 1, 0]\n",
      "col is  [1, 1, 0, 1]\n",
      "col is  [0, 0, 1, 1]\n",
      "[1, 1, 1, 1]  player 1 wins\n",
      "col is  [1, 1, 1, 1]\n",
      "col is  [1, 1, 0, 0]\n",
      "col is  [1, 1, 0, 0]\n",
      "col is  [1, 1, 1, 0]\n",
      "col is  [1, 1, 0, 1]\n",
      "col is  [1, 0, 1, 0]\n",
      "col is  [0, 1, 1, 1]\n",
      "[1, 1, 1, 1]  player 1 wins\n",
      "col is  [1, 1, 1, 1]\n",
      "col is  [1, 0, 0, 1]\n",
      "col is  [1, 0, 0, 1]\n",
      "col is  [1, 1, 0, 1]\n",
      "col is  [1, 0, 1, 1]\n",
      "col is  [0, 1, 0, 1]\n",
      "[1, 1, 1, 1]  player 1 wins\n",
      "col is  [1, 1, 1, 1]\n",
      "[1, 1, 1, 1]  player 1 wins\n",
      "col is  [1, 1, 1, 1]\n",
      "col is  [0, 0, 1, 0]\n",
      "col is  [0, 0, 1, 1]\n"
     ]
    }
   ],
   "source": [
    "for col in state.cols(4):\n",
    "    if col==[1,1,1,1]:\n",
    "        print(col,\" player 1 wins\")\n",
    "    if col==[2,2,2,2]:\n",
    "        print(col,\" player 2 wins\")\n",
    "    print(\"col is \",col)"
   ]
  },
  {
   "cell_type": "code",
   "execution_count": null,
   "id": "15ba267e-8d2a-4988-a3ea-dbafadbf4ac1",
   "metadata": {},
   "outputs": [
    {
     "name": "stdout",
     "output_type": "stream",
     "text": [
      "diag is  [0, 0, 1, 1]\n",
      "[1, 1, 1, 1]  player 1 wins\n",
      "diag is  [0, 0, 1, 1]\n",
      "diag is  [0, 0, 1, 1]\n",
      "diag is  [0, 0, 1, 1]\n",
      "diag is  [0, 0, 1, 1]\n",
      "diag is  [0, 0, 1, 1]\n",
      "[1, 1, 1, 1]  player 1 wins\n",
      "diag is  [0, 0, 1, 1]\n",
      "[1, 1, 1, 1]  player 1 wins\n",
      "diag is  [0, 0, 1, 1]\n",
      "[1, 1, 1, 1]  player 1 wins\n",
      "diag is  [0, 0, 1, 1]\n",
      "diag is  [0, 0, 1, 1]\n",
      "[1, 1, 1, 1]  player 1 wins\n",
      "diag is  [0, 0, 1, 1]\n",
      "diag is  [0, 0, 1, 1]\n",
      "diag is  [0, 0, 1, 1]\n",
      "[1, 1, 1, 1]  player 1 wins\n",
      "diag is  [0, 0, 1, 1]\n",
      "diag is  [0, 0, 1, 1]\n",
      "diag is  [0, 0, 1, 1]\n",
      "diag is  [0, 0, 1, 1]\n",
      "[1, 1, 1, 1]  player 1 wins\n",
      "diag is  [0, 0, 1, 1]\n",
      "diag is  [0, 0, 1, 1]\n",
      "[1, 1, 1, 1]  player 1 wins\n",
      "diag is  [0, 0, 1, 1]\n",
      "[1, 1, 1, 1]  player 1 wins\n",
      "diag is  [0, 0, 1, 1]\n",
      "diag is  [0, 0, 1, 1]\n",
      "diag is  [0, 0, 1, 1]\n",
      "diag is  [0, 0, 1, 1]\n"
     ]
    }
   ],
   "source": [
    "for diag in state.diags(4):\n",
    "    if diag==[1,1,1,1]:\n",
    "        print(diag,\" player 1 wins\")\n",
    "    if diag==[2,2,2,2]:\n",
    "        print(diag,\" player 2 wins\")\n",
    "    print(\"diag is \",col)"
   ]
  },
  {
   "cell_type": "code",
   "execution_count": null,
   "id": "0634c86a-1965-470e-8fc7-feef6841aeef",
   "metadata": {},
   "outputs": [
    {
     "data": {
      "text/plain": [
       " 0  0  0 \n",
       " 1  0  2 \n",
       " 0  1  0 "
      ]
     },
     "execution_count": null,
     "metadata": {},
     "output_type": "execute_result"
    }
   ],
   "source": [
    "state=Board(3,3)\n",
    "state.board=[random.choice([0,1,2]) for i in range(9)]\n",
    "state"
   ]
  },
  {
   "cell_type": "code",
   "execution_count": null,
   "id": "769ecb54-1312-43fc-9f3a-39b455cabe23",
   "metadata": {},
   "outputs": [
    {
     "data": {
      "text/plain": [
       "[[3, 0], [7, 4], [7, 5]]"
      ]
     },
     "execution_count": null,
     "metadata": {},
     "output_type": "execute_result"
    }
   ],
   "source": [
    "state.moves(1,\"n\",\"xne\",\"xnw\")"
   ]
  },
  {
   "cell_type": "code",
   "execution_count": null,
   "id": "0523f14b-d07d-44a4-bb95-b21571b57b98",
   "metadata": {},
   "outputs": [
    {
     "data": {
      "text/plain": [
       " 2  2  0  0  0 \n",
       " 0  1  1  0  1 \n",
       " 1  0  2  2  2 \n",
       " 0  0  0  1  2 \n",
       " 1  0  0  0  1 "
      ]
     },
     "execution_count": null,
     "metadata": {},
     "output_type": "execute_result"
    }
   ],
   "source": [
    "state=Board(5,5)\n",
    "state.board=[random.choice([0,0,0,1,2]) for i in range(25)]\n",
    "state"
   ]
  },
  {
   "cell_type": "code",
   "execution_count": null,
   "id": "d3161a4f-ddc7-42f3-a7a1-83f8e109a778",
   "metadata": {},
   "outputs": [
    {
     "data": {
      "text/plain": [
       "[[7, 2], [9, 4], [10, 5], [20, 15], [18, 14], [6, 0], [7, 1], [18, 12]]"
      ]
     },
     "execution_count": null,
     "metadata": {},
     "output_type": "execute_result"
    }
   ],
   "source": [
    "state.moves(1,\"n\",\"xne\",\"xnw\")"
   ]
  },
  {
   "cell_type": "code",
   "execution_count": null,
   "id": "b8462e5f-b442-4cc9-8eb8-d5d00fbc2d78",
   "metadata": {},
   "outputs": [
    {
     "data": {
      "text/plain": [
       " 0  0  0 \n",
       " 0  0  0 \n",
       " 0  0  0 \n",
       "\n",
       "    0  0  0 \n",
       "    0  0  0 \n",
       "    0  0  0 \n",
       "\n",
       "       0  0  0 \n",
       "       0  0  0 \n",
       "       0  0  0 \n"
      ]
     },
     "execution_count": null,
     "metadata": {},
     "output_type": "execute_result"
    }
   ],
   "source": [
    "Board(3,3,3)"
   ]
  },
  {
   "cell_type": "code",
   "execution_count": null,
   "id": "e8d24e1d-b1a5-468b-962c-c1c0632b5da8",
   "metadata": {},
   "outputs": [
    {
     "data": {
      "text/plain": [
       " 2  2  0  0  0 \n",
       " 0  1  1  0  1 \n",
       " 1  0  2  2  2 \n",
       " 0  0  0  1  2 \n",
       " 1  0  0  0  1 "
      ]
     },
     "execution_count": null,
     "metadata": {},
     "output_type": "execute_result"
    }
   ],
   "source": [
    "state"
   ]
  },
  {
   "cell_type": "code",
   "execution_count": null,
   "id": "c60b719c-420f-4c6c-abcd-e8c87a7dc799",
   "metadata": {},
   "outputs": [
    {
     "data": {
      "text/plain": [
       "1"
      ]
     },
     "execution_count": null,
     "metadata": {},
     "output_type": "execute_result"
    }
   ],
   "source": [
    "state[7]"
   ]
  },
  {
   "cell_type": "code",
   "execution_count": null,
   "id": "33051f18-392c-413d-bf70-1682e4300055",
   "metadata": {},
   "outputs": [
    {
     "data": {
      "text/plain": [
       "1"
      ]
     },
     "execution_count": null,
     "metadata": {},
     "output_type": "execute_result"
    }
   ],
   "source": [
    "state[1,2]"
   ]
  },
  {
   "cell_type": "code",
   "execution_count": null,
   "id": "3b6467d9-2b84-4c9e-9cb7-401c85ebe94a",
   "metadata": {},
   "outputs": [],
   "source": []
  }
 ],
 "metadata": {
  "kernelspec": {
   "display_name": "python3",
   "language": "python",
   "name": "python3"
  }
 },
 "nbformat": 4,
 "nbformat_minor": 5
}
