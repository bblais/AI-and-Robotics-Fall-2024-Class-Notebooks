{
 "cells": [
  {
   "cell_type": "code",
   "execution_count": null,
   "id": "db39ec10-1b9d-4e5c-b4f9-e184ecd696ae",
   "metadata": {},
   "outputs": [
    {
     "name": "stdout",
     "output_type": "stream",
     "text": [
      "Version:  0.3.01\n"
     ]
    }
   ],
   "source": [
    "from Game import *"
   ]
  },
  {
   "cell_type": "markdown",
   "id": "80a256d8-c404-424a-b3fb-bc608331c0f5",
   "metadata": {},
   "source": [
    "Four functions to do:\n",
    "\n",
    "1. `initial_state()`   return the state for the start of the game\n",
    "2. `valid_moves(state,player)` return a list of valid moves\n",
    "3. `update_state(state, player, move )` return the new state\n",
    "4. `win_status(new_state,player)` returns one of `\"win\"`,`\"lose\"`,`\"stalemate\"` or `None`"
   ]
  },
  {
   "cell_type": "markdown",
   "id": "ae9043d2-f7c8-4352-8920-657fd317b51b",
   "metadata": {},
   "source": [
    "- What is state for this game:  single #\n",
    "- What is a move for this game: single #. (1,2, or 3)"
   ]
  },
  {
   "cell_type": "code",
   "execution_count": null,
   "id": "4d3d08f5-15f2-4f00-ab48-4613e9aaa9b5",
   "metadata": {},
   "outputs": [],
   "source": [
    "def initial_state():\n",
    "    return 21"
   ]
  },
  {
   "cell_type": "code",
   "execution_count": null,
   "id": "34793994-f02e-47c0-8969-c02f9acc7848",
   "metadata": {},
   "outputs": [
    {
     "data": {
      "text/plain": [
       "21"
      ]
     },
     "execution_count": null,
     "metadata": {},
     "output_type": "execute_result"
    }
   ],
   "source": [
    "initial_state()"
   ]
  },
  {
   "cell_type": "code",
   "execution_count": null,
   "id": "1b60af6f-037e-489b-8cee-a7edfd46196a",
   "metadata": {},
   "outputs": [],
   "source": [
    "def valid_moves(state,player):\n",
    "    if state==2:\n",
    "        return [1,2]\n",
    "    elif state==1:\n",
    "        return [1]\n",
    "    else:\n",
    "        return [1,2,3 ]"
   ]
  },
  {
   "cell_type": "code",
   "execution_count": null,
   "id": "c2f5b190-82af-42eb-81af-db3acfad11e5",
   "metadata": {},
   "outputs": [
    {
     "data": {
      "text/plain": [
       "[1, 2, 3]"
      ]
     },
     "execution_count": null,
     "metadata": {},
     "output_type": "execute_result"
    }
   ],
   "source": [
    "valid_moves(21,1)"
   ]
  },
  {
   "cell_type": "code",
   "execution_count": null,
   "id": "f4e1a8cf-d0fe-4f3e-b7e8-0bfcb8dbccf0",
   "metadata": {},
   "outputs": [
    {
     "data": {
      "text/plain": [
       "[1, 2]"
      ]
     },
     "execution_count": null,
     "metadata": {},
     "output_type": "execute_result"
    }
   ],
   "source": [
    "valid_moves(2,1)"
   ]
  },
  {
   "cell_type": "code",
   "execution_count": null,
   "id": "0bbcc235-5e75-4051-937e-3fd972481bf2",
   "metadata": {},
   "outputs": [],
   "source": []
  }
 ],
 "metadata": {
  "kernelspec": {
   "display_name": "python3",
   "language": "python",
   "name": "python3"
  }
 },
 "nbformat": 4,
 "nbformat_minor": 5
}
