{
 "cells": [
  {
   "cell_type": "code",
   "execution_count": null,
   "id": "db39ec10-1b9d-4e5c-b4f9-e184ecd696ae",
   "metadata": {},
   "outputs": [
    {
     "name": "stdout",
     "output_type": "stream",
     "text": [
      "Version:  0.3.01\n"
     ]
    }
   ],
   "source": [
    "from Game import *"
   ]
  },
  {
   "cell_type": "markdown",
   "id": "80a256d8-c404-424a-b3fb-bc608331c0f5",
   "metadata": {},
   "source": [
    "Four functions to do:\n",
    "\n",
    "1. `initial_state()`   return the state for the start of the game\n",
    "2. `valid_moves(state,player)` return a list of valid moves\n",
    "3. `update_state(state, player, move )` return the new state\n",
    "4. `win_status(state,player)` returns one of `\"win\"`,`\"lose\"`,`\"stalemate\"` or `None`"
   ]
  },
  {
   "cell_type": "markdown",
   "id": "ae9043d2-f7c8-4352-8920-657fd317b51b",
   "metadata": {},
   "source": [
    "- What is state for this game:  single #\n",
    "- What is a move for this game: single #. (1,2, or 3)"
   ]
  },
  {
   "cell_type": "code",
   "execution_count": null,
   "id": "4d3d08f5-15f2-4f00-ab48-4613e9aaa9b5",
   "metadata": {},
   "outputs": [],
   "source": [
    "def initial_state():\n",
    "    return 21"
   ]
  },
  {
   "cell_type": "code",
   "execution_count": null,
   "id": "34793994-f02e-47c0-8969-c02f9acc7848",
   "metadata": {},
   "outputs": [
    {
     "data": {
      "text/plain": [
       "21"
      ]
     },
     "execution_count": null,
     "metadata": {},
     "output_type": "execute_result"
    }
   ],
   "source": [
    "initial_state()"
   ]
  },
  {
   "cell_type": "code",
   "execution_count": null,
   "id": "1b60af6f-037e-489b-8cee-a7edfd46196a",
   "metadata": {},
   "outputs": [],
   "source": [
    "def valid_moves(state,player):\n",
    "    if state==2:\n",
    "        return [1,2]\n",
    "    elif state==1:\n",
    "        return [1]\n",
    "    else:\n",
    "        return [1,2,3 ]"
   ]
  },
  {
   "cell_type": "code",
   "execution_count": null,
   "id": "c2f5b190-82af-42eb-81af-db3acfad11e5",
   "metadata": {},
   "outputs": [
    {
     "data": {
      "text/plain": [
       "[1, 2, 3]"
      ]
     },
     "execution_count": null,
     "metadata": {},
     "output_type": "execute_result"
    }
   ],
   "source": [
    "valid_moves(21,1)"
   ]
  },
  {
   "cell_type": "code",
   "execution_count": null,
   "id": "f4e1a8cf-d0fe-4f3e-b7e8-0bfcb8dbccf0",
   "metadata": {},
   "outputs": [
    {
     "data": {
      "text/plain": [
       "[1, 2]"
      ]
     },
     "execution_count": null,
     "metadata": {},
     "output_type": "execute_result"
    }
   ],
   "source": [
    "valid_moves(2,1)"
   ]
  },
  {
   "cell_type": "code",
   "execution_count": null,
   "id": "0bbcc235-5e75-4051-937e-3fd972481bf2",
   "metadata": {},
   "outputs": [],
   "source": [
    "def update_state(state,player,move):\n",
    "    new_state=state-move\n",
    "    return new_state"
   ]
  },
  {
   "cell_type": "code",
   "execution_count": null,
   "id": "47e5ef25-e368-4258-aa67-7cc4da493552",
   "metadata": {},
   "outputs": [
    {
     "data": {
      "text/plain": [
       "18"
      ]
     },
     "execution_count": null,
     "metadata": {},
     "output_type": "execute_result"
    }
   ],
   "source": [
    "update_state(21,1,3)"
   ]
  },
  {
   "cell_type": "code",
   "execution_count": null,
   "id": "9d140e16-37c7-4c3a-81c7-c6ed4d8b00df",
   "metadata": {},
   "outputs": [],
   "source": [
    "def win_status(new_state,player):\n",
    "    \n",
    "    if new_state==1:\n",
    "        return \"win\"\n",
    "    \n",
    "    if new_state==0:\n",
    "        return \"lose\"\n",
    "    \n",
    "    return None\n",
    "    \n",
    "    "
   ]
  },
  {
   "cell_type": "code",
   "execution_count": null,
   "id": "99bcb37e-132a-40a1-9bb4-9a209bbab12e",
   "metadata": {},
   "outputs": [],
   "source": [
    "def show_state(state,player):\n",
    "    print(state)"
   ]
  },
  {
   "cell_type": "markdown",
   "id": "2728d3b7-482a-48d6-bd9c-381dfbb5ae94",
   "metadata": {},
   "source": [
    "## Agents"
   ]
  },
  {
   "cell_type": "code",
   "execution_count": null,
   "id": "b337171a-e5ea-4303-8ff0-50530e9977de",
   "metadata": {},
   "outputs": [],
   "source": [
    "def human_move(state,player):\n",
    "    \n",
    "    while True:\n",
    "        move=eval(input(\"Enter your move\"))\n",
    "\n",
    "        if move not in valid_moves(state,player):\n",
    "            print(\"That is not a valid move\")\n",
    "        else:\n",
    "            break\n",
    "    \n",
    "    return move\n",
    "\n",
    "human_agent=Agent(human_move)"
   ]
  },
  {
   "cell_type": "code",
   "execution_count": null,
   "id": "7e1f34f9-7a34-49c9-b1c9-f229b88a70ac",
   "metadata": {},
   "outputs": [],
   "source": [
    "def monkey_move(state,player):\n",
    "    return random.choice(valid_moves(state,player))\n",
    "monkey_agent=Agent(monkey_move)"
   ]
  },
  {
   "cell_type": "code",
   "execution_count": null,
   "id": "760227b3-3a53-4e0a-b2e4-4423fc22f844",
   "metadata": {},
   "outputs": [
    {
     "data": {
      "text/plain": [
       "3"
      ]
     },
     "execution_count": null,
     "metadata": {},
     "output_type": "execute_result"
    }
   ],
   "source": [
    "monkey_move(21,1)"
   ]
  },
  {
   "cell_type": "code",
   "execution_count": null,
   "id": "5dc22d22-955a-4efc-8624-e906a3b4e8a5",
   "metadata": {},
   "outputs": [],
   "source": [
    "state=initial_state()"
   ]
  },
  {
   "cell_type": "code",
   "execution_count": null,
   "id": "986a0a5f-d6b2-41e2-a9ec-dff8dbcc22c5",
   "metadata": {},
   "outputs": [
    {
     "name": "stdin",
     "output_type": "stream",
     "text": [
      "Enter your move 5\n"
     ]
    },
    {
     "name": "stdout",
     "output_type": "stream",
     "text": [
      "That is not a valid move\n"
     ]
    },
    {
     "name": "stdin",
     "output_type": "stream",
     "text": [
      "Enter your move -1\n"
     ]
    },
    {
     "name": "stdout",
     "output_type": "stream",
     "text": [
      "That is not a valid move\n"
     ]
    },
    {
     "name": "stdin",
     "output_type": "stream",
     "text": [
      "Enter your move 2\n"
     ]
    },
    {
     "data": {
      "text/plain": [
       "2"
      ]
     },
     "execution_count": null,
     "metadata": {},
     "output_type": "execute_result"
    }
   ],
   "source": [
    "human_move(state,1)"
   ]
  },
  {
   "cell_type": "code",
   "execution_count": null,
   "id": "79bb2669-ced7-48b3-9729-2528a81ea067",
   "metadata": {},
   "outputs": [],
   "source": [
    "g=Game()"
   ]
  },
  {
   "cell_type": "code",
   "execution_count": null,
   "id": "ec831175-7e88-4491-88c0-4eb27c0a7351",
   "metadata": {},
   "outputs": [
    {
     "name": "stdout",
     "output_type": "stream",
     "text": [
      "====\n",
      "Game  1\n",
      "21\n"
     ]
    },
    {
     "name": "stdin",
     "output_type": "stream",
     "text": [
      "Enter your move 2\n"
     ]
    },
    {
     "name": "stdout",
     "output_type": "stream",
     "text": [
      "Player 1 moves 2\n",
      "19\n"
     ]
    },
    {
     "name": "stdin",
     "output_type": "stream",
     "text": [
      "Enter your move 1\n"
     ]
    },
    {
     "name": "stdout",
     "output_type": "stream",
     "text": [
      "Player 2 moves 1\n",
      "18\n"
     ]
    },
    {
     "name": "stdin",
     "output_type": "stream",
     "text": [
      "Enter your move 2\n"
     ]
    },
    {
     "name": "stdout",
     "output_type": "stream",
     "text": [
      "Player 1 moves 2\n",
      "16\n"
     ]
    },
    {
     "name": "stdin",
     "output_type": "stream",
     "text": [
      "Enter your move 3\n"
     ]
    },
    {
     "name": "stdout",
     "output_type": "stream",
     "text": [
      "Player 2 moves 3\n",
      "13\n"
     ]
    },
    {
     "name": "stdin",
     "output_type": "stream",
     "text": [
      "Enter your move 2\n"
     ]
    },
    {
     "name": "stdout",
     "output_type": "stream",
     "text": [
      "Player 1 moves 2\n",
      "11\n"
     ]
    },
    {
     "name": "stdin",
     "output_type": "stream",
     "text": [
      "Enter your move 2\n"
     ]
    },
    {
     "name": "stdout",
     "output_type": "stream",
     "text": [
      "Player 2 moves 2\n",
      "9\n"
     ]
    },
    {
     "name": "stdin",
     "output_type": "stream",
     "text": [
      "Enter your move 1\n"
     ]
    },
    {
     "name": "stdout",
     "output_type": "stream",
     "text": [
      "Player 1 moves 1\n",
      "8\n"
     ]
    },
    {
     "name": "stdin",
     "output_type": "stream",
     "text": [
      "Enter your move 2\n"
     ]
    },
    {
     "name": "stdout",
     "output_type": "stream",
     "text": [
      "Player 2 moves 2\n",
      "6\n"
     ]
    },
    {
     "name": "stdin",
     "output_type": "stream",
     "text": [
      "Enter your move 1\n"
     ]
    },
    {
     "name": "stdout",
     "output_type": "stream",
     "text": [
      "Player 1 moves 1\n",
      "5\n"
     ]
    },
    {
     "name": "stdin",
     "output_type": "stream",
     "text": [
      "Enter your move 2\n"
     ]
    },
    {
     "name": "stdout",
     "output_type": "stream",
     "text": [
      "Player 2 moves 2\n",
      "3\n"
     ]
    },
    {
     "name": "stdin",
     "output_type": "stream",
     "text": [
      "Enter your move 2\n"
     ]
    },
    {
     "name": "stdout",
     "output_type": "stream",
     "text": [
      "Player 1 moves 2\n",
      "1\n",
      "Player  1 won.\n"
     ]
    },
    {
     "data": {
      "text/plain": [
       "[1]"
      ]
     },
     "execution_count": null,
     "metadata": {},
     "output_type": "execute_result"
    }
   ],
   "source": [
    "g.run(human_agent,human_agent)"
   ]
  },
  {
   "cell_type": "code",
   "execution_count": null,
   "id": "1777d5c1-d79f-4080-a8e1-2712f37145db",
   "metadata": {},
   "outputs": [
    {
     "name": "stdout",
     "output_type": "stream",
     "text": [
      "====\n",
      "Game  1\n",
      "21\n"
     ]
    },
    {
     "name": "stdin",
     "output_type": "stream",
     "text": [
      "Enter your move 1\n"
     ]
    },
    {
     "name": "stdout",
     "output_type": "stream",
     "text": [
      "Player 1 moves 1\n",
      "20\n",
      "Player 2 moves 3\n",
      "17\n"
     ]
    },
    {
     "name": "stdin",
     "output_type": "stream",
     "text": [
      "Enter your move 2\n"
     ]
    },
    {
     "name": "stdout",
     "output_type": "stream",
     "text": [
      "Player 1 moves 2\n",
      "15\n",
      "Player 2 moves 1\n",
      "14\n"
     ]
    },
    {
     "name": "stdin",
     "output_type": "stream",
     "text": [
      "Enter your move 1\n"
     ]
    },
    {
     "name": "stdout",
     "output_type": "stream",
     "text": [
      "Player 1 moves 1\n",
      "13\n",
      "Player 2 moves 3\n",
      "10\n"
     ]
    },
    {
     "name": "stdin",
     "output_type": "stream",
     "text": [
      "Enter your move 1\n"
     ]
    },
    {
     "name": "stdout",
     "output_type": "stream",
     "text": [
      "Player 1 moves 1\n",
      "9\n",
      "Player 2 moves 1\n",
      "8\n"
     ]
    },
    {
     "name": "stdin",
     "output_type": "stream",
     "text": [
      "Enter your move 3\n"
     ]
    },
    {
     "name": "stdout",
     "output_type": "stream",
     "text": [
      "Player 1 moves 3\n",
      "5\n",
      "Player 2 moves 1\n",
      "4\n"
     ]
    },
    {
     "name": "stdin",
     "output_type": "stream",
     "text": [
      "Enter your move 3\n"
     ]
    },
    {
     "name": "stdout",
     "output_type": "stream",
     "text": [
      "Player 1 moves 3\n",
      "1\n",
      "Player  1 won.\n"
     ]
    },
    {
     "data": {
      "text/plain": [
       "[1]"
      ]
     },
     "execution_count": null,
     "metadata": {},
     "output_type": "execute_result"
    }
   ],
   "source": [
    "g.run(human_agent,monkey_agent)"
   ]
  },
  {
   "cell_type": "code",
   "execution_count": null,
   "id": "4176e146-1611-4e67-aca5-8f1cd96c8cee",
   "metadata": {},
   "outputs": [],
   "source": []
  }
 ],
 "metadata": {
  "kernelspec": {
   "display_name": "python3",
   "language": "python",
   "name": "python3"
  }
 },
 "nbformat": 4,
 "nbformat_minor": 5
}
