{
 "cells": [
  {
   "cell_type": "code",
   "execution_count": null,
   "id": "b75c5d56-b33e-446c-97ae-4a8a336ea388",
   "metadata": {},
   "outputs": [],
   "source": [
    "names=\"\"\"\n",
    "David\n",
    "Thomas\n",
    "Andrew\n",
    "Anoushka\n",
    "Todd\n",
    "Hayley\n",
    "Jason\n",
    "Theodore\n",
    "Colby\n",
    "Ryan\n",
    "Emily\n",
    "Ganesh\n",
    "Duc\n",
    "Ro\n",
    "Benjamin\n",
    "\"\"\".strip().split()"
   ]
  },
  {
   "cell_type": "code",
   "execution_count": null,
   "id": "7ad7d92b-9fc7-4ac0-88c3-2e1b07ae9657",
   "metadata": {},
   "outputs": [
    {
     "data": {
      "text/plain": [
       "['David',\n",
       " 'Thomas',\n",
       " 'Andrew',\n",
       " 'Anoushka',\n",
       " 'Todd',\n",
       " 'Hayley',\n",
       " 'Jason',\n",
       " 'Theodore',\n",
       " 'Colby',\n",
       " 'Ryan',\n",
       " 'Emily',\n",
       " 'Ganesh',\n",
       " 'Duc',\n",
       " 'Ro',\n",
       " 'Benjamin']"
      ]
     },
     "execution_count": null,
     "metadata": {},
     "output_type": "execute_result"
    }
   ],
   "source": [
    "names"
   ]
  },
  {
   "cell_type": "code",
   "execution_count": null,
   "id": "488f0c31-d943-45b2-a2ca-8ac39cfa76c4",
   "metadata": {},
   "outputs": [],
   "source": [
    "from random import choice"
   ]
  },
  {
   "cell_type": "code",
   "execution_count": null,
   "id": "c6a8c929-7523-4f46-b55e-31977a1a84a6",
   "metadata": {},
   "outputs": [],
   "source": [
    "names_orig=names.copy()"
   ]
  },
  {
   "cell_type": "code",
   "execution_count": null,
   "id": "9c31b00b-6afd-46fa-a2da-b7ea4b73c2b4",
   "metadata": {},
   "outputs": [],
   "source": [
    "names=names_orig.copy()\n",
    "pairs=[]\n",
    "extra=None\n",
    "while names:\n",
    "    name1=choice(names)\n",
    "    names.remove(name1)\n",
    "    \n",
    "    try:\n",
    "        name2=choice(names)\n",
    "        names.remove(name2)\n",
    "    except IndexError:\n",
    "        extra=name1\n",
    "        continue\n",
    "    \n",
    "    pairs.append( [name1,name2])"
   ]
  },
  {
   "cell_type": "code",
   "execution_count": null,
   "id": "5a72d571-4bb8-4fe2-b59c-6a79dd7a1b85",
   "metadata": {},
   "outputs": [
    {
     "data": {
      "text/plain": [
       "[['Hayley', 'Anoushka'],\n",
       " ['Emily', 'Andrew'],\n",
       " ['Todd', 'Duc'],\n",
       " ['Ryan', 'David'],\n",
       " ['Theodore', 'Jason'],\n",
       " ['Ganesh', 'Ro'],\n",
       " ['Thomas', 'Colby']]"
      ]
     },
     "execution_count": null,
     "metadata": {},
     "output_type": "execute_result"
    }
   ],
   "source": [
    "pairs"
   ]
  },
  {
   "cell_type": "code",
   "execution_count": null,
   "id": "5c0394a0-6a6a-40df-a92d-410de206306e",
   "metadata": {},
   "outputs": [
    {
     "data": {
      "text/plain": [
       "'Benjamin'"
      ]
     },
     "execution_count": null,
     "metadata": {},
     "output_type": "execute_result"
    }
   ],
   "source": [
    "extra"
   ]
  },
  {
   "cell_type": "markdown",
   "id": "fca2f062-90b1-4247-88af-806d77472a88",
   "metadata": {},
   "source": [
    "found_duplicate=True\n",
    "while found_duplicate:\n",
    "    print(\"# Demo Pairs\")\n",
    "    extra=None\n",
    "    found_duplicate=False\n",
    "    all_pairs=[]\n",
    "    for i in range(3):\n",
    "        names=names_orig.copy()\n",
    "        pairs=[]\n",
    "\n",
    "        while names:\n",
    "            \n",
    "            if extra:\n",
    "                name1=extra\n",
    "                extra=None\n",
    "            else:\n",
    "                name1=choice(names)\n",
    "                \n",
    "            names.remove(name1)\n",
    "\n",
    "            try:\n",
    "                name2=choice(names)\n",
    "                names.remove(name2)\n",
    "            except IndexError:\n",
    "                extra=name1\n",
    "                continue\n",
    "\n",
    "            if name2<name1:\n",
    "                name1,name2=name2,name1\n",
    "                \n",
    "            pairs.append( (name1,name2) )\n",
    "            \n",
    "        for p in pairs:\n",
    "            print(\"- \",p[0],\" - \",p[1])\n",
    "            if all_pairs:\n",
    "                if p in all_pairs[-1]:\n",
    "                    print(p,\"duplicate\")\n",
    "                    found_duplicate=True\n",
    "        print(\"Extra\",extra)\n",
    "\n",
    "        print(\"\\n------\\n\")\n",
    "        all_pairs.append(pairs)\n",
    "                        \n",
    "                        \n"
   ]
  },
  {
   "cell_type": "markdown",
   "id": "485e085b-3c8d-475b-b364-4ca6a8669e84",
   "metadata": {},
   "source": [
    "# Demo Pairs\n",
    "-  Jeff  -  Rubin\n",
    "-  Alyssa  -  Trevor_C\n",
    "-  Aiden  -  Jared\n",
    "-  Jacob  -  Trevor_F\n",
    "-  Andrew  -  Danny\n",
    "-  Marcus  -  Timothy\n",
    "-  Bobby  -  Patrick\n",
    "\n",
    "------\n",
    "\n",
    "-  Andrew  -  Jared\n",
    "-  Bobby  -  Trevor_C\n",
    "-  Jeff  -  Marcus\n",
    "-  Patrick  -  Rubin\n",
    "-  Timothy  -  Trevor_F\n",
    "-  Alyssa  -  Danny\n",
    "-  Aiden  -  Jacob\n",
    "\n",
    "------\n",
    "\n",
    "-  Bobby  -  Rubin\n",
    "-  Jared  -  Trevor_C\n",
    "-  Jacob  -  Marcus\n",
    "-  Aiden  -  Jeff\n",
    "-  Danny  -  Trevor_F\n",
    "-  Andrew  -  Patrick\n",
    "-  Alyssa  -  Timothy"
   ]
  },
  {
   "cell_type": "code",
   "execution_count": null,
   "id": "76af92bc-3083-4557-8a49-addbf7c1b2be",
   "metadata": {},
   "outputs": [
    {
     "data": {
      "text/plain": [
       "'Ethan'"
      ]
     },
     "execution_count": null,
     "metadata": {},
     "output_type": "execute_result"
    }
   ],
   "source": [
    "name1"
   ]
  },
  {
   "cell_type": "code",
   "execution_count": null,
   "id": "8de79f2e-1057-4624-8106-6f7d2c1bc66d",
   "metadata": {},
   "outputs": [
    {
     "data": {
      "text/plain": [
       "'Griffin'"
      ]
     },
     "execution_count": null,
     "metadata": {},
     "output_type": "execute_result"
    }
   ],
   "source": [
    "name2"
   ]
  },
  {
   "cell_type": "code",
   "execution_count": null,
   "id": "ddc37e6e-a349-4ddb-b423-efb27257a493",
   "metadata": {},
   "outputs": [],
   "source": []
  }
 ],
 "metadata": {
  "kernelspec": {
   "display_name": "python3",
   "language": "python",
   "name": "python3"
  }
 },
 "nbformat": 4,
 "nbformat_minor": 5
}
