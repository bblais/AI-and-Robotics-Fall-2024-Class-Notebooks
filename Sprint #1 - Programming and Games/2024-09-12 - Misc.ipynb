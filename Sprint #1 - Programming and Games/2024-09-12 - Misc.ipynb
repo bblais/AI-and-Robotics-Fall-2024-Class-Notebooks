{
 "cells": [
  {
   "cell_type": "code",
   "execution_count": null,
   "id": "31c7c941-3510-4cc6-b691-9a1acec65528",
   "metadata": {},
   "outputs": [],
   "source": [
    "def once(a):\n",
    "    return 1*a\n",
    "\n",
    "def twice(a):\n",
    "    return 2*a\n",
    "\n",
    "def thrice(a):\n",
    "    return 3*a"
   ]
  },
  {
   "cell_type": "code",
   "execution_count": null,
   "id": "19ac3631-be3c-40e5-833f-9e2e01cbe654",
   "metadata": {},
   "outputs": [
    {
     "data": {
      "text/plain": [
       "10"
      ]
     },
     "execution_count": null,
     "metadata": {},
     "output_type": "execute_result"
    }
   ],
   "source": [
    "twice(5)"
   ]
  },
  {
   "cell_type": "code",
   "execution_count": null,
   "id": "5a90f845-122e-4eca-a2ae-8d607ff1646f",
   "metadata": {},
   "outputs": [],
   "source": [
    "def myfunction(value,name):\n",
    "    \n",
    "    if name==\"once\" or name==\"one\":\n",
    "        return once(value)\n",
    "    \n",
    "    if name==\"twice\" or name==\"two\":\n",
    "        return twice(value)\n",
    "\n",
    "    if name==\"thrice\":\n",
    "        return thrice(value)\n",
    "    \n",
    "    # if it gets this far, there is a problem!\n",
    "    print(\"I don't know what \",name,\" is!\")"
   ]
  },
  {
   "cell_type": "code",
   "execution_count": null,
   "id": "0e1a4d03-3fb9-4940-a730-91bc54da59dc",
   "metadata": {},
   "outputs": [],
   "source": [
    "def myfunction(value,name):\n",
    "    \n",
    "    if name==\"once\" or name==\"one\":\n",
    "        return once(value)\n",
    "    \n",
    "    elif name==\"twice\" or name==\"two\":\n",
    "        return twice(value)\n",
    "\n",
    "    elif name==\"thrice\":\n",
    "        return thrice(value)\n",
    "    else:\n",
    "        # if it gets this far, there is a problem!\n",
    "        print(\"I don't know what \",name,\" is!\")"
   ]
  },
  {
   "cell_type": "code",
   "execution_count": null,
   "id": "c69e4361-0a7d-4a13-81bd-7735602b6bec",
   "metadata": {},
   "outputs": [
    {
     "data": {
      "text/plain": [
       "10"
      ]
     },
     "execution_count": null,
     "metadata": {},
     "output_type": "execute_result"
    }
   ],
   "source": [
    "myfunction(5,\"twice\")"
   ]
  },
  {
   "cell_type": "code",
   "execution_count": null,
   "id": "f88d3cec-fa61-4c83-a1a4-51f9af0aa4b6",
   "metadata": {},
   "outputs": [
    {
     "name": "stdout",
     "output_type": "stream",
     "text": [
      "I don't know what  bob  is!\n"
     ]
    }
   ],
   "source": [
    "myfunction(5,\"bob\")"
   ]
  },
  {
   "cell_type": "code",
   "execution_count": null,
   "id": "cc4f15b9-033b-4e7d-93c8-4b7a2080c17f",
   "metadata": {},
   "outputs": [
    {
     "data": {
      "text/plain": [
       "10"
      ]
     },
     "execution_count": null,
     "metadata": {},
     "output_type": "execute_result"
    }
   ],
   "source": [
    "myfunction(5,\"two\")"
   ]
  },
  {
   "cell_type": "code",
   "execution_count": null,
   "id": "2bc78630-38b0-45de-9981-8a0a288886b3",
   "metadata": {},
   "outputs": [
    {
     "name": "stdout",
     "output_type": "stream",
     "text": [
      "sally 0\n",
      "sally 1\n",
      "sally 2\n",
      "sally 3\n",
      "sally 4\n",
      "X\n",
      "X\n",
      "X\n",
      "X\n",
      "X\n",
      "X\n",
      "bob 11\n",
      "bob 12\n",
      "bob 13\n",
      "bob 14\n",
      "bob 15\n",
      "bob 16\n",
      "bob 17\n",
      "bob 18\n",
      "bob 19\n"
     ]
    }
   ],
   "source": [
    "for i in range(20):\n",
    "    \n",
    "    if i>10:\n",
    "        print(\"bob\",i)\n",
    "    elif i<5:\n",
    "        print(\"sally\",i)\n",
    "    else:\n",
    "        print(\"X\")\n",
    "        "
   ]
  },
  {
   "cell_type": "code",
   "execution_count": null,
   "id": "a5c5a3a2-96e0-4266-a1b3-a13dee34f869",
   "metadata": {},
   "outputs": [
    {
     "name": "stdout",
     "output_type": "stream",
     "text": [
      "sally 0\n",
      "sally 1\n",
      "sally 2\n",
      "sally 3\n",
      "sally 4\n",
      "X\n",
      "X\n",
      "X\n",
      "X\n",
      "X\n",
      "X\n",
      "bob 11\n",
      "X\n",
      "bob 12\n",
      "X\n",
      "bob 13\n",
      "X\n",
      "bob 14\n",
      "X\n",
      "bob 15\n",
      "X\n",
      "bob 16\n",
      "X\n",
      "bob 17\n",
      "X\n",
      "bob 18\n",
      "X\n",
      "bob 19\n",
      "X\n"
     ]
    }
   ],
   "source": [
    "for i in range(20):\n",
    "    \n",
    "    if i>10:\n",
    "        print(\"bob\",i)\n",
    "        \n",
    "    if i<5:\n",
    "        print(\"sally\",i)\n",
    "    else:\n",
    "        print(\"X\")\n",
    "        "
   ]
  },
  {
   "cell_type": "code",
   "execution_count": null,
   "id": "4dbfeb5a-9957-4d5a-81ec-88c6391ea34b",
   "metadata": {},
   "outputs": [],
   "source": []
  }
 ],
 "metadata": {
  "kernelspec": {
   "display_name": "python3",
   "language": "python",
   "name": "python3"
  }
 },
 "nbformat": 4,
 "nbformat_minor": 5
}
