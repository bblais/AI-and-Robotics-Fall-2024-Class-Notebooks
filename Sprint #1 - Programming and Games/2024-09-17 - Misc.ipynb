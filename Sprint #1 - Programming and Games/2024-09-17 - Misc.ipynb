{
 "cells": [
  {
   "cell_type": "code",
   "execution_count": null,
   "id": "d8f28539-42cc-4363-a40a-461babf4572d",
   "metadata": {},
   "outputs": [
    {
     "name": "stdout",
     "output_type": "stream",
     "text": [
      "bob\n",
      "sally\n",
      "bob\n",
      "sally\n",
      "bob\n",
      "sally\n",
      "bob\n",
      "sally\n",
      "bob\n",
      "sally\n",
      "bob\n",
      "sally\n",
      "bob\n",
      "sally\n"
     ]
    }
   ],
   "source": [
    "print(\"bob\")\n",
    "print(\"sally\")\n",
    "\n",
    "print(\"bob\")\n",
    "print(\"sally\")\n",
    "\n",
    "print(\"bob\")\n",
    "print(\"sally\")\n",
    "\n",
    "print(\"bob\")\n",
    "print(\"sally\")\n",
    "\n",
    "print(\"bob\")\n",
    "print(\"sally\")\n",
    "\n",
    "print(\"bob\")\n",
    "print(\"sally\")\n",
    "\n",
    "print(\"bob\")\n",
    "print(\"sally\")\n"
   ]
  },
  {
   "cell_type": "code",
   "execution_count": null,
   "id": "b0e80ba8-a8c1-4684-aaca-cfd98c96e7da",
   "metadata": {},
   "outputs": [
    {
     "name": "stdout",
     "output_type": "stream",
     "text": [
      "bob\n",
      "sally\n",
      "bob\n",
      "sally\n",
      "bob\n",
      "sally\n",
      "bob\n",
      "sally\n",
      "bob\n",
      "sally\n",
      "bob\n",
      "sally\n",
      "bob\n",
      "sally\n",
      "bob\n",
      "sally\n",
      "bob\n",
      "sally\n",
      "bob\n",
      "sally\n"
     ]
    }
   ],
   "source": [
    "for i in range(10):\n",
    "    print(\"bob\")\n",
    "    print(\"sally\")\n",
    "    "
   ]
  },
  {
   "cell_type": "code",
   "execution_count": null,
   "id": "10fe77d5-82ff-4995-9448-1af15df9dbd3",
   "metadata": {},
   "outputs": [
    {
     "name": "stdout",
     "output_type": "stream",
     "text": [
      "10\n",
      "20\n",
      "30\n",
      "40\n"
     ]
    }
   ],
   "source": [
    "for i in [10,20,30,40]:\n",
    "    print(i)"
   ]
  },
  {
   "cell_type": "code",
   "execution_count": null,
   "id": "dde215ed-8f57-4e3e-b6e8-e51290e1cd0d",
   "metadata": {},
   "outputs": [
    {
     "data": {
      "text/plain": [
       "[0, 1, 2, 3, 4, 5, 6, 7, 8, 9]"
      ]
     },
     "execution_count": null,
     "metadata": {},
     "output_type": "execute_result"
    }
   ],
   "source": [
    "list(range(10))"
   ]
  },
  {
   "cell_type": "code",
   "execution_count": null,
   "id": "560f2ab1-cadb-4dbd-a39e-4b1d451f8277",
   "metadata": {},
   "outputs": [
    {
     "name": "stdout",
     "output_type": "stream",
     "text": [
      "0\n",
      "1\n",
      "2\n",
      "3\n",
      "4\n",
      "5\n",
      "6\n",
      "7\n",
      "8\n",
      "9\n"
     ]
    }
   ],
   "source": [
    "reset()\n",
    "for i in range(10):\n",
    "    print(i)\n",
    "    \n",
    "#draw some more"
   ]
  },
  {
   "cell_type": "code",
   "execution_count": null,
   "id": "1752ae1c-1818-4649-badd-07adebf467ef",
   "metadata": {},
   "outputs": [],
   "source": []
  }
 ],
 "metadata": {
  "kernelspec": {
   "display_name": "python3",
   "language": "python",
   "name": "python3"
  }
 },
 "nbformat": 4,
 "nbformat_minor": 5
}
