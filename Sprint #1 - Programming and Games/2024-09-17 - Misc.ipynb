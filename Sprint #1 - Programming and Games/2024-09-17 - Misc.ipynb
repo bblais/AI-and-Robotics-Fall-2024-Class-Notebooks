{
 "cells": [
  {
   "cell_type": "code",
   "execution_count": null,
   "id": "d8f28539-42cc-4363-a40a-461babf4572d",
   "metadata": {},
   "outputs": [
    {
     "name": "stdout",
     "output_type": "stream",
     "text": [
      "bob\n",
      "sally\n",
      "bob\n",
      "sally\n",
      "bob\n",
      "sally\n",
      "bob\n",
      "sally\n",
      "bob\n",
      "sally\n",
      "bob\n",
      "sally\n",
      "bob\n",
      "sally\n"
     ]
    }
   ],
   "source": [
    "print(\"bob\")\n",
    "print(\"sally\")\n",
    "\n",
    "print(\"bob\")\n",
    "print(\"sally\")\n",
    "\n",
    "print(\"bob\")\n",
    "print(\"sally\")\n",
    "\n",
    "print(\"bob\")\n",
    "print(\"sally\")\n",
    "\n",
    "print(\"bob\")\n",
    "print(\"sally\")\n",
    "\n",
    "print(\"bob\")\n",
    "print(\"sally\")\n",
    "\n",
    "print(\"bob\")\n",
    "print(\"sally\")\n"
   ]
  },
  {
   "cell_type": "code",
   "execution_count": null,
   "id": "b0e80ba8-a8c1-4684-aaca-cfd98c96e7da",
   "metadata": {},
   "outputs": [
    {
     "name": "stdout",
     "output_type": "stream",
     "text": [
      "bob\n",
      "sally\n",
      "bob\n",
      "sally\n",
      "bob\n",
      "sally\n",
      "bob\n",
      "sally\n",
      "bob\n",
      "sally\n",
      "bob\n",
      "sally\n",
      "bob\n",
      "sally\n",
      "bob\n",
      "sally\n",
      "bob\n",
      "sally\n",
      "bob\n",
      "sally\n"
     ]
    }
   ],
   "source": [
    "for i in range(10):\n",
    "    print(\"bob\")\n",
    "    print(\"sally\")\n",
    "    "
   ]
  },
  {
   "cell_type": "code",
   "execution_count": null,
   "id": "10fe77d5-82ff-4995-9448-1af15df9dbd3",
   "metadata": {},
   "outputs": [
    {
     "name": "stdout",
     "output_type": "stream",
     "text": [
      "10\n",
      "20\n",
      "30\n",
      "40\n"
     ]
    }
   ],
   "source": [
    "for i in [10,20,30,40]:\n",
    "    print(i)"
   ]
  },
  {
   "cell_type": "code",
   "execution_count": null,
   "id": "dde215ed-8f57-4e3e-b6e8-e51290e1cd0d",
   "metadata": {},
   "outputs": [
    {
     "data": {
      "text/plain": [
       "[0, 1, 2, 3, 4, 5, 6, 7, 8, 9]"
      ]
     },
     "execution_count": null,
     "metadata": {},
     "output_type": "execute_result"
    }
   ],
   "source": [
    "list(range(10))"
   ]
  },
  {
   "cell_type": "code",
   "execution_count": null,
   "id": "560f2ab1-cadb-4dbd-a39e-4b1d451f8277",
   "metadata": {},
   "outputs": [
    {
     "name": "stdout",
     "output_type": "stream",
     "text": [
      "0\n",
      "1\n",
      "2\n",
      "3\n",
      "4\n",
      "5\n",
      "6\n",
      "7\n",
      "8\n",
      "9\n"
     ]
    }
   ],
   "source": [
    "reset()\n",
    "for i in range(10):\n",
    "    print(i)\n",
    "    \n",
    "#draw some more"
   ]
  },
  {
   "cell_type": "code",
   "execution_count": null,
   "id": "1752ae1c-1818-4649-badd-07adebf467ef",
   "metadata": {},
   "outputs": [
    {
     "name": "stdout",
     "output_type": "stream",
     "text": [
      "Version:  0.3.02\n"
     ]
    }
   ],
   "source": [
    "from Game import *"
   ]
  },
  {
   "cell_type": "code",
   "execution_count": null,
   "id": "debb99bd-d43d-47fd-abb4-694c846623fa",
   "metadata": {},
   "outputs": [
    {
     "data": {
      "text/plain": [
       " 0  0  0 \n",
       " 0  0  1 \n",
       " 0  0  0 "
      ]
     },
     "execution_count": null,
     "metadata": {},
     "output_type": "execute_result"
    }
   ],
   "source": [
    "state=Board(3,3)\n",
    "state[5]=1\n",
    "\n",
    "state"
   ]
  },
  {
   "cell_type": "code",
   "execution_count": null,
   "id": "7571bf30-7df4-4caa-aa5a-c728ecfcef9b",
   "metadata": {},
   "outputs": [],
   "source": [
    "def initial_state():\n",
    "    state=Board(3,3)\n",
    "    state[5]=1\n",
    "    state[7]=2\n",
    "    \n",
    "    return state"
   ]
  },
  {
   "cell_type": "code",
   "execution_count": null,
   "id": "875eb240-1e36-4033-88dd-a631413c7abb",
   "metadata": {},
   "outputs": [
    {
     "data": {
      "text/plain": [
       " 0  0  0 \n",
       " 0  0  1 \n",
       " 0  2  0 "
      ]
     },
     "execution_count": null,
     "metadata": {},
     "output_type": "execute_result"
    }
   ],
   "source": [
    "initial_state()"
   ]
  },
  {
   "cell_type": "code",
   "execution_count": null,
   "id": "e6d78dc3-ffe9-468b-a70e-fdc5cc71af19",
   "metadata": {},
   "outputs": [
    {
     "name": "stdout",
     "output_type": "stream",
     "text": [
      " 0  1  2 \n",
      " 3  4  5 \n",
      " 6  7  8 \n",
      "\n"
     ]
    }
   ],
   "source": [
    "state.show_locations()"
   ]
  },
  {
   "cell_type": "code",
   "execution_count": null,
   "id": "c7f365f6-03df-4dc0-9b71-53fbe534df58",
   "metadata": {},
   "outputs": [
    {
     "name": "stdout",
     "output_type": "stream",
     "text": [
      "bob\n",
      "10\n",
      "sally\n",
      "bob\n",
      "20\n",
      "sally\n",
      "bob\n",
      "30\n",
      "sally\n",
      "bob\n",
      "40\n",
      "sally\n"
     ]
    }
   ],
   "source": [
    "print(\"bob\")\n",
    "print(10)\n",
    "print(\"sally\")\n",
    "\n",
    "print(\"bob\")\n",
    "print(20)\n",
    "print(\"sally\")\n",
    "\n",
    "print(\"bob\")\n",
    "print(30)\n",
    "print(\"sally\")\n",
    "\n",
    "print(\"bob\")\n",
    "print(40)\n",
    "print(\"sally\")\n"
   ]
  },
  {
   "cell_type": "code",
   "execution_count": null,
   "id": "c7589f5c-581a-4333-9de2-8b0ab43f5d94",
   "metadata": {},
   "outputs": [
    {
     "name": "stdout",
     "output_type": "stream",
     "text": [
      "bob\n",
      "10\n",
      "sally\n",
      "bob\n",
      "20\n",
      "sally\n",
      "bob\n",
      "30\n",
      "sally\n",
      "bob\n",
      "40\n",
      "sally\n"
     ]
    }
   ],
   "source": [
    "for value in [10,20,30,40]:\n",
    "    print(\"bob\")\n",
    "    print(value)\n",
    "    print(\"sally\")    "
   ]
  },
  {
   "cell_type": "code",
   "execution_count": null,
   "id": "5919574d-3236-414f-a5e5-2688a8be36c8",
   "metadata": {},
   "outputs": [
    {
     "name": "stdout",
     "output_type": "stream",
     "text": [
      "bob\n",
      "10\n",
      "sally\n",
      "bob\n",
      "20\n",
      "sally\n",
      "bob\n",
      "30\n",
      "sally\n",
      "bob\n",
      "40\n",
      "sally\n"
     ]
    }
   ],
   "source": [
    "for i in range(4):\n",
    "    value = i*10+10\n",
    "    print(\"bob\")\n",
    "    print(value)\n",
    "    print(\"sally\")    "
   ]
  },
  {
   "cell_type": "code",
   "execution_count": null,
   "id": "0159ae8d-050e-4728-a931-dff56160edc3",
   "metadata": {},
   "outputs": [
    {
     "name": "stdout",
     "output_type": "stream",
     "text": [
      " 0  1  2  3  4 \n",
      " 5  6  7  8  9 \n",
      "10 11 12 13 14 \n",
      "15 16 17 18 19 \n",
      "20 21 22 23 24 \n",
      "\n"
     ]
    }
   ],
   "source": [
    "state=Board(5,5)\n",
    "state.show_locations()"
   ]
  },
  {
   "cell_type": "code",
   "execution_count": null,
   "id": "8430b08d-f38d-40d8-8bcf-d260d0a7223d",
   "metadata": {},
   "outputs": [],
   "source": [
    "player=1"
   ]
  },
  {
   "cell_type": "code",
   "execution_count": null,
   "id": "7a6e1a4b-cf1e-4ca9-9272-495e0ef3f37b",
   "metadata": {},
   "outputs": [
    {
     "name": "stdout",
     "output_type": "stream",
     "text": [
      "0 6\n",
      "1 7\n",
      "2 8\n",
      "3 9\n",
      "5 11\n",
      "6 12\n",
      "7 13\n",
      "8 14\n",
      "10 16\n",
      "11 17\n",
      "12 18\n",
      "13 19\n",
      "15 21\n",
      "16 22\n",
      "17 23\n",
      "18 24\n"
     ]
    }
   ],
   "source": [
    "for location in range(20):\n",
    "    if location in [4,9,14,19]:\n",
    "        continue\n",
    "    new_location=location+6\n",
    "    print(location,new_location)\n",
    "    "
   ]
  },
  {
   "cell_type": "code",
   "execution_count": null,
   "id": "627e8b4b-e2b8-4d7d-aa08-50f9802ca6f9",
   "metadata": {},
   "outputs": [],
   "source": [
    "if player==1:\n",
    "    other_player=2\n",
    "else:\n",
    "    other_player=1"
   ]
  },
  {
   "cell_type": "code",
   "execution_count": null,
   "id": "b17b8325-622d-45b5-ade1-09e964f25ec0",
   "metadata": {},
   "outputs": [],
   "source": [
    "other_player=3-player"
   ]
  },
  {
   "cell_type": "code",
   "execution_count": null,
   "id": "b622d8f2-124e-4f76-b73c-df527a3bee0f",
   "metadata": {},
   "outputs": [
    {
     "data": {
      "text/plain": [
       " 0  0  0 \n",
       " 0  0  0 \n",
       " 0  0  0 "
      ]
     },
     "execution_count": null,
     "metadata": {},
     "output_type": "execute_result"
    }
   ],
   "source": [
    "state=Board(3,3)\n",
    "state"
   ]
  },
  {
   "cell_type": "code",
   "execution_count": null,
   "id": "2074df30-6590-4d80-ac00-e9969cddf09d",
   "metadata": {},
   "outputs": [],
   "source": [
    "def valid_moves(state,player):\n",
    "    moves=[]\n",
    "    \n",
    "    if player==1:\n",
    "        if state[0]==1 and state[3]==0:\n",
    "            moves.append([0,3])\n",
    "        if state[2]==1 and state[5]==0:\n",
    "            moves.append([2,5])\n",
    "        if state[4]==1 and state[7]==0:\n",
    "            moves.append([4,7])\n",
    "            \n",
    "    if player==2:\n",
    "        if state[3]==2 and state[0]==0:\n",
    "            moves.append([3,0])\n",
    "        if state[4]==2 and state[1]==0:\n",
    "            moves.append([4,1])\n",
    "            \n",
    "    return moves"
   ]
  },
  {
   "cell_type": "code",
   "execution_count": null,
   "id": "47f40b85-ad22-4b6f-a709-451ec6327751",
   "metadata": {},
   "outputs": [
    {
     "data": {
      "text/plain": [
       " 1  0  0 \n",
       " 1  2  0 \n",
       " 0  0  0 "
      ]
     },
     "execution_count": null,
     "metadata": {},
     "output_type": "execute_result"
    }
   ],
   "source": [
    "state=Board(3,3)\n",
    "state[0]=1\n",
    "state[3]=1\n",
    "state[4]=2\n",
    "state"
   ]
  },
  {
   "cell_type": "code",
   "execution_count": null,
   "id": "08eaa870-5fd7-4808-b9a8-b257bab80e15",
   "metadata": {},
   "outputs": [
    {
     "name": "stdout",
     "output_type": "stream",
     "text": [
      " 0  1  2 \n",
      " 3  4  5 \n",
      " 6  7  8 \n",
      "\n"
     ]
    }
   ],
   "source": [
    "valid_moves(state,1)\n",
    "state.show_locations()"
   ]
  },
  {
   "cell_type": "code",
   "execution_count": null,
   "id": "ba0c8cce-88b5-40e5-b941-d3a70ded6b52",
   "metadata": {},
   "outputs": [],
   "source": [
    "def valid_moves(state,player):\n",
    "    moves=[]\n",
    "    \n",
    "    if player==1:\n",
    "        for start in range(6):\n",
    "            end=start+3\n",
    "            if state[start]==1 and state[end]==0:\n",
    "                moves.append([start,end])\n",
    "            \n",
    "    if player==2:\n",
    "        if state[3]==2 and state[0]==0:\n",
    "            moves.append([3,0])\n",
    "        if state[4]==2 and state[1]==0:\n",
    "            moves.append([4,1])\n",
    "            \n",
    "    return moves"
   ]
  },
  {
   "cell_type": "code",
   "execution_count": null,
   "id": "29723b72-6403-4073-802f-997d260e76b0",
   "metadata": {},
   "outputs": [
    {
     "data": {
      "text/plain": [
       " 1  0  1 \n",
       " 0  2  0 \n",
       " 0  0  0 "
      ]
     },
     "execution_count": null,
     "metadata": {},
     "output_type": "execute_result"
    }
   ],
   "source": [
    "state=Board(3,3)\n",
    "state[0]=1\n",
    "state[2]=1\n",
    "state[4]=2\n",
    "state"
   ]
  },
  {
   "cell_type": "code",
   "execution_count": null,
   "id": "272e0e12-3eb2-48b0-a829-1b44d2bbf433",
   "metadata": {},
   "outputs": [
    {
     "data": {
      "text/plain": [
       "[[0, 3], [2, 5]]"
      ]
     },
     "execution_count": null,
     "metadata": {},
     "output_type": "execute_result"
    }
   ],
   "source": [
    "valid_moves(state,1)"
   ]
  },
  {
   "cell_type": "code",
   "execution_count": null,
   "id": "5243044a-7edb-4854-901b-c70885afeeec",
   "metadata": {},
   "outputs": [],
   "source": []
  }
 ],
 "metadata": {
  "kernelspec": {
   "display_name": "python3",
   "language": "python",
   "name": "python3"
  }
 },
 "nbformat": 4,
 "nbformat_minor": 5
}
