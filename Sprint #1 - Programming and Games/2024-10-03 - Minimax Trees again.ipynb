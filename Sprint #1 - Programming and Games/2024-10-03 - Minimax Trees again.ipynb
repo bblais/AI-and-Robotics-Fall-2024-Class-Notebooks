{
 "cells": [
  {
   "cell_type": "code",
   "execution_count": 1,
   "id": "26dff8c8-8b2b-4a37-a73f-ed5239ffc03b",
   "metadata": {},
   "outputs": [
    {
     "name": "stdout",
     "output_type": "stream",
     "text": [
      "Version:  0.3.03\n"
     ]
    }
   ],
   "source": [
    "%matplotlib inline\n",
    "from Game import *\n",
    "from Game.minimax import *\n",
    "inf=1e500"
   ]
  },
  {
   "cell_type": "code",
   "execution_count": 2,
   "id": "2f0ccb03-6d45-4355-9c97-9d0c0cb8e449",
   "metadata": {},
   "outputs": [],
   "source": [
    "def initial_state():\n",
    "    return 6\n",
    "\n",
    "def valid_moves(state,player):\n",
    "    if state==2:\n",
    "        return [1,2]\n",
    "    elif state==1:\n",
    "        return [1]\n",
    "    else:\n",
    "        return [1,2,3 ]\n",
    "\n",
    "def update_state(state,player,move):\n",
    "    new_state=state-move\n",
    "    return new_state\n",
    "\n",
    "def win_status(new_state,player):\n",
    "    \n",
    "    if new_state==1:\n",
    "        return \"win\"\n",
    "    \n",
    "    if new_state==0:\n",
    "        return \"lose\"\n",
    "    \n",
    "    return None\n",
    "    \n",
    "def show_state(state,player):\n",
    "    print(state)"
   ]
  },
  {
   "cell_type": "code",
   "execution_count": 7,
   "id": "57e5a797-fbe6-4984-b25b-4ad7d8f2ea23",
   "metadata": {},
   "outputs": [],
   "source": [
    "def walk(current_state,player,depth=0,counts={},maxdepth=inf):\n",
    "    \n",
    "    if player==1:\n",
    "        other_player=2\n",
    "    else:\n",
    "        other_player=1\n",
    "\n",
    "    if depth>maxdepth:\n",
    "        return \n",
    "\n",
    "\n",
    "    print(\"\\t\"*depth,current_state)\n",
    "    \n",
    "    # since win_status is called with a player and an updated state\n",
    "    # the current state is really the updated state from the\n",
    "    # other player's last move.\n",
    "\n",
    "    status=win_status(current_state,other_player)\n",
    "    if not status in ['win','lose','stalemate',None]:\n",
    "        raise ValueError(\"Win status returned '%s' not valid.  Allowed values only in ['win','lose','stalemate',None].\" % status)\n",
    "\n",
    "    if status=='win':  # bad for min\n",
    "        return\n",
    "    elif status=='lose':  # good for min\n",
    "        return\n",
    "    elif status=='stalemate':  # draw\n",
    "        return\n",
    "\n",
    "\n",
    "    moves=valid_moves(current_state,player)\n",
    "    if moves is None:\n",
    "        raise ValueError(\"valid_moves returned None with state=%s and player=%d - Did you forget to return the moves?\" % (str(current_state),player))\n",
    "    available_states=[update_state(deepcopy(current_state),player,move)\n",
    "                                for move in moves]\n",
    "    \n",
    "    values=[]\n",
    "    for state in available_states:\n",
    "        walk(state,other_player,depth+1,counts,maxdepth)\n",
    "\n",
    "    "
   ]
  },
  {
   "cell_type": "code",
   "execution_count": 8,
   "id": "f22da766-48be-47da-9c64-e350e92899e6",
   "metadata": {},
   "outputs": [
    {
     "name": "stdout",
     "output_type": "stream",
     "text": [
      " 6\n",
      "\t 5\n",
      "\t\t 4\n",
      "\t\t\t 3\n",
      "\t\t\t\t 2\n",
      "\t\t\t\t\t 1\n",
      "\t\t\t\t\t 0\n",
      "\t\t\t\t 1\n",
      "\t\t\t\t 0\n",
      "\t\t\t 2\n",
      "\t\t\t\t 1\n",
      "\t\t\t\t 0\n",
      "\t\t\t 1\n",
      "\t\t 3\n",
      "\t\t\t 2\n",
      "\t\t\t\t 1\n",
      "\t\t\t\t 0\n",
      "\t\t\t 1\n",
      "\t\t\t 0\n",
      "\t\t 2\n",
      "\t\t\t 1\n",
      "\t\t\t 0\n",
      "\t 4\n",
      "\t\t 3\n",
      "\t\t\t 2\n",
      "\t\t\t\t 1\n",
      "\t\t\t\t 0\n",
      "\t\t\t 1\n",
      "\t\t\t 0\n",
      "\t\t 2\n",
      "\t\t\t 1\n",
      "\t\t\t 0\n",
      "\t\t 1\n",
      "\t 3\n",
      "\t\t 2\n",
      "\t\t\t 1\n",
      "\t\t\t 0\n",
      "\t\t 1\n",
      "\t\t 0\n"
     ]
    }
   ],
   "source": [
    "walk(6,1)"
   ]
  },
  {
   "cell_type": "code",
   "execution_count": null,
   "id": "15104e57-6b5a-4a42-b806-a51236f521ec",
   "metadata": {},
   "outputs": [],
   "source": []
  }
 ],
 "metadata": {
  "kernelspec": {
   "display_name": "Python 3 (ipykernel)",
   "language": "python",
   "name": "python3"
  },
  "language_info": {
   "codemirror_mode": {
    "name": "ipython",
    "version": 3
   },
   "file_extension": ".py",
   "mimetype": "text/x-python",
   "name": "python",
   "nbconvert_exporter": "python",
   "pygments_lexer": "ipython3",
   "version": "3.12.6"
  }
 },
 "nbformat": 4,
 "nbformat_minor": 5
}
