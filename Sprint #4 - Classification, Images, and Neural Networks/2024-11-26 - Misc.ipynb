{
 "cells": [
  {
   "cell_type": "code",
   "execution_count": 1,
   "id": "93e8f6d6-6324-4aec-aeb4-8c3283dae01a",
   "metadata": {},
   "outputs": [
    {
     "name": "stdout",
     "output_type": "stream",
     "text": [
      "Version:  0.3.09\n"
     ]
    }
   ],
   "source": [
    "from Game import *"
   ]
  },
  {
   "cell_type": "code",
   "execution_count": 2,
   "id": "14186cfb-db64-4d77-ae2d-31885040611c",
   "metadata": {},
   "outputs": [
    {
     "data": {
      "text/plain": [
       " 1  1  1  1 \n",
       " 0  0  0  0 \n",
       " 0  0  0  0 \n",
       " 2  2  2  2 "
      ]
     },
     "execution_count": 2,
     "metadata": {},
     "output_type": "execute_result"
    }
   ],
   "source": [
    "state=Board(\"1111/0000/0000/2222\")\n",
    "state"
   ]
  },
  {
   "cell_type": "code",
   "execution_count": 10,
   "id": "5b72177a-9874-4e1b-9596-d4c9ca590a19",
   "metadata": {},
   "outputs": [
    {
     "name": "stdout",
     "output_type": "stream",
     "text": [
      " 0  1  2  3 \n",
      " 4  5  6  7 \n",
      " 8  9 10 11 \n",
      "12 13 14 15 \n",
      "\n"
     ]
    }
   ],
   "source": [
    "state.show_locations()"
   ]
  },
  {
   "cell_type": "code",
   "execution_count": 4,
   "id": "e03b5f0a-d109-482c-b67a-62d249154ce3",
   "metadata": {},
   "outputs": [
    {
     "data": {
      "text/plain": [
       "[[0, 4], [1, 5], [2, 6], [3, 7]]"
      ]
     },
     "execution_count": 4,
     "metadata": {},
     "output_type": "execute_result"
    }
   ],
   "source": [
    "moves=state.moves(1,\"s\",\"xsw\",\"xse\")\n",
    "moves"
   ]
  },
  {
   "cell_type": "code",
   "execution_count": 5,
   "id": "cbbf84c3-ed50-4d64-96e2-871ddc9d988e",
   "metadata": {},
   "outputs": [],
   "source": [
    "move=[2, 6]"
   ]
  },
  {
   "cell_type": "code",
   "execution_count": 19,
   "id": "96f9ad12-726a-4f50-9187-85fdc2ba8afb",
   "metadata": {},
   "outputs": [],
   "source": [
    "def forward(n):\n",
    "    print(\"Forward \",n)\n",
    "\n",
    "\n",
    "def right(a):\n",
    "    print(\"Rotate \",a)"
   ]
  },
  {
   "cell_type": "code",
   "execution_count": 20,
   "id": "f5ddc6ac-fbd5-494b-8992-2c634a657a77",
   "metadata": {},
   "outputs": [],
   "source": [
    "def make_move(state,player,move):\n",
    "    start,end=move\n",
    "    start_row=state.row(start)\n",
    "    start_col=state.col(start)\n",
    "\n",
    "    print(move)\n",
    "    print(start_row,start_col)\n",
    "\n",
    "    # get to the start square\n",
    "    forward(start_col)\n",
    "    right(90)\n",
    "    forward(start_row)\n",
    "\n",
    "    if end-start==4:\n",
    "        forward(1)\n",
    "    elif end-start==5:  # SE\n",
    "        right(-45)\n",
    "        forward(1)\n",
    "    elif end-start==3:  # SW\n",
    "        right(45)\n",
    "        forward(1)\n",
    "    else:\n",
    "        raise ValueError(\"You can't get there from here.\")\n"
   ]
  },
  {
   "cell_type": "code",
   "execution_count": 7,
   "id": "09cf595a-8fa2-4b55-9c17-d6778e4377d0",
   "metadata": {},
   "outputs": [
    {
     "data": {
      "text/plain": [
       "1"
      ]
     },
     "execution_count": 7,
     "metadata": {},
     "output_type": "execute_result"
    }
   ],
   "source": [
    "state.row(6)"
   ]
  },
  {
   "cell_type": "code",
   "execution_count": 15,
   "id": "74cbbb6f-b3df-4652-a655-d1f0beedb151",
   "metadata": {},
   "outputs": [
    {
     "name": "stdout",
     "output_type": "stream",
     "text": [
      " 0  1  2  3 \n",
      " 4  5  6  7 \n",
      " 8  9 10 11 \n",
      "12 13 14 15 \n",
      "\n"
     ]
    }
   ],
   "source": [
    "state.show_locations()"
   ]
  },
  {
   "cell_type": "code",
   "execution_count": 21,
   "id": "bce94eac-0617-4239-beb3-5197c3e07742",
   "metadata": {},
   "outputs": [
    {
     "name": "stdout",
     "output_type": "stream",
     "text": [
      "[6, 10]\n",
      "1 2\n",
      "Forward  2\n",
      "Rotate  90\n",
      "Forward  1\n",
      "Forward  1\n"
     ]
    }
   ],
   "source": [
    "make_move(state,1,[6,10])"
   ]
  },
  {
   "cell_type": "code",
   "execution_count": null,
   "id": "7ccb5d36-b25b-4d01-bef5-b09a672a536a",
   "metadata": {},
   "outputs": [],
   "source": []
  }
 ],
 "metadata": {
  "kernelspec": {
   "display_name": "Python 3 (ipykernel)",
   "language": "python",
   "name": "python3"
  },
  "language_info": {
   "codemirror_mode": {
    "name": "ipython",
    "version": 3
   },
   "file_extension": ".py",
   "mimetype": "text/x-python",
   "name": "python",
   "nbconvert_exporter": "python",
   "pygments_lexer": "ipython3",
   "version": "3.12.6"
  }
 },
 "nbformat": 4,
 "nbformat_minor": 5
}
