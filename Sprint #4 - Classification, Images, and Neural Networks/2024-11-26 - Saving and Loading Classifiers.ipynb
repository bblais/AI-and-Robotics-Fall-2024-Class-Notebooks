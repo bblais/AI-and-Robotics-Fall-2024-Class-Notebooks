{
 "cells": [
  {
   "cell_type": "code",
   "execution_count": 1,
   "id": "93dbdb60-46cc-4f85-a5c7-33e9a4d01b30",
   "metadata": {},
   "outputs": [],
   "source": [
    "%matplotlib inline\n",
    "from pylab import *"
   ]
  },
  {
   "cell_type": "code",
   "execution_count": 2,
   "id": "6c4a5425-501f-4b17-8dc3-0ba7235933e4",
   "metadata": {},
   "outputs": [
    {
     "name": "stdout",
     "output_type": "stream",
     "text": [
      "Version  1.0.7\n",
      "Version:  0.0.49\n"
     ]
    }
   ],
   "source": [
    "from classy import *"
   ]
  },
  {
   "cell_type": "code",
   "execution_count": 3,
   "id": "941e5b7d-e6d9-409e-9083-153cc2b3624c",
   "metadata": {},
   "outputs": [
    {
     "name": "stdout",
     "output_type": "stream",
     "text": [
      "iris.data 151 5\n",
      "150 vectors of length 4\n",
      "Feature names: 'petal length in cm', 'petal width in cm', 'sepal length in cm', 'sepal width in cm'\n",
      "Target values given.\n",
      "Target names: 'Iris-setosa', 'Iris-versicolor', 'Iris-virginica'\n",
      "Mean:  [3.75866667 1.19866667 5.84333333 3.054     ]\n",
      "Median:  [4.35 1.3  5.8  3.  ]\n",
      "Stddev:  [1.75852918 0.76061262 0.82530129 0.43214658]\n"
     ]
    }
   ],
   "source": [
    "data=load_excel('data/iris.xls')"
   ]
  },
  {
   "cell_type": "code",
   "execution_count": 4,
   "id": "740c24aa-ab70-40e5-8ce9-705b0b411b81",
   "metadata": {},
   "outputs": [],
   "source": [
    "C=NaiveBayes()\n",
    "C.fit(data.vectors,data.targets)"
   ]
  },
  {
   "cell_type": "code",
   "execution_count": 5,
   "id": "c8c4e791-3953-47d2-b549-4a699a29b1b8",
   "metadata": {},
   "outputs": [
    {
     "name": "stdout",
     "output_type": "stream",
     "text": [
      "On the full data set: 96.0\n"
     ]
    }
   ],
   "source": [
    "print(\"On the full data set:\",C.percent_correct(data.vectors,data.targets))"
   ]
  },
  {
   "cell_type": "code",
   "execution_count": 6,
   "id": "9cdf8e79-75ec-4f00-9fd3-fd68da7f12db",
   "metadata": {},
   "outputs": [],
   "source": [
    "C.save(\"naive_bayes_iris_trained.json\")"
   ]
  },
  {
   "cell_type": "code",
   "execution_count": 7,
   "id": "2fa47d42-4ffc-46b4-95c8-945eda3ebad7",
   "metadata": {},
   "outputs": [],
   "source": [
    "C1=NaiveBayes()\n",
    "C1.load(\"naive_bayes_iris_trained.json\")"
   ]
  },
  {
   "cell_type": "code",
   "execution_count": 8,
   "id": "f76d04d9-363e-4c9e-8765-9b74afa63143",
   "metadata": {},
   "outputs": [
    {
     "name": "stdout",
     "output_type": "stream",
     "text": [
      "On the full data set: 96.0\n"
     ]
    }
   ],
   "source": [
    "print(\"On the full data set:\",C1.percent_correct(data.vectors,data.targets))"
   ]
  },
  {
   "cell_type": "code",
   "execution_count": 9,
   "id": "2c8ed9c7-1a64-487d-bb70-a3eeb4d6218a",
   "metadata": {},
   "outputs": [],
   "source": [
    "C=kNearestNeighbor()\n",
    "C.fit(data.vectors,data.targets)\n",
    "C.save(\"knn_iris_trained.json\")"
   ]
  },
  {
   "cell_type": "markdown",
   "id": "18dab5bf-9503-447e-9c68-40e0b97935aa",
   "metadata": {},
   "source": [
    "# Perceptron\n",
    "\n",
    "- linear units\n",
    "- no hidden layers\n",
    "\n",
    "- (if everything linear, then even hidden units are the same as no hidden units)"
   ]
  },
  {
   "cell_type": "code",
   "execution_count": 10,
   "id": "79c8170f-8193-4b59-9e1f-404cc928dc73",
   "metadata": {},
   "outputs": [],
   "source": [
    "C=NumPyNetBackProp({\n",
    "    'input':4,               # number of features\n",
    "    'output':(3,'linear'),  # number of classes\n",
    "    'cost':'mse',\n",
    "})"
   ]
  },
  {
   "cell_type": "code",
   "execution_count": 11,
   "id": "47281c8f-1464-4c5f-a9a7-639184ee9c6f",
   "metadata": {},
   "outputs": [
    {
     "name": "stdout",
     "output_type": "stream",
     "text": [
      "layer       filters  size              input                output\n",
      "   0 input                   150 x   1 x   1 x   4   ->   150 x   1 x   1 x   4\n",
      "   1 connected               150 x   1 x   1 x   4   ->   150 x   3\n",
      "   2 cost                    150 x   1 x   1 x   3   ->   150 x   1 x   1 x   3\n"
     ]
    },
    {
     "name": "stderr",
     "output_type": "stream",
     "text": [
      "100%|███████████████████████████████████| 10000/10000 [00:01<00:00, 7302.56it/s]"
     ]
    },
    {
     "name": "stdout",
     "output_type": "stream",
     "text": [
      "On the full data set: 84.0\n"
     ]
    },
    {
     "name": "stderr",
     "output_type": "stream",
     "text": [
      "\n"
     ]
    }
   ],
   "source": [
    "C.fit(data.vectors,data.targets,epochs=10000)\n",
    "print(\"On the full data set:\",C.percent_correct(data.vectors,data.targets))"
   ]
  },
  {
   "cell_type": "code",
   "execution_count": 12,
   "id": "3bcb6b02-92dd-4608-ae9a-c9ce881ba389",
   "metadata": {},
   "outputs": [],
   "source": [
    "number_of_features=4\n",
    "number_of_categories=3"
   ]
  },
  {
   "cell_type": "markdown",
   "id": "9c1c915d-58fa-4e6a-ba4e-72b98cf100c9",
   "metadata": {},
   "source": [
    "## Backprop with hidden units"
   ]
  },
  {
   "cell_type": "code",
   "execution_count": 13,
   "id": "80572a62-715b-441c-9b33-5aa6a153b7c8",
   "metadata": {},
   "outputs": [
    {
     "name": "stdout",
     "output_type": "stream",
     "text": [
      "layer       filters  size              input                output\n",
      "   0 input                   150 x   1 x   1 x   4   ->   150 x   1 x   1 x   4\n",
      "   1 connected               150 x   1 x   1 x   4   ->   150 x   5\n",
      "   2 connected               150 x   1 x   1 x   5   ->   150 x   3\n",
      "   3 cost                    150 x   1 x   1 x   3   ->   150 x   1 x   1 x   3\n"
     ]
    },
    {
     "name": "stderr",
     "output_type": "stream",
     "text": [
      "100%|█████████████████████████████████████| 3000/3000 [00:00<00:00, 4259.19it/s]\n"
     ]
    }
   ],
   "source": [
    "C=NumPyNetBackProp({\n",
    "    'input':number_of_features,               # number of features\n",
    "    'hidden':[(5,'logistic'),],   # this size is \"arbitrary\"\n",
    "    'output':(number_of_categories,'logistic'),  # number of classes\n",
    "    'cost':'mse',\n",
    "})\n",
    "C.fit(data.vectors,data.targets,epochs=3000)"
   ]
  },
  {
   "cell_type": "code",
   "execution_count": 14,
   "id": "058b406d-9cd9-4328-9867-b34aa826d33f",
   "metadata": {},
   "outputs": [
    {
     "name": "stdout",
     "output_type": "stream",
     "text": [
      "On the full data set: 98.0\n"
     ]
    }
   ],
   "source": [
    "print(\"On the full data set:\",C.percent_correct(data.vectors,data.targets))"
   ]
  },
  {
   "cell_type": "code",
   "execution_count": 15,
   "id": "876bc402-3f77-4af1-9055-2565553f4088",
   "metadata": {},
   "outputs": [],
   "source": [
    "C.save(\"backprop_iris_trained.json\")"
   ]
  },
  {
   "cell_type": "code",
   "execution_count": null,
   "id": "54d8e00f-c966-4592-953a-74bec8ec52ec",
   "metadata": {},
   "outputs": [],
   "source": []
  }
 ],
 "metadata": {
  "kernelspec": {
   "display_name": "Python 3 (ipykernel)",
   "language": "python",
   "name": "python3"
  },
  "language_info": {
   "codemirror_mode": {
    "name": "ipython",
    "version": 3
   },
   "file_extension": ".py",
   "mimetype": "text/x-python",
   "name": "python",
   "nbconvert_exporter": "python",
   "pygments_lexer": "ipython3",
   "version": "3.12.6"
  }
 },
 "nbformat": 4,
 "nbformat_minor": 5
}
