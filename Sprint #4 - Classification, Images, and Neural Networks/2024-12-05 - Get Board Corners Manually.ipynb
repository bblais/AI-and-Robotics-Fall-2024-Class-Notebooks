{
 "cells": [
  {
   "cell_type": "code",
   "execution_count": 1,
   "metadata": {},
   "outputs": [],
   "source": [
    "%matplotlib qt5"
   ]
  },
  {
   "cell_type": "markdown",
   "metadata": {},
   "source": [
    "\n",
    "> pip install pyqt5"
   ]
  },
  {
   "cell_type": "code",
   "execution_count": 2,
   "metadata": {},
   "outputs": [],
   "source": [
    "from pylab import *"
   ]
  },
  {
   "cell_type": "code",
   "execution_count": 3,
   "metadata": {},
   "outputs": [],
   "source": [
    "def on_click(event):\n",
    "    from pylab import plot,show,close\n",
    "    global ix, iy\n",
    "    global corners,fig,ax\n",
    "    \n",
    "    ix, iy = event.xdata, event.ydata\n",
    "    global coords\n",
    "    coords = [int(ix), int(iy)]\n",
    "    \n",
    "    corners.append([coords[1],coords[0]])  # row,col not x, y\n",
    "    \n",
    "    ax.plot(ix,iy,'go')\n",
    "    fig.canvas.draw()\n",
    "    show()\n",
    "\n",
    "    if len(corners)==4:\n",
    "        corners=array(sort_corners(corners)).astype(float32)\n",
    "        print(\"\\n\",\"corners=\",corners.__repr__(),\"\\n\",)\n",
    "        close(fig)\n",
    "        corners=[]\n",
    "    \n",
    "    return coords\n"
   ]
  },
  {
   "cell_type": "code",
   "execution_count": 4,
   "metadata": {},
   "outputs": [],
   "source": [
    "def sort_corners(corners):\n",
    "    import numpy as np\n",
    "    new_corners=[]\n",
    "    mr,mc=np.mean(corners,axis=0)\n",
    "    \n",
    "    for i in range(4):\n",
    "            \n",
    "        for r,c in corners:\n",
    "            # top left\n",
    "            if r<mr and c<mc and i==0:\n",
    "                new_corners.append([r,c])\n",
    "        \n",
    "            # top right\n",
    "            if r<mr and c>mc and i==1:\n",
    "                new_corners.append([r,c])\n",
    "        \n",
    "            # bottom right\n",
    "            if r>mr and c>mc and i==2:\n",
    "                new_corners.append([r,c])\n",
    "        \n",
    "            # bottom left\n",
    "            if r>mr and c<mc and i==3:\n",
    "                new_corners.append([r,c])\n",
    "\n",
    "    return new_corners\n"
   ]
  },
  {
   "cell_type": "code",
   "execution_count": 5,
   "metadata": {},
   "outputs": [
    {
     "name": "stderr",
     "output_type": "stream",
     "text": [
      "2024-12-05 10:40:56.206 python3[45209:5785613] +[IMKClient subclass]: chose IMKClient_Modern\n",
      "2024-12-05 10:40:56.206 python3[45209:5785613] +[IMKInputSession subclass]: chose IMKInputSession_Modern\n"
     ]
    },
    {
     "name": "stdout",
     "output_type": "stream",
     "text": [
      "\n",
      " corners= array([[ 67.,  78.],\n",
      "       [ 96., 244.],\n",
      "       [264., 219.],\n",
      "       [265.,  44.]], dtype=float32) \n",
      "\n"
     ]
    }
   ],
   "source": [
    "corners=[]\n",
    "filename=\"images/board to reconstruct - was test9.jpg\"\n",
    "\n",
    "\n",
    "fig=figure()\n",
    "ax=subplot(1,1,1)\n",
    "arr=imread(filename)\n",
    "imshow(arr)\n",
    "\n",
    "\n",
    "cid = fig.canvas.mpl_connect('button_press_event', on_click)\n"
   ]
  },
  {
   "cell_type": "code",
   "execution_count": null,
   "metadata": {},
   "outputs": [],
   "source": []
  },
  {
   "cell_type": "code",
   "execution_count": null,
   "metadata": {},
   "outputs": [],
   "source": []
  }
 ],
 "metadata": {
  "kernelspec": {
   "display_name": "Python 3 (ipykernel)",
   "language": "python",
   "name": "python3"
  },
  "language_info": {
   "codemirror_mode": {
    "name": "ipython",
    "version": 3
   },
   "file_extension": ".py",
   "mimetype": "text/x-python",
   "name": "python",
   "nbconvert_exporter": "python",
   "pygments_lexer": "ipython3",
   "version": "3.12.6"
  }
 },
 "nbformat": 4,
 "nbformat_minor": 4
}
