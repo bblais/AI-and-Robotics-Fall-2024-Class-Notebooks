{
 "cells": [
  {
   "cell_type": "code",
   "execution_count": 1,
   "id": "e8c047ac-4438-48a6-9bfe-7cd21fc9ca0c",
   "metadata": {},
   "outputs": [],
   "source": [
    "%matplotlib inline\n",
    "from pylab import *"
   ]
  },
  {
   "cell_type": "code",
   "execution_count": 2,
   "id": "9e2e1980-4f2e-4d58-92e9-81e8f1d34794",
   "metadata": {},
   "outputs": [
    {
     "name": "stdout",
     "output_type": "stream",
     "text": [
      "Version  1.0.7\n",
      "Version:  0.0.49\n"
     ]
    }
   ],
   "source": [
    "from classy import *"
   ]
  },
  {
   "cell_type": "code",
   "execution_count": 3,
   "id": "b470c601-9182-4be8-8943-49be51c6471e",
   "metadata": {},
   "outputs": [],
   "source": [
    "board_picture_folder='images/rotoimages/'\n",
    "square_images_folder='images/rotoimages squares'\n",
    "image_to_use_for_corners=\"images/rotoimages/roto1.jpg\"\n",
    "\n",
    "from corners import *\n"
   ]
  },
  {
   "cell_type": "code",
   "execution_count": 4,
   "id": "b8999fa2-525d-4c17-a01c-f41d386a9065",
   "metadata": {},
   "outputs": [
    {
     "name": "stdout",
     "output_type": "stream",
     "text": [
      "[piece_1]: 6 files found\n",
      "[piece_0]: 25 files found\n",
      "[piece_2]: 5 files found\n",
      "Images\n",
      "36 images of shape (20, 20, 3)\n",
      "Target values given.\n",
      "Target names: 'piece_0', 'piece_1', 'piece_2'\n",
      "[piece_0]: 25 files\n",
      "[piece_1]: 6 files\n",
      "[piece_2]: 5 files\n"
     ]
    }
   ],
   "source": [
    "images=image.load_images(square_images_folder)\n",
    "\n",
    "# this line makes sure the target values = 0,1,2 in the right order\n",
    "# although not strictly necessary, it makes read_state a lot easier\n",
    "images=remap_targets(images,new_target_names=['piece_0','piece_1','piece_2'])\n",
    "summary(images)"
   ]
  },
  {
   "cell_type": "code",
   "execution_count": 5,
   "id": "52c766f0-04fa-4189-99e3-014402473839",
   "metadata": {},
   "outputs": [
    {
     "name": "stdout",
     "output_type": "stream",
     "text": [
      "36 vectors of length 1200\n",
      "Feature names: 'p0', 'p1', 'p2', 'p3', 'p4'  , ... ,  'p1195', 'p1196', 'p1197', 'p1198', 'p1199'  (1200 features)\n",
      "Target values given.\n",
      "Target names: 'piece_0', 'piece_1', 'piece_2'\n",
      "Mean:  [252.33333333 253.75       244.02777778 ... 253.25       254.77777778\n",
      " 245.22222222]\n",
      "Median:  [254. 255. 247. ... 254. 255. 248.]\n",
      "Stddev:  [3.67423461 2.05986785 8.77333748 ... 2.30187122 0.53287017 7.92012595]\n"
     ]
    }
   ],
   "source": [
    "data=image.images_to_vectors(images)"
   ]
  },
  {
   "cell_type": "code",
   "execution_count": 6,
   "id": "0445e5c4-068b-4c34-a44e-53213a7900f7",
   "metadata": {},
   "outputs": [],
   "source": [
    "data_train=data  # training on all data"
   ]
  },
  {
   "cell_type": "code",
   "execution_count": 7,
   "id": "58d9fd29-e12a-467f-a30f-a1e7e8fbf4a2",
   "metadata": {},
   "outputs": [
    {
     "name": "stdout",
     "output_type": "stream",
     "text": [
      "On Training Set: 100.0\n"
     ]
    }
   ],
   "source": [
    "C=CSC()\n",
    "C.fit(data_train.vectors,data_train.targets)\n",
    "print(\"On Training Set:\",C.percent_correct(data_train.vectors,data_train.targets))"
   ]
  },
  {
   "cell_type": "code",
   "execution_count": 8,
   "id": "049e5f8b-21a2-41ba-862a-a33e4c7003c1",
   "metadata": {},
   "outputs": [],
   "source": [
    "C.save(\"CSC_trained.json\")"
   ]
  },
  {
   "cell_type": "code",
   "execution_count": null,
   "id": "ff2d745c-e1f2-413d-b123-d1c01a8ff3d7",
   "metadata": {},
   "outputs": [],
   "source": []
  }
 ],
 "metadata": {
  "kernelspec": {
   "display_name": "Python 3 (ipykernel)",
   "language": "python",
   "name": "python3"
  },
  "language_info": {
   "codemirror_mode": {
    "name": "ipython",
    "version": 3
   },
   "file_extension": ".py",
   "mimetype": "text/x-python",
   "name": "python",
   "nbconvert_exporter": "python",
   "pygments_lexer": "ipython3",
   "version": "3.12.6"
  }
 },
 "nbformat": 4,
 "nbformat_minor": 5
}
