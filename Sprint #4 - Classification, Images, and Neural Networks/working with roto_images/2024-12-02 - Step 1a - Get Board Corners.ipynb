{
 "cells": [
  {
   "cell_type": "markdown",
   "metadata": {},
   "source": [
    "- make a folder for just board pictures -- you only need a handful usually\n",
    "- pull out two for testing the read_state\n",
    "- make a different folder for having the square images for classification\n",
    "- select one image for getting the corners\n",
    "    - make sure to truncate the image (if needed) and copy this truncation into any other notebooks\n",
    "- for some reason the \"Run All Cells\" doesn't print out the corners, but executing the cells one-by-one does. weird.\n",
    "- copy the displayed \"corners=...\" at the end"
   ]
  },
  {
   "cell_type": "code",
   "execution_count": 7,
   "metadata": {},
   "outputs": [],
   "source": [
    "board_picture_folder='images/rotoimages/'\n",
    "square_images_folder='images/rotoimages squares'\n",
    "image_to_use_for_corners=\"images/rotoimages/roto1.jpg\""
   ]
  },
  {
   "cell_type": "code",
   "execution_count": 8,
   "metadata": {},
   "outputs": [],
   "source": [
    "%matplotlib qt5\n",
    "from IPython.display import display"
   ]
  },
  {
   "cell_type": "markdown",
   "metadata": {},
   "source": [
    "To install, do this on a commandline\n",
    "> pip install pyqt5"
   ]
  },
  {
   "cell_type": "code",
   "execution_count": 9,
   "metadata": {},
   "outputs": [],
   "source": [
    "from pylab import *"
   ]
  },
  {
   "cell_type": "code",
   "execution_count": 10,
   "metadata": {},
   "outputs": [],
   "source": [
    "def on_click(event):\n",
    "    from pylab import plot,show,close\n",
    "    global ix, iy\n",
    "    global corners,fig,ax\n",
    "    \n",
    "    \n",
    "    ix, iy = event.xdata, event.ydata\n",
    "    global coords\n",
    "    coords = [int(ix), int(iy)]\n",
    "    \n",
    "    corners.append([coords[0],coords[1]])  # x, y not row/col\n",
    "    \n",
    "    ax.plot(ix,iy,'go')\n",
    "    fig.canvas.draw()\n",
    "    show()\n",
    "\n",
    "    if len(corners)==4:\n",
    "        print(corners)\n",
    "        corners=array(sort_corners(corners)).astype(float32)\n",
    "        print(\"\\n\",\"corners=\",corners.__repr__(),\"\\n\",)\n",
    "        close(fig)\n",
    "        corners=[]\n",
    "        \n",
    "    \n",
    "    return coords\n"
   ]
  },
  {
   "cell_type": "code",
   "execution_count": 11,
   "metadata": {},
   "outputs": [],
   "source": [
    "def sort_corners(corners):\n",
    "    import numpy as np\n",
    "    new_corners=[]\n",
    "    mx,my=np.mean(corners,axis=0)\n",
    "    \n",
    "    for i in range(4):\n",
    "            \n",
    "        for x,y in corners:\n",
    "            # top left\n",
    "            if x<mx and y<my and i==0:\n",
    "                new_corners.append([x,y])\n",
    "        \n",
    "            # top right\n",
    "            if x>mx and y<my and i==1:\n",
    "                new_corners.append([x,y])\n",
    "        \n",
    "            # bottom right\n",
    "            if x>mx and y>my and i==2:\n",
    "                new_corners.append([x,y])\n",
    "        \n",
    "            # bottom left\n",
    "            if x<mx and y>my and i==3:\n",
    "                new_corners.append([x,y])\n",
    "\n",
    "    return new_corners\n"
   ]
  },
  {
   "cell_type": "code",
   "execution_count": 12,
   "metadata": {},
   "outputs": [
    {
     "name": "stdout",
     "output_type": "stream",
     "text": [
      "[[418, 46], [1293, 91], [283, 801], [1402, 839]]\n",
      "\n",
      " corners= array([[ 418.,   46.],\n",
      "       [1293.,   91.],\n",
      "       [1402.,  839.],\n",
      "       [ 283.,  801.]], dtype=float32) \n",
      "\n"
     ]
    }
   ],
   "source": [
    "corners=[]\n",
    "filename=image_to_use_for_corners\n",
    "\n",
    "\n",
    "fig=figure()\n",
    "ax=subplot(1,1,1)\n",
    "image=imread(filename)\n",
    "\n",
    "imshow(image)\n",
    "\n",
    "cid = fig.canvas.mpl_connect('button_press_event', on_click)"
   ]
  },
  {
   "cell_type": "code",
   "execution_count": null,
   "metadata": {},
   "outputs": [],
   "source": []
  }
 ],
 "metadata": {
  "kernelspec": {
   "display_name": "Python 3 (ipykernel)",
   "language": "python",
   "name": "python3"
  },
  "language_info": {
   "codemirror_mode": {
    "name": "ipython",
    "version": 3
   },
   "file_extension": ".py",
   "mimetype": "text/x-python",
   "name": "python",
   "nbconvert_exporter": "python",
   "pygments_lexer": "ipython3",
   "version": "3.12.6"
  }
 },
 "nbformat": 4,
 "nbformat_minor": 4
}
