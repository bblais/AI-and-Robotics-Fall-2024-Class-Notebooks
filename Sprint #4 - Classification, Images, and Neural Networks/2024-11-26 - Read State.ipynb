{
 "cells": [
  {
   "cell_type": "markdown",
   "id": "66f8ae6d-bac5-442e-b93d-75552b63a3d5",
   "metadata": {},
   "source": [
    "- assume you have a set of training squares"
   ]
  },
  {
   "cell_type": "code",
   "execution_count": 3,
   "id": "32323d47-3a34-46e7-8dab-5de7210a784d",
   "metadata": {},
   "outputs": [
    {
     "name": "stdout",
     "output_type": "stream",
     "text": [
      "Version  1.0.7\n",
      "Version:  0.0.49\n"
     ]
    }
   ],
   "source": [
    "from pylab import imread,imsave\n",
    "from numpy import atleast_2d\n",
    "import os\n",
    "from classy import *\n"
   ]
  },
  {
   "cell_type": "code",
   "execution_count": 4,
   "id": "3cf3c416-36b8-4728-bd08-3e67b5a880c4",
   "metadata": {},
   "outputs": [
    {
     "name": "stdout",
     "output_type": "stream",
     "text": [
      "[piece_1]: 58 files found\n",
      "[piece_0]: 46 files found\n",
      "[piece_2]: 72 files found\n",
      "Warning: not all images the same size.\n"
     ]
    }
   ],
   "source": [
    "images=image.load_images('images/2024-11-21 - training squares')"
   ]
  },
  {
   "cell_type": "code",
   "execution_count": null,
   "id": "3d0b2e22-dd98-4339-9e0c-b828890807c2",
   "metadata": {},
   "outputs": [],
   "source": []
  },
  {
   "cell_type": "code",
   "execution_count": null,
   "id": "45dbcc87-3ec8-4a43-a4b6-a564be91ac95",
   "metadata": {},
   "outputs": [],
   "source": []
  },
  {
   "cell_type": "code",
   "execution_count": 1,
   "id": "b5245aa2-52d8-4ed5-8933-92cc3d893e57",
   "metadata": {},
   "outputs": [],
   "source": [
    "from pylab import imread,imsave\n",
    "from numpy import atleast_2d\n",
    "import os\n",
    "\n",
    "# train the classifier - it'd be better to load\n",
    "\n",
    "\n",
    "\n",
    "# images=image.load_images('images/training squares/',delete_alpha=True)  #<=========\n",
    "# images=remap_targets(images,new_target_names=['blank','player1','player2'])\n",
    "# data=image.images_to_vectors(images,verbose=True)  # train on all of them\n",
    "\n",
    "# classifier=NaiveBayes()\n",
    "# classifier.fit(data.vectors,data.targets)\n",
    "\n",
    "# classifier.save(\"previously_saved_classifier_result.json\")\n",
    "\n",
    "# if you don't need to train the classifier\n",
    "classifier=NaiveBayes()\n",
    "#classifier=kNearestNeighbor()\n",
    "classifier.load('previously_saved_classifier_result.json')\n",
    "\n",
    "\n",
    "\n",
    "\n",
    "# get the picture\n",
    "fname='current_board.jpg'              # for the robot\n",
    "take_picture(fname)\n",
    "im=imread(fname)\n",
    "\n",
    "# slice the picture into squares of the right size\n",
    "square_size=50 # choose a size that works for you\n",
    "import json\n",
    "with open('locations.json') as json_file:\n",
    "    locations = json.load(json_file)\n",
    "\n",
    "count=0\n",
    "# for debugging\n",
    "if not os.path.exists('images/predicted'):\n",
    "    os.mkdir('images/predicted')\n",
    "\n",
    "values=[]\n",
    "for r,c in locations:\n",
    "    sr=r-square_size//2\n",
    "    er=sr+square_size\n",
    "    sc=c-square_size//2\n",
    "    ec=sc+square_size   \n",
    "    subimage=im[sr:er,sc:ec,:]\n",
    "\n",
    "    # convert the square image to a data vector for the classifier\n",
    "    vector=subimage.ravel()\n",
    "    prediction=classifier.predict(atleast_2d(vector))[0]\n",
    "\n",
    "    values.append(prediction)\n",
    "\n",
    "    # for debugging\n",
    "    #imsave('images/predicted/square %d predicted as %s.jpg' % (count,data.target_names[prediction]),subimage)\n",
    "\n",
    "    count+=1\n",
    "\n",
    "\n",
    "# reconstruct the state from the predictions\n",
    "state=Board(4,4)                                      #<========= change the size\n",
    "state.board=values\n",
    "\n",
    "print(\"Current state is:\")\n",
    "print(state)\n",
    "\n",
    "x=input(\"\"\"\n",
    "Hit return if this is correct, otherwise type a character \n",
    "and the state will be read from current_board.txt.\"\"\")\n",
    "\n",
    "if x:\n",
    "    print(\"Reading from file...\")\n",
    "    state=read_state_from_file('board.txt')\n",
    "\n",
    "print(\"Using\")\n",
    "print(state)\n"
   ]
  },
  {
   "cell_type": "code",
   "execution_count": null,
   "id": "fbf3ce9a-e7b9-46b9-9fef-8457901feef9",
   "metadata": {},
   "outputs": [],
   "source": []
  }
 ],
 "metadata": {
  "kernelspec": {
   "display_name": "Python 3 (ipykernel)",
   "language": "python",
   "name": "python3"
  },
  "language_info": {
   "codemirror_mode": {
    "name": "ipython",
    "version": 3
   },
   "file_extension": ".py",
   "mimetype": "text/x-python",
   "name": "python",
   "nbconvert_exporter": "python",
   "pygments_lexer": "ipython3",
   "version": "3.12.6"
  }
 },
 "nbformat": 4,
 "nbformat_minor": 5
}
