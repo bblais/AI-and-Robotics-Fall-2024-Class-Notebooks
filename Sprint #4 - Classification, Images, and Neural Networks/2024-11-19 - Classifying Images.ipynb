{
 "cells": [
  {
   "cell_type": "code",
   "execution_count": 1,
   "id": "a674b1ae-5048-4812-9422-b7fca30a8fd4",
   "metadata": {},
   "outputs": [],
   "source": [
    "%matplotlib inline\n",
    "from pylab import *"
   ]
  },
  {
   "cell_type": "code",
   "execution_count": 2,
   "id": "73d0a11c-83e9-4966-a147-159046da9e41",
   "metadata": {},
   "outputs": [
    {
     "name": "stdout",
     "output_type": "stream",
     "text": [
      "Version  1.0.7\n",
      "Version:  0.0.50\n"
     ]
    }
   ],
   "source": [
    "from classy import *"
   ]
  },
  {
   "cell_type": "code",
   "execution_count": 6,
   "id": "3f46e739-0d1a-4f41-8860-24e122ea49eb",
   "metadata": {},
   "outputs": [
    {
     "name": "stdout",
     "output_type": "stream",
     "text": [
      "\u001b[1m\u001b[36mblank\u001b[m\u001b[m/   \u001b[1m\u001b[36mplayer1\u001b[m\u001b[m/ \u001b[1m\u001b[36mplayer2\u001b[m\u001b[m/\n"
     ]
    }
   ],
   "source": [
    "ls \"images/training squares\""
   ]
  },
  {
   "cell_type": "markdown",
   "id": "4219a138-e051-47ac-a94b-c697062a0d4f",
   "metadata": {},
   "source": [
    "## Do these numbers make sense?"
   ]
  },
  {
   "cell_type": "code",
   "execution_count": 7,
   "id": "f1f9596b-d3c2-4721-96e5-a7d47e8eb4f5",
   "metadata": {},
   "outputs": [
    {
     "name": "stdout",
     "output_type": "stream",
     "text": [
      "[player1]: 58 files found\n",
      "[blank]: 46 files found\n",
      "[player2]: 56 files found\n",
      "Images\n",
      "160 images of shape (50, 50, 3)\n",
      "Target values given.\n",
      "Target names: 'blank', 'player1', 'player2'\n",
      "[blank]: 46 files\n",
      "[player1]: 58 files\n",
      "[player2]: 56 files\n"
     ]
    }
   ],
   "source": [
    "images=image.load_images('images/training squares/')\n",
    "images=remap_targets(images,new_target_names=['blank','player1','player2'])\n",
    "summary(images)"
   ]
  },
  {
   "cell_type": "code",
   "execution_count": 8,
   "id": "97b5e6d5-e8b2-4b4a-a0ac-2bb152113cff",
   "metadata": {},
   "outputs": [
    {
     "data": {
      "text/plain": [
       "(50, 50, 3)"
      ]
     },
     "execution_count": 8,
     "metadata": {},
     "output_type": "execute_result"
    }
   ],
   "source": [
    "images['data'][0].shape"
   ]
  },
  {
   "cell_type": "markdown",
   "id": "b3beca34-af83-4942-94f5-d7620dacf77a",
   "metadata": {},
   "source": [
    "## Do these numbers make sense?"
   ]
  },
  {
   "cell_type": "code",
   "execution_count": 9,
   "id": "a97a97b2-c1f8-4643-8573-920b91889dd8",
   "metadata": {},
   "outputs": [
    {
     "name": "stdout",
     "output_type": "stream",
     "text": [
      "160 vectors of length 7500\n",
      "Feature names: 'p0', 'p1', 'p2', 'p3', 'p4'  , ... ,  'p7495', 'p7496', 'p7497', 'p7498', 'p7499'  (7500 features)\n",
      "Target values given.\n",
      "Target names: 'blank', 'player1', 'player2'\n",
      "Mean:  [137.425   144.825   138.8125  ... 182.66875 186.55    177.6125 ]\n",
      "Median:  [153.5 162.  156.  ... 184.  188.  180. ]\n",
      "Stddev:  [49.93940703 52.7113069  53.27830087 ... 12.93334927 17.7122133\n",
      " 17.01285819]\n"
     ]
    }
   ],
   "source": [
    "data=image.images_to_vectors(images)"
   ]
  },
  {
   "cell_type": "markdown",
   "id": "270f0fd5-b9e7-4739-86b7-71a31a43c6b1",
   "metadata": {},
   "source": [
    "# Classification"
   ]
  },
  {
   "cell_type": "code",
   "execution_count": 10,
   "id": "01c67977-d148-4b50-b578-17f28494b812",
   "metadata": {},
   "outputs": [
    {
     "name": "stdout",
     "output_type": "stream",
     "text": [
      "Original vector shape:  (160, 7500)\n",
      "Train vector shape:  (128, 7500)\n",
      "Test vector shape:  (32, 7500)\n"
     ]
    }
   ],
   "source": [
    "data_train,data_test=split(data,test_size=0.2)"
   ]
  },
  {
   "cell_type": "code",
   "execution_count": 11,
   "id": "ad2de23f-b5c7-49f5-80c2-c94ef188b42e",
   "metadata": {},
   "outputs": [
    {
     "name": "stdout",
     "output_type": "stream",
     "text": [
      "On Training Set: 100.0\n",
      "On Test Set: 100.0\n"
     ]
    }
   ],
   "source": [
    "C=NaiveBayes()\n",
    "C.fit(data_train.vectors,data_train.targets)\n",
    "print(\"On Training Set:\",C.percent_correct(data_train.vectors,data_train.targets))\n",
    "print(\"On Test Set:\",C.percent_correct(data_test.vectors,data_test.targets))"
   ]
  },
  {
   "cell_type": "code",
   "execution_count": 12,
   "id": "a6fb4df2-315d-489d-bada-fef0d3e7c60e",
   "metadata": {},
   "outputs": [
    {
     "data": {
      "text/plain": [
       "array([[127.375     , 133.3       , 125.5       , ..., 178.15      ,\n",
       "        184.05      , 172.1       ],\n",
       "       [147.66666667, 151.64583333, 147.14583333, ..., 187.47916667,\n",
       "        189.35416667, 181.64583333],\n",
       "       [129.9       , 142.925     , 137.05      , ..., 181.375     ,\n",
       "        186.375     , 178.825     ]])"
      ]
     },
     "execution_count": 12,
     "metadata": {},
     "output_type": "execute_result"
    }
   ],
   "source": [
    "C.means"
   ]
  },
  {
   "cell_type": "markdown",
   "id": "ec74d144-a800-468e-a85d-1eec7eb9502b",
   "metadata": {},
   "source": [
    "## does this shape make sense?"
   ]
  },
  {
   "cell_type": "code",
   "execution_count": 13,
   "id": "37554059-16ee-4206-b6e5-6bcd75f36d4c",
   "metadata": {},
   "outputs": [
    {
     "data": {
      "text/plain": [
       "(3, 7500)"
      ]
     },
     "execution_count": 13,
     "metadata": {},
     "output_type": "execute_result"
    }
   ],
   "source": [
    "C.means.shape"
   ]
  },
  {
   "cell_type": "code",
   "execution_count": 15,
   "id": "077bbcec-fd7a-411a-a6dd-debf53cb1265",
   "metadata": {},
   "outputs": [
    {
     "data": {
      "text/plain": [
       "<matplotlib.image.AxesImage at 0x11e029a00>"
      ]
     },
     "execution_count": 15,
     "metadata": {},
     "output_type": "execute_result"
    },
    {
     "data": {
      "image/png": "[encoded data removed]",
      "text/plain": [
       "<Figure size 1000x800 with 1 Axes>"
      ]
     },
     "metadata": {},
     "output_type": "display_data"
    }
   ],
   "source": [
    "one_mean=C.means[1,:]\n",
    "im0=one_mean.reshape((50,50,3))\n",
    "im0=im0-im0.min()  # set the min to zero\n",
    "im0=im0/im0.max()  # set the max to 1\n",
    "imshow(im0)"
   ]
  },
  {
   "cell_type": "markdown",
   "id": "f974da58-ef4a-4c3b-8880-ca58231c68b6",
   "metadata": {},
   "source": [
    "- visualize the other ones"
   ]
  },
  {
   "cell_type": "markdown",
   "id": "2b83f58a-f4d2-4c8c-b9a9-76580570ccc8",
   "metadata": {},
   "source": [
    "Some classifiers have more than 1 prototype per category.  for CSC and RCE they are called `C.centers`."
   ]
  },
  {
   "cell_type": "code",
   "execution_count": 16,
   "id": "3e21820a-d89a-4fb5-bb03-0d9a23c1f4ea",
   "metadata": {},
   "outputs": [
    {
     "name": "stdout",
     "output_type": "stream",
     "text": [
      "On Training Set: 100.0\n",
      "On Test Set: 96.875\n"
     ]
    }
   ],
   "source": [
    "C=CSC()\n",
    "C.fit(data_train.vectors,data_train.targets)\n",
    "print(\"On Training Set:\",C.percent_correct(data_train.vectors,data_train.targets))\n",
    "print(\"On Test Set:\",C.percent_correct(data_test.vectors,data_test.targets))"
   ]
  },
  {
   "cell_type": "code",
   "execution_count": 17,
   "id": "ac454d52-9766-4f1f-a3b4-9887f5ddf759",
   "metadata": {},
   "outputs": [
    {
     "data": {
      "text/plain": [
       "(14, 7500)"
      ]
     },
     "execution_count": 17,
     "metadata": {},
     "output_type": "execute_result"
    }
   ],
   "source": [
    "C.centers.shape"
   ]
  },
  {
   "cell_type": "markdown",
   "id": "d4bc41b4-8ad1-44eb-bb92-b26bed7d8b69",
   "metadata": {},
   "source": [
    "- visualize these"
   ]
  },
  {
   "cell_type": "markdown",
   "id": "fb45ebd0-035e-42ce-980f-546e5f4c23e5",
   "metadata": {},
   "source": [
    "## can you visualize kNearestNeighbor this way?"
   ]
  },
  {
   "cell_type": "markdown",
   "id": "878139e3-c6f6-4ff8-a376-16e096211be1",
   "metadata": {},
   "source": [
    "# Some more classification examples"
   ]
  },
  {
   "cell_type": "markdown",
   "id": "387479f4-b497-4fef-af9c-8bccc403db19",
   "metadata": {},
   "source": [
    "- try the digits folder\n",
    "- make a new folder with a handful of the categories from the hawkins_bitmaps"
   ]
  },
  {
   "cell_type": "code",
   "execution_count": null,
   "id": "619e9edc-640e-4c5b-b07f-677ffab8f125",
   "metadata": {},
   "outputs": [],
   "source": []
  }
 ],
 "metadata": {
  "kernelspec": {
   "display_name": "Python 3 (ipykernel)",
   "language": "python",
   "name": "python3"
  },
  "language_info": {
   "codemirror_mode": {
    "name": "ipython",
    "version": 3
   },
   "file_extension": ".py",
   "mimetype": "text/x-python",
   "name": "python",
   "nbconvert_exporter": "python",
   "pygments_lexer": "ipython3",
   "version": "3.12.6"
  }
 },
 "nbformat": 4,
 "nbformat_minor": 5
}
