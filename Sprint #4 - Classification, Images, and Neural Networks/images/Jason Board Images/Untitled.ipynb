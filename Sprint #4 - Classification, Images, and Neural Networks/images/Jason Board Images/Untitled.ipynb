{
 "cells": [
  {
   "cell_type": "code",
   "execution_count": 2,
   "id": "72926082-ebfb-47fe-b4a6-7247c7a0119b",
   "metadata": {
    "tags": []
   },
   "outputs": [
    {
     "name": "stdout",
     "output_type": "stream",
     "text": [
      "Collecting git+https://github.com/bblais/Game\n",
      "  Cloning https://github.com/bblais/Game to c:\\users\\student\\appdata\\local\\temp\\pip-req-build-vckghqvw\n"
     ]
    },
    {
     "name": "stderr",
     "output_type": "stream",
     "text": [
      "  Running command git clone --filter=blob:none --quiet https://github.com/bblais/Game 'C:\\Users\\student\\AppData\\Local\\Temp\\pip-req-build-vckghqvw'\n",
      "  fatal: unable to access 'https://github.com/bblais/Game/': Could not resolve host: github.com\n",
      "  error: subprocess-exited-with-error\n",
      "  \n",
      "  git clone --filter=blob:none --quiet https://github.com/bblais/Game 'C:\\Users\\student\\AppData\\Local\\Temp\\pip-req-build-vckghqvw' did not run successfully.\n",
      "  exit code: 128\n",
      "  \n",
      "  See above for output.\n",
      "  \n",
      "  note: This error originates from a subprocess, and is likely not a problem with pip.\n",
      "error: subprocess-exited-with-error\n",
      "\n",
      "git clone --filter=blob:none --quiet https://github.com/bblais/Game 'C:\\Users\\student\\AppData\\Local\\Temp\\pip-req-build-vckghqvw' did not run successfully.\n",
      "exit code: 128\n",
      "\n",
      "See above for output.\n",
      "\n",
      "note: This error originates from a subprocess, and is likely not a problem with pip.\n"
     ]
    }
   ],
   "source": [
    "!pip install \"git+https://github.com/bblais/Game\" --upgrade"
   ]
  },
  {
   "cell_type": "code",
   "execution_count": 3,
   "id": "e897776f-348c-4c89-a7c0-4022d05ce585",
   "metadata": {
    "tags": []
   },
   "outputs": [
    {
     "name": "stdout",
     "output_type": "stream",
     "text": [
      "Collecting git+https://github.com/bblais/Game\n",
      "  Cloning https://github.com/bblais/Game to c:\\users\\student\\appdata\\local\\temp\\pip-req-build-zk_7lcwn\n",
      "  Resolved https://github.com/bblais/Game to commit 2067aed6bb57c26c6d22b2fcb1bb8b493345a19e\n",
      "  Preparing metadata (setup.py): started\n",
      "  Preparing metadata (setup.py): finished with status 'done'\n",
      "Building wheels for collected packages: Game\n",
      "  Building wheel for Game (setup.py): started\n",
      "  Building wheel for Game (setup.py): finished with status 'done'\n",
      "  Created wheel for Game: filename=Game-0.3.9-py3-none-any.whl size=26895 sha256=ca646cddc124ac3ec93dc811d17f533fba99166a9ed0fc4cbd80cdefee75cec1\n",
      "  Stored in directory: C:\\Users\\student\\AppData\\Local\\Temp\\pip-ephem-wheel-cache-mno1tca_\\wheels\\45\\8d\\6d\\5a640c1ed5dafe26f16459a2dc5e2e364905f1c299ec1566f0\n",
      "Successfully built Game\n",
      "Installing collected packages: Game\n",
      "  Attempting uninstall: Game\n",
      "    Found existing installation: Game 0.3.7\n",
      "    Uninstalling Game-0.3.7:\n",
      "      Successfully uninstalled Game-0.3.7\n",
      "Successfully installed Game-0.3.9\n"
     ]
    },
    {
     "name": "stderr",
     "output_type": "stream",
     "text": [
      "  Running command git clone --filter=blob:none --quiet https://github.com/bblais/Game 'C:\\Users\\student\\AppData\\Local\\Temp\\pip-req-build-zk_7lcwn'\n"
     ]
    }
   ],
   "source": [
    "!pip install \"git+https://github.com/bblais/Game\" --upgrade"
   ]
  },
  {
   "cell_type": "code",
   "execution_count": null,
   "id": "43a070a4-b840-41e9-90d1-3b8c8dde6c61",
   "metadata": {},
   "outputs": [],
   "source": []
  }
 ],
 "metadata": {
  "kernelspec": {
   "display_name": "Python 3 (ipykernel)",
   "language": "python",
   "name": "python3"
  },
  "language_info": {
   "codemirror_mode": {
    "name": "ipython",
    "version": 3
   },
   "file_extension": ".py",
   "mimetype": "text/x-python",
   "name": "python",
   "nbconvert_exporter": "python",
   "pygments_lexer": "ipython3",
   "version": "3.11.5"
  }
 },
 "nbformat": 4,
 "nbformat_minor": 5
}
