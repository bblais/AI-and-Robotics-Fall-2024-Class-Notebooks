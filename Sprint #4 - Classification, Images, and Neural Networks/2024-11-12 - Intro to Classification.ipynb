{
 "cells": [
  {
   "cell_type": "code",
   "execution_count": 1,
   "id": "29543ef9-bb64-4cce-aa89-53f9a07876c8",
   "metadata": {},
   "outputs": [
    {
     "name": "stdout",
     "output_type": "stream",
     "text": [
      "Version  1.0.7\n",
      "Version:  0.0.50\n"
     ]
    }
   ],
   "source": [
    "%matplotlib inline\n",
    "from pylab import *\n",
    "from classy import *"
   ]
  },
  {
   "cell_type": "code",
   "execution_count": 2,
   "id": "de5556e2-7ef3-493a-8840-45b06703fce7",
   "metadata": {},
   "outputs": [
    {
     "name": "stdout",
     "output_type": "stream",
     "text": [
      "iris.data 151 5\n",
      "150 vectors of length 4\n",
      "Feature names: 'petal length in cm', 'petal width in cm', 'sepal length in cm', 'sepal width in cm'\n",
      "Target values given.\n",
      "Target names: 'Iris-setosa', 'Iris-versicolor', 'Iris-virginica'\n",
      "Mean:  [3.75866667 1.19866667 5.84333333 3.054     ]\n",
      "Median:  [4.35 1.3  5.8  3.  ]\n",
      "Stddev:  [1.75852918 0.76061262 0.82530129 0.43214658]\n"
     ]
    }
   ],
   "source": [
    "data=load_excel('data/iris.xls')"
   ]
  },
  {
   "cell_type": "code",
   "execution_count": 8,
   "id": "64b4db17-cf6b-47da-93f6-379ade9a452b",
   "metadata": {},
   "outputs": [
    {
     "data": {
      "text/plain": [
       "array([[1.4, 0.2, 5.1, 3.5],\n",
       "       [1.4, 0.2, 4.9, 3. ],\n",
       "       [1.3, 0.2, 4.7, 3.2],\n",
       "       [1.5, 0.2, 4.6, 3.1],\n",
       "       [1.4, 0.2, 5. , 3.6],\n",
       "       [1.7, 0.4, 5.4, 3.9],\n",
       "       [1.4, 0.3, 4.6, 3.4],\n",
       "       [1.5, 0.2, 5. , 3.4],\n",
       "       [1.4, 0.2, 4.4, 2.9],\n",
       "       [1.5, 0.1, 4.9, 3.1],\n",
       "       [1.5, 0.2, 5.4, 3.7],\n",
       "       [1.6, 0.2, 4.8, 3.4],\n",
       "       [1.4, 0.1, 4.8, 3. ],\n",
       "       [1.1, 0.1, 4.3, 3. ],\n",
       "       [1.2, 0.2, 5.8, 4. ],\n",
       "       [1.5, 0.4, 5.7, 4.4],\n",
       "       [1.3, 0.4, 5.4, 3.9],\n",
       "       [1.4, 0.3, 5.1, 3.5],\n",
       "       [1.7, 0.3, 5.7, 3.8],\n",
       "       [1.5, 0.3, 5.1, 3.8],\n",
       "       [1.7, 0.2, 5.4, 3.4],\n",
       "       [1.5, 0.4, 5.1, 3.7],\n",
       "       [1. , 0.2, 4.6, 3.6],\n",
       "       [1.7, 0.5, 5.1, 3.3],\n",
       "       [1.9, 0.2, 4.8, 3.4],\n",
       "       [1.6, 0.2, 5. , 3. ],\n",
       "       [1.6, 0.4, 5. , 3.4],\n",
       "       [1.5, 0.2, 5.2, 3.5],\n",
       "       [1.4, 0.2, 5.2, 3.4],\n",
       "       [1.6, 0.2, 4.7, 3.2],\n",
       "       [1.6, 0.2, 4.8, 3.1],\n",
       "       [1.5, 0.4, 5.4, 3.4],\n",
       "       [1.5, 0.1, 5.2, 4.1],\n",
       "       [1.4, 0.2, 5.5, 4.2],\n",
       "       [1.5, 0.1, 4.9, 3.1],\n",
       "       [1.2, 0.2, 5. , 3.2],\n",
       "       [1.3, 0.2, 5.5, 3.5],\n",
       "       [1.5, 0.1, 4.9, 3.1],\n",
       "       [1.3, 0.2, 4.4, 3. ],\n",
       "       [1.5, 0.2, 5.1, 3.4],\n",
       "       [1.3, 0.3, 5. , 3.5],\n",
       "       [1.3, 0.3, 4.5, 2.3],\n",
       "       [1.3, 0.2, 4.4, 3.2],\n",
       "       [1.6, 0.6, 5. , 3.5],\n",
       "       [1.9, 0.4, 5.1, 3.8],\n",
       "       [1.4, 0.3, 4.8, 3. ],\n",
       "       [1.6, 0.2, 5.1, 3.8],\n",
       "       [1.4, 0.2, 4.6, 3.2],\n",
       "       [1.5, 0.2, 5.3, 3.7],\n",
       "       [1.4, 0.2, 5. , 3.3],\n",
       "       [4.7, 1.4, 7. , 3.2],\n",
       "       [4.5, 1.5, 6.4, 3.2],\n",
       "       [4.9, 1.5, 6.9, 3.1],\n",
       "       [4. , 1.3, 5.5, 2.3],\n",
       "       [4.6, 1.5, 6.5, 2.8],\n",
       "       [4.5, 1.3, 5.7, 2.8],\n",
       "       [4.7, 1.6, 6.3, 3.3],\n",
       "       [3.3, 1. , 4.9, 2.4],\n",
       "       [4.6, 1.3, 6.6, 2.9],\n",
       "       [3.9, 1.4, 5.2, 2.7],\n",
       "       [3.5, 1. , 5. , 2. ],\n",
       "       [4.2, 1.5, 5.9, 3. ],\n",
       "       [4. , 1. , 6. , 2.2],\n",
       "       [4.7, 1.4, 6.1, 2.9],\n",
       "       [3.6, 1.3, 5.6, 2.9],\n",
       "       [4.4, 1.4, 6.7, 3.1],\n",
       "       [4.5, 1.5, 5.6, 3. ],\n",
       "       [4.1, 1. , 5.8, 2.7],\n",
       "       [4.5, 1.5, 6.2, 2.2],\n",
       "       [3.9, 1.1, 5.6, 2.5],\n",
       "       [4.8, 1.8, 5.9, 3.2],\n",
       "       [4. , 1.3, 6.1, 2.8],\n",
       "       [4.9, 1.5, 6.3, 2.5],\n",
       "       [4.7, 1.2, 6.1, 2.8],\n",
       "       [4.3, 1.3, 6.4, 2.9],\n",
       "       [4.4, 1.4, 6.6, 3. ],\n",
       "       [4.8, 1.4, 6.8, 2.8],\n",
       "       [5. , 1.7, 6.7, 3. ],\n",
       "       [4.5, 1.5, 6. , 2.9],\n",
       "       [3.5, 1. , 5.7, 2.6],\n",
       "       [3.8, 1.1, 5.5, 2.4],\n",
       "       [3.7, 1. , 5.5, 2.4],\n",
       "       [3.9, 1.2, 5.8, 2.7],\n",
       "       [5.1, 1.6, 6. , 2.7],\n",
       "       [4.5, 1.5, 5.4, 3. ],\n",
       "       [4.5, 1.6, 6. , 3.4],\n",
       "       [4.7, 1.5, 6.7, 3.1],\n",
       "       [4.4, 1.3, 6.3, 2.3],\n",
       "       [4.1, 1.3, 5.6, 3. ],\n",
       "       [4. , 1.3, 5.5, 2.5],\n",
       "       [4.4, 1.2, 5.5, 2.6],\n",
       "       [4.6, 1.4, 6.1, 3. ],\n",
       "       [4. , 1.2, 5.8, 2.6],\n",
       "       [3.3, 1. , 5. , 2.3],\n",
       "       [4.2, 1.3, 5.6, 2.7],\n",
       "       [4.2, 1.2, 5.7, 3. ],\n",
       "       [4.2, 1.3, 5.7, 2.9],\n",
       "       [4.3, 1.3, 6.2, 2.9],\n",
       "       [3. , 1.1, 5.1, 2.5],\n",
       "       [4.1, 1.3, 5.7, 2.8],\n",
       "       [6. , 2.5, 6.3, 3.3],\n",
       "       [5.1, 1.9, 5.8, 2.7],\n",
       "       [5.9, 2.1, 7.1, 3. ],\n",
       "       [5.6, 1.8, 6.3, 2.9],\n",
       "       [5.8, 2.2, 6.5, 3. ],\n",
       "       [6.6, 2.1, 7.6, 3. ],\n",
       "       [4.5, 1.7, 4.9, 2.5],\n",
       "       [6.3, 1.8, 7.3, 2.9],\n",
       "       [5.8, 1.8, 6.7, 2.5],\n",
       "       [6.1, 2.5, 7.2, 3.6],\n",
       "       [5.1, 2. , 6.5, 3.2],\n",
       "       [5.3, 1.9, 6.4, 2.7],\n",
       "       [5.5, 2.1, 6.8, 3. ],\n",
       "       [5. , 2. , 5.7, 2.5],\n",
       "       [5.1, 2.4, 5.8, 2.8],\n",
       "       [5.3, 2.3, 6.4, 3.2],\n",
       "       [5.5, 1.8, 6.5, 3. ],\n",
       "       [6.7, 2.2, 7.7, 3.8],\n",
       "       [6.9, 2.3, 7.7, 2.6],\n",
       "       [5. , 1.5, 6. , 2.2],\n",
       "       [5.7, 2.3, 6.9, 3.2],\n",
       "       [4.9, 2. , 5.6, 2.8],\n",
       "       [6.7, 2. , 7.7, 2.8],\n",
       "       [4.9, 1.8, 6.3, 2.7],\n",
       "       [5.7, 2.1, 6.7, 3.3],\n",
       "       [6. , 1.8, 7.2, 3.2],\n",
       "       [4.8, 1.8, 6.2, 2.8],\n",
       "       [4.9, 1.8, 6.1, 3. ],\n",
       "       [5.6, 2.1, 6.4, 2.8],\n",
       "       [5.8, 1.6, 7.2, 3. ],\n",
       "       [6.1, 1.9, 7.4, 2.8],\n",
       "       [6.4, 2. , 7.9, 3.8],\n",
       "       [5.6, 2.2, 6.4, 2.8],\n",
       "       [5.1, 1.5, 6.3, 2.8],\n",
       "       [5.6, 1.4, 6.1, 2.6],\n",
       "       [6.1, 2.3, 7.7, 3. ],\n",
       "       [5.6, 2.4, 6.3, 3.4],\n",
       "       [5.5, 1.8, 6.4, 3.1],\n",
       "       [4.8, 1.8, 6. , 3. ],\n",
       "       [5.4, 2.1, 6.9, 3.1],\n",
       "       [5.6, 2.4, 6.7, 3.1],\n",
       "       [5.1, 2.3, 6.9, 3.1],\n",
       "       [5.1, 1.9, 5.8, 2.7],\n",
       "       [5.9, 2.3, 6.8, 3.2],\n",
       "       [5.7, 2.5, 6.7, 3.3],\n",
       "       [5.2, 2.3, 6.7, 3. ],\n",
       "       [5. , 1.9, 6.3, 2.5],\n",
       "       [5.2, 2. , 6.5, 3. ],\n",
       "       [5.4, 2.3, 6.2, 3.4],\n",
       "       [5.1, 1.8, 5.9, 3. ]])"
      ]
     },
     "execution_count": 8,
     "metadata": {},
     "output_type": "execute_result"
    }
   ],
   "source": [
    "data.vectors"
   ]
  },
  {
   "cell_type": "code",
   "execution_count": 9,
   "id": "fbeac589-77a8-4323-9b37-ed8300f8885f",
   "metadata": {},
   "outputs": [
    {
     "data": {
      "text/plain": [
       "array([0, 0, 0, 0, 0, 0, 0, 0, 0, 0, 0, 0, 0, 0, 0, 0, 0, 0, 0, 0, 0, 0,\n",
       "       0, 0, 0, 0, 0, 0, 0, 0, 0, 0, 0, 0, 0, 0, 0, 0, 0, 0, 0, 0, 0, 0,\n",
       "       0, 0, 0, 0, 0, 0, 1, 1, 1, 1, 1, 1, 1, 1, 1, 1, 1, 1, 1, 1, 1, 1,\n",
       "       1, 1, 1, 1, 1, 1, 1, 1, 1, 1, 1, 1, 1, 1, 1, 1, 1, 1, 1, 1, 1, 1,\n",
       "       1, 1, 1, 1, 1, 1, 1, 1, 1, 1, 1, 1, 2, 2, 2, 2, 2, 2, 2, 2, 2, 2,\n",
       "       2, 2, 2, 2, 2, 2, 2, 2, 2, 2, 2, 2, 2, 2, 2, 2, 2, 2, 2, 2, 2, 2,\n",
       "       2, 2, 2, 2, 2, 2, 2, 2, 2, 2, 2, 2, 2, 2, 2, 2, 2, 2])"
      ]
     },
     "execution_count": 9,
     "metadata": {},
     "output_type": "execute_result"
    }
   ],
   "source": [
    "data.targets"
   ]
  },
  {
   "cell_type": "code",
   "execution_count": 4,
   "id": "3a7c5705-a99b-4803-9178-38c44c2d5dff",
   "metadata": {},
   "outputs": [
    {
     "name": "stdout",
     "output_type": "stream",
     "text": [
      "Original vector shape:  (150, 4)\n",
      "Train vector shape:  (120, 4)\n",
      "Test vector shape:  (30, 4)\n"
     ]
    }
   ],
   "source": [
    "data_train,data_test=split(data,0.2)"
   ]
  },
  {
   "cell_type": "code",
   "execution_count": null,
   "id": "9469d3fd-cff0-4659-ad33-108a3d6316d5",
   "metadata": {},
   "outputs": [],
   "source": []
  },
  {
   "cell_type": "code",
   "execution_count": 11,
   "id": "11a829c2-5a73-47db-8256-eb6bc7228bcf",
   "metadata": {},
   "outputs": [
    {
     "name": "stdout",
     "output_type": "stream",
     "text": [
      "On the training data:  95.0\n",
      "On the test data:  100.0\n"
     ]
    }
   ],
   "source": [
    "C=NaiveBayes()\n",
    "C.fit(data_train.vectors,data_train.targets)\n",
    "\n",
    "print(\"On the training data: \",C.percent_correct(data_train.vectors,data_train.targets))\n",
    "print(\"On the test data: \",C.percent_correct(data_test.vectors,data_test.targets))"
   ]
  },
  {
   "cell_type": "code",
   "execution_count": 12,
   "id": "6a9cfce7-c247-4ba8-b78b-9f52e23cb483",
   "metadata": {},
   "outputs": [
    {
     "data": {
      "text/plain": [
       "array([[1.47105263, 0.24736842, 5.02368421, 3.46052632],\n",
       "       [4.28780488, 1.31463415, 5.94634146, 2.72439024],\n",
       "       [5.51463415, 2.0195122 , 6.55365854, 2.98536585]])"
      ]
     },
     "execution_count": 12,
     "metadata": {},
     "output_type": "execute_result"
    }
   ],
   "source": [
    "C.means"
   ]
  },
  {
   "cell_type": "code",
   "execution_count": 10,
   "id": "44eaddae-fc79-4a3d-a31c-dc32496b24b7",
   "metadata": {},
   "outputs": [
    {
     "name": "stdout",
     "output_type": "stream",
     "text": [
      "On the training data:  95.83333333333334\n",
      "On the test data:  100.0\n"
     ]
    }
   ],
   "source": [
    "C=kNearestNeighbor(k=5)\n",
    "C.fit(data_train.vectors,data_train.targets)\n",
    "\n",
    "print(\"On the training data: \",C.percent_correct(data_train.vectors,data_train.targets))\n",
    "print(\"On the test data: \",C.percent_correct(data_test.vectors,data_test.targets))"
   ]
  },
  {
   "cell_type": "code",
   "execution_count": 13,
   "id": "ec14e1b7-87db-4bb4-8407-7000a3754e87",
   "metadata": {},
   "outputs": [
    {
     "name": "stdout",
     "output_type": "stream",
     "text": [
      "On the training data:  100.0\n",
      "On the test data:  96.66666666666667\n"
     ]
    }
   ],
   "source": [
    "C=CSC()\n",
    "C.fit(data_train.vectors,data_train.targets)\n",
    "\n",
    "print(\"On the training data: \",C.percent_correct(data_train.vectors,data_train.targets))\n",
    "print(\"On the test data: \",C.percent_correct(data_test.vectors,data_test.targets))"
   ]
  },
  {
   "cell_type": "code",
   "execution_count": 14,
   "id": "fe74fb6f-45c9-43aa-bad7-3370f99f24f4",
   "metadata": {},
   "outputs": [
    {
     "data": {
      "text/plain": [
       "array([[6.1, 2.5, 7.2, 3.6],\n",
       "       [4.1, 1. , 5.8, 2.7],\n",
       "       [3.9, 1.1, 5.6, 2.5],\n",
       "       [1.5, 0.4, 5.1, 3.7],\n",
       "       [5.6, 2.1, 6.4, 2.8],\n",
       "       [4.5, 1.7, 4.9, 2.5],\n",
       "       [4.9, 2. , 5.6, 2.8],\n",
       "       [6. , 2.5, 6.3, 3.3],\n",
       "       [4.3, 1.3, 6.4, 2.9],\n",
       "       [3.9, 1.2, 5.8, 2.7],\n",
       "       [4.4, 1.4, 6.7, 3.1],\n",
       "       [5. , 1.5, 6. , 2.2],\n",
       "       [4.1, 1.3, 5.6, 3. ],\n",
       "       [5.1, 1.6, 6. , 2.7]])"
      ]
     },
     "execution_count": 14,
     "metadata": {},
     "output_type": "execute_result"
    }
   ],
   "source": [
    "C.centers"
   ]
  },
  {
   "cell_type": "code",
   "execution_count": 15,
   "id": "9d41555f-97d6-43e7-b602-2df2d292037f",
   "metadata": {},
   "outputs": [
    {
     "data": {
      "text/plain": [
       "array([1.56843871, 1.12249722, 1.1       , 2.04450483, 0.80622577,\n",
       "       0.73484692, 0.54772256, 1.37477271, 0.81240384, 1.14017542,\n",
       "       0.85440037, 0.43588989, 0.9486833 , 0.33166248])"
      ]
     },
     "execution_count": 15,
     "metadata": {},
     "output_type": "execute_result"
    }
   ],
   "source": [
    "C.radii"
   ]
  },
  {
   "cell_type": "code",
   "execution_count": 16,
   "id": "0698d6a6-7574-4bf0-975e-bdd81ca3427e",
   "metadata": {},
   "outputs": [
    {
     "data": {
      "text/plain": [
       "array([2, 1, 1, 0, 2, 2, 2, 2, 1, 1, 1, 2, 1, 1])"
      ]
     },
     "execution_count": 16,
     "metadata": {},
     "output_type": "execute_result"
    }
   ],
   "source": [
    "C.targets"
   ]
  },
  {
   "cell_type": "code",
   "execution_count": null,
   "id": "0ec436a9-bda9-4581-875b-b3c6aa7da8f5",
   "metadata": {},
   "outputs": [],
   "source": []
  }
 ],
 "metadata": {
  "kernelspec": {
   "display_name": "Python 3 (ipykernel)",
   "language": "python",
   "name": "python3"
  },
  "language_info": {
   "codemirror_mode": {
    "name": "ipython",
    "version": 3
   },
   "file_extension": ".py",
   "mimetype": "text/x-python",
   "name": "python",
   "nbconvert_exporter": "python",
   "pygments_lexer": "ipython3",
   "version": "3.12.6"
  }
 },
 "nbformat": 4,
 "nbformat_minor": 5
}
