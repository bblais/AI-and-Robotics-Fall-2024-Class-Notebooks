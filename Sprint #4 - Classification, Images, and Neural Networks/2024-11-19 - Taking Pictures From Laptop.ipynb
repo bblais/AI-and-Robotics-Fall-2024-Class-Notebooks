{
 "cells": [
  {
   "cell_type": "code",
   "execution_count": 1,
   "id": "242539c1-e1da-471f-97d4-272dfa96ea00",
   "metadata": {},
   "outputs": [],
   "source": [
    "%matplotlib inline\n",
    "from pylab import *\n",
    "import os\n",
    "from time import sleep\n",
    "from IPython.display import clear_output\n"
   ]
  },
  {
   "cell_type": "markdown",
   "id": "37d4c296-9d45-4371-9431-14f54361a142",
   "metadata": {},
   "source": [
    "## need to install ffmpeg -- is there another solution for windows?"
   ]
  },
  {
   "cell_type": "code",
   "execution_count": null,
   "id": "188e9ffc-dfd8-4eef-a374-ebe7026314f7",
   "metadata": {},
   "outputs": [],
   "source": [
    "count=0\n",
    "while True:\n",
    "    fname=f\"output{count}.jpg\"\n",
    "    os.system(f'ffmpeg -y -f avfoundation -framerate 30 -i \"0\" -vframes 1 {fname} >>out.log 2>&1')\n",
    "    im=imread(fname)\n",
    "    imshow(im)\n",
    "    title(fname)\n",
    "    show()\n",
    "    sleep(2)\n",
    "    count+=1\n",
    "    clear_output(wait=True)"
   ]
  }
 ],
 "metadata": {
  "kernelspec": {
   "display_name": "Python 3 (ipykernel)",
   "language": "python",
   "name": "python3"
  },
  "language_info": {
   "codemirror_mode": {
    "name": "ipython",
    "version": 3
   },
   "file_extension": ".py",
   "mimetype": "text/x-python",
   "name": "python",
   "nbconvert_exporter": "python",
   "pygments_lexer": "ipython3",
   "version": "3.12.6"
  }
 },
 "nbformat": 4,
 "nbformat_minor": 5
}
