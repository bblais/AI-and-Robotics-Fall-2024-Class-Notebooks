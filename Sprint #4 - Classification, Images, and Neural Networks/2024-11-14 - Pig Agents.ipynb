{
 "cells": [
  {
   "cell_type": "markdown",
   "id": "d928720c-fe7e-45c6-94af-d8c1d18e8b1a",
   "metadata": {},
   "source": [
    "## Progressive Pig\n",
    "\n",
    "- Player choose a move: hold or roll\n",
    "\n",
    "- if roll\n",
    "    - roll a single die (1-6)\n",
    "    - if value == 1:\n",
    "       - turn total = 0\n",
    "       - **player total +=1**\n",
    "       - can't roll again \n",
    "    - else:\n",
    "       - value is added turn total \n",
    "       - can roll again = choose between hold and roll\n",
    "- if hold\n",
    "    - **if turn total is zero, then player total +=1**\n",
    "    - otherwise turn total is added to your total score\n",
    "    - next player\n",
    " \n",
    "- game ends when 1 player reaches max score (100)\n",
    "\n",
    "\n",
    "\n",
    "- What is a state? [player 1 score, player2 score, turn total, last die roll]\n",
    "- What is a move?  \"hold\" or \"roll\""
   ]
  },
  {
   "cell_type": "code",
   "execution_count": 1,
   "id": "746ace8a-2caf-4303-81d7-8d2a49e6acc0",
   "metadata": {},
   "outputs": [
    {
     "name": "stdout",
     "output_type": "stream",
     "text": [
      "Version:  0.3.08\n"
     ]
    }
   ],
   "source": [
    "from Game import *\n",
    "from Game.minimax import *"
   ]
  },
  {
   "cell_type": "code",
   "execution_count": 2,
   "id": "e5c85b89-5b03-42a2-8280-b42871cd23c4",
   "metadata": {},
   "outputs": [],
   "source": [
    "def initial_state():\n",
    "    player_1_score=0\n",
    "    player_2_score=0\n",
    "    turn_total=0\n",
    "    last_die_roll=0\n",
    "\n",
    "    state=[player_1_score,player_2_score,turn_total,last_die_roll]\n",
    "    return state"
   ]
  },
  {
   "cell_type": "code",
   "execution_count": 3,
   "id": "8a9ac89e-fe3d-4e8a-a5a5-d19c5133db8c",
   "metadata": {},
   "outputs": [],
   "source": [
    "def show_state(state,player):\n",
    "    player_1_score,player_2_score,turn_total,last_die_roll=state\n",
    "    print(f\"Player 1 total is {player_1_score}\")\n",
    "    print(f\"Player 2 total is {player_2_score}\")    \n",
    "    print(f\"Last Die Roll {last_die_roll}\")    \n",
    "    print(f\"The turn total is {turn_total}\")\n",
    "    "
   ]
  },
  {
   "cell_type": "code",
   "execution_count": 4,
   "id": "1539ed47-1e1d-48fc-b180-8e674de8875d",
   "metadata": {},
   "outputs": [],
   "source": [
    "def valid_moves(state,player):\n",
    "    return [\"hold\",\"roll\"]"
   ]
  },
  {
   "cell_type": "code",
   "execution_count": 5,
   "id": "0c8ea96b-bb99-49f2-bc2b-c71111e2a1cd",
   "metadata": {},
   "outputs": [],
   "source": [
    "def update_state(state,player,move):\n",
    "    player_1_score,player_2_score,turn_total,last_die_roll=state\n",
    "\n",
    "    progressive=True  # removes infinite games\n",
    "    \n",
    "    if move==\"hold\":\n",
    "        if progressive:\n",
    "            if turn_total==0:\n",
    "                turn_total=1  # minimum turn total\n",
    "            \n",
    "        if player==1:\n",
    "            player_1_score+=turn_total\n",
    "        else:\n",
    "            player_2_score+=turn_total\n",
    "        \n",
    "        turn_total=0\n",
    "        last_die_roll=0\n",
    "\n",
    "    elif move==\"roll\":\n",
    "\n",
    "        dice=random.randint(1,6) \n",
    "        last_die_roll=dice\n",
    "\n",
    "        if dice==1:\n",
    "            if progressive:\n",
    "                if player==1:\n",
    "                    player_1_score+=1\n",
    "                else:\n",
    "                    player_2_score+=1\n",
    "\n",
    "\n",
    "            turn_total=0\n",
    "        else:\n",
    "            turn_total+=dice\n",
    "            \n",
    "    else:\n",
    "        raise ValueError(\"You can't get there from here.\")    \n",
    "\n",
    "\n",
    "    state=[player_1_score,player_2_score,turn_total,last_die_roll]\n",
    "    return state"
   ]
  },
  {
   "cell_type": "code",
   "execution_count": 6,
   "id": "7db8b6b8-802e-43cf-b567-5e9a8c995870",
   "metadata": {},
   "outputs": [],
   "source": [
    "def win_status(state,player):\n",
    "    player_1_score,player_2_score,turn_total,last_die_roll=state\n",
    "\n",
    "    max_score=21\n",
    "\n",
    "    if player==1:\n",
    "        if player_1_score+turn_total>=max_score:\n",
    "            return \"win\"\n",
    "    if player==2:\n",
    "        if player_2_score+turn_total>=max_score:\n",
    "            return \"win\"\n"
   ]
  },
  {
   "cell_type": "code",
   "execution_count": 7,
   "id": "444243a5-0d8a-460f-8e77-6c5f4b7ae51a",
   "metadata": {},
   "outputs": [],
   "source": [
    "def repeat_move(state,player,move):\n",
    "    player_1_score,player_2_score,turn_total,last_die_roll=state\n",
    "    if turn_total>0:\n",
    "        return True\n",
    "    else:\n",
    "        return False\n",
    "        "
   ]
  },
  {
   "cell_type": "code",
   "execution_count": 8,
   "id": "924f7034-8f6a-4566-a6c5-167e7ed7d4ff",
   "metadata": {},
   "outputs": [],
   "source": [
    "def monkey_move(state,player):\n",
    "    return random.choice(valid_moves(state,player))\n",
    "monkey_agent=random_agent=Agent(monkey_move)\n",
    "random_move=monkey_move"
   ]
  },
  {
   "cell_type": "code",
   "execution_count": 9,
   "id": "a5b4ca98-dafa-4618-a465-5b4ed0474b0c",
   "metadata": {},
   "outputs": [],
   "source": [
    "def Q_move(state,player,info):\n",
    "    Q=info.Q\n",
    "    last_state=info.last_state\n",
    "    last_action=info.last_action\n",
    "    learning=info.learning\n",
    "    \n",
    "    α=info.α  # learning rate\n",
    "    ϵ=info.ϵ  # how often to take a random move\n",
    "    γ=info.γ  # memory constant -- how quickly does the table update back in time (earlier in the game)\n",
    "    \n",
    "    # \\alpha <hit tab>    α\n",
    "    # \\epsilon <hit tab>  ϵ\n",
    "    # \\gamma <hit tab>    γ\n",
    "    \n",
    "    if state not in Q:\n",
    "        actions=valid_moves(state,player)\n",
    "        Q[state]=Table()\n",
    "        for action in actions:\n",
    "            Q[state][action]=0  # initial value of table\n",
    "    \n",
    "    if learning:\n",
    "        if random.random()<ϵ:  # take a random move occasionally to explore the environment\n",
    "            move=random_move(state,player)\n",
    "        else:\n",
    "            move=top_choice(Q[state])\n",
    "    else:\n",
    "        move=top_choice(Q[state])\n",
    "    \n",
    "    if not last_action is None:  # not the first move\n",
    "        reward=0\n",
    "        \n",
    "        # learn\n",
    "        if learning:\n",
    "            Q[last_state][last_action]+=α*(reward +\n",
    "                        γ*max([Q[state][a] for a in Q[state]]) - Q[last_state][last_action])\n",
    "    \n",
    "    return move"
   ]
  },
  {
   "cell_type": "code",
   "execution_count": 10,
   "id": "20704bce-2d6e-418f-9fe1-cc393a7377cd",
   "metadata": {},
   "outputs": [],
   "source": [
    "def Q_after(status,player,info):\n",
    "    Q=info.Q\n",
    "    last_state=info.last_state\n",
    "    last_action=info.last_action\n",
    "    learning=info.learning\n",
    "    \n",
    "    α=info.α  # learning rate\n",
    "    ϵ=info.ϵ  # how often to take a random move\n",
    "    γ=info.γ  # memory constant -- how quickly does the table update back in time (earlier in the game)\n",
    "    \n",
    "    # \\alpha <hit tab>    α\n",
    "    # \\epsilon <hit tab>  ϵ\n",
    "    # \\gamma <hit tab>    γ\n",
    "\n",
    "    if status=='lose':\n",
    "        reward=-1\n",
    "    elif status=='win':\n",
    "        reward=1\n",
    "    elif status=='stalemate':\n",
    "        reward=.5 # value stalemate a little closer to a win\n",
    "    else:\n",
    "        reward=0\n",
    "    \n",
    "    \n",
    "    if learning:\n",
    "        Q[last_state][last_action]+=α*(reward - Q[last_state][last_action])\n",
    "        \n"
   ]
  },
  {
   "cell_type": "code",
   "execution_count": 11,
   "id": "fdf8e24e-6710-4955-9dae-70b57f1732f9",
   "metadata": {},
   "outputs": [],
   "source": [
    "Q1_agent=Agent(Q_move)\n",
    "Q1_agent.post=Q_after\n",
    "Q1_agent.Q=Table()  # makes an empty table\n",
    "Q1_agent.learning=True\n",
    "\n",
    "Q1_agent.α=0.4  # learning rate\n",
    "Q1_agent.ϵ=0.5  # how often to take a random move\n",
    "Q1_agent.γ=0.9  # memory constant -- how quickly does the table update back in time (earlier in the game)"
   ]
  },
  {
   "cell_type": "code",
   "execution_count": 12,
   "id": "0963c6a8-3ce3-4197-b139-6001c1d9aee4",
   "metadata": {},
   "outputs": [],
   "source": [
    "Q2_agent=Agent(Q_move)\n",
    "Q2_agent.post=Q_after\n",
    "Q2_agent.Q=Table()  # makes an empty table\n",
    "Q2_agent.learning=True\n",
    "\n",
    "Q2_agent.α=0.4  # learning rate\n",
    "Q2_agent.ϵ=0.5  # how often to take a random move\n",
    "Q2_agent.γ=0.9  # memory constant -- how quickly does the table update back in time (earlier in the game)"
   ]
  },
  {
   "cell_type": "code",
   "execution_count": 13,
   "id": "da3768ca-c025-4948-a6bc-af62f8876acd",
   "metadata": {},
   "outputs": [],
   "source": [
    "def minimax_move(state,player):\n",
    "    values,moves=minimax_values(state,player,display=False)\n",
    "    return top_choice(moves,values)\n",
    "\n",
    "\n",
    "minimax_agent=Agent(minimax_move)"
   ]
  },
  {
   "cell_type": "code",
   "execution_count": 16,
   "id": "c6ed1e81-6da6-416a-9f17-25caeab69b4a",
   "metadata": {},
   "outputs": [
    {
     "name": "stdout",
     "output_type": "stream",
     "text": [
      "====\n",
      "Game  1\n",
      "Player 1 total is 0\n",
      "Player 2 total is 0\n",
      "Last Die Roll 0\n",
      "The turn total is 0\n",
      "Player 1 moves hold\n",
      "Player 1 total is 1\n",
      "Player 2 total is 0\n",
      "Last Die Roll 0\n",
      "The turn total is 0\n",
      "Player 2 moves roll\n",
      "Player 1 total is 1\n",
      "Player 2 total is 0\n",
      "Last Die Roll 6\n",
      "The turn total is 6\n",
      "Player 2 moves roll\n",
      "Player 1 total is 1\n",
      "Player 2 total is 0\n",
      "Last Die Roll 6\n",
      "The turn total is 12\n",
      "Player 2 moves hold\n",
      "Player 1 total is 1\n",
      "Player 2 total is 12\n",
      "Last Die Roll 0\n",
      "The turn total is 0\n",
      "Player 1 moves roll\n",
      "Player 1 total is 1\n",
      "Player 2 total is 12\n",
      "Last Die Roll 6\n",
      "The turn total is 6\n",
      "Player 1 moves roll\n",
      "Player 1 total is 1\n",
      "Player 2 total is 12\n",
      "Last Die Roll 3\n",
      "The turn total is 9\n",
      "Player 1 moves hold\n",
      "Player 1 total is 10\n",
      "Player 2 total is 12\n",
      "Last Die Roll 0\n",
      "The turn total is 0\n",
      "Player 2 moves hold\n",
      "Player 1 total is 10\n",
      "Player 2 total is 13\n",
      "Last Die Roll 0\n",
      "The turn total is 0\n",
      "Player 1 moves roll\n",
      "Player 1 total is 10\n",
      "Player 2 total is 13\n",
      "Last Die Roll 3\n",
      "The turn total is 3\n",
      "Player 1 moves roll\n",
      "Player 1 total is 11\n",
      "Player 2 total is 13\n",
      "Last Die Roll 1\n",
      "The turn total is 0\n",
      "Player 2 moves hold\n",
      "Player 1 total is 11\n",
      "Player 2 total is 14\n",
      "Last Die Roll 0\n",
      "The turn total is 0\n",
      "Player 1 moves roll\n",
      "Player 1 total is 11\n",
      "Player 2 total is 14\n",
      "Last Die Roll 4\n",
      "The turn total is 4\n",
      "Player 1 moves hold\n",
      "Player 1 total is 15\n",
      "Player 2 total is 14\n",
      "Last Die Roll 0\n",
      "The turn total is 0\n",
      "Player 2 moves roll\n",
      "Player 1 total is 15\n",
      "Player 2 total is 14\n",
      "Last Die Roll 6\n",
      "The turn total is 6\n",
      "Player 2 moves hold\n",
      "Player 1 total is 15\n",
      "Player 2 total is 20\n",
      "Last Die Roll 0\n",
      "The turn total is 0\n",
      "Player 1 moves roll\n",
      "Player 1 total is 15\n",
      "Player 2 total is 20\n",
      "Last Die Roll 4\n",
      "The turn total is 4\n",
      "Player 1 moves roll\n",
      "Player 1 total is 15\n",
      "Player 2 total is 20\n",
      "Last Die Roll 4\n",
      "The turn total is 8\n",
      "Player  1 won.\n"
     ]
    },
    {
     "data": {
      "text/plain": [
       "[1]"
      ]
     },
     "execution_count": 16,
     "metadata": {},
     "output_type": "execute_result"
    }
   ],
   "source": [
    "g=Game()\n",
    "g.run(random_agent,minimax_agent)"
   ]
  },
  {
   "cell_type": "markdown",
   "id": "e0e2dfd8-ae97-4e79-9e4e-9cb82b855410",
   "metadata": {},
   "source": [
    "minimax plays badly!  :-)"
   ]
  },
  {
   "cell_type": "markdown",
   "id": "0a508b63-ad9f-453c-9cbd-43763fcaf0dd",
   "metadata": {},
   "source": [
    "### But what about Q?"
   ]
  },
  {
   "cell_type": "code",
   "execution_count": 25,
   "id": "0b0cbbf6-8099-436d-95bf-f33525989bd7",
   "metadata": {},
   "outputs": [],
   "source": [
    "from tqdm.notebook import tqdm"
   ]
  },
  {
   "cell_type": "code",
   "execution_count": 27,
   "id": "2e0aab5a-ce31-4e3f-a799-98a002fd1c90",
   "metadata": {},
   "outputs": [],
   "source": [
    "agent1=Q1_agent\n",
    "agent1.Q=Table()\n",
    "agent2=Q2_agent\n",
    "agent2.Q=Table()"
   ]
  },
  {
   "cell_type": "code",
   "execution_count": 28,
   "id": "31d54828-a1da-40e3-84a1-3b78400bc167",
   "metadata": {},
   "outputs": [],
   "source": [
    "S=Storage()\n",
    "one,two,ties,N=0,0,0,0"
   ]
  },
  {
   "cell_type": "code",
   "execution_count": 29,
   "id": "16229816-8137-444b-9bbd-32baaae51d7d",
   "metadata": {},
   "outputs": [],
   "source": [
    "N_test=100\n",
    "N_train=100"
   ]
  },
  {
   "cell_type": "code",
   "execution_count": 30,
   "id": "c85d76c2-10d8-445c-a401-680f0a654e4f",
   "metadata": {},
   "outputs": [
    {
     "data": {
      "application/vnd.jupyter.widget-view+json": {
       "model_id": "56da175fbcdb429795bcc1c60c8cad22",
       "version_major": 2,
       "version_minor": 0
      },
      "text/plain": [
       "  0%|          | 0/2000 [00:00<?, ?it/s]"
      ]
     },
     "metadata": {},
     "output_type": "display_data"
    }
   ],
   "source": [
    "for i in tqdm(range(2000)):\n",
    "    Q1_agent.learning=True\n",
    "    Q2_agent.learning=True\n",
    "    g=Game(number_of_games=N_train)\n",
    "    g.display=False\n",
    "    result=g.run(agent1,agent2)\n",
    "\n",
    "    \n",
    "    Q1_agent.learning=False\n",
    "    Q2_agent.learning=False\n",
    "    g=Game(number_of_games=N_test)\n",
    "    g.display=False\n",
    "    result=g.run(agent1,agent2)\n",
    "    one,two,ties,N=one+result.count(1),two+result.count(2),ties+result.count(0),N+len(result)\n",
    "    \n",
    "    S+=one/N*100,two/N*100,ties/N*100,N\n"
   ]
  },
  {
   "cell_type": "code",
   "execution_count": 31,
   "id": "952bc759-af41-48cc-a940-5827ce541609",
   "metadata": {},
   "outputs": [],
   "source": [
    "y1,y2,y0,x=S.arrays()"
   ]
  },
  {
   "cell_type": "code",
   "execution_count": 32,
   "id": "427ca0f4-887c-435a-bb5a-1e0de4358983",
   "metadata": {},
   "outputs": [],
   "source": [
    "%matplotlib inline\n",
    "from matplotlib.pyplot import figure,plot,grid,legend,xlabel,ylabel,title"
   ]
  },
  {
   "cell_type": "code",
   "execution_count": 33,
   "id": "f4eb481c-9f92-41f4-834f-e9e53add47a4",
   "metadata": {},
   "outputs": [
    {
     "data": {
      "text/plain": [
       "Text(0, 0.5, 'Percent')"
      ]
     },
     "execution_count": 33,
     "metadata": {},
     "output_type": "execute_result"
    },
    {
     "data": {
      "image/png": "[encoded data removed]",
      "text/plain": [
       "<Figure size 1600x800 with 1 Axes>"
      ]
     },
     "metadata": {},
     "output_type": "display_data"
    }
   ],
   "source": [
    "figure(figsize=(16,8))\n",
    "plot(x,y1,label='One Win')\n",
    "plot(x,y2,label='Two Win')\n",
    "plot(x,y0,label='Tie')\n",
    "legend()\n",
    "xlabel('Number of Games')\n",
    "ylabel('Percent')"
   ]
  },
  {
   "cell_type": "code",
   "execution_count": null,
   "id": "5218926c-3179-4b62-ad74-746542f829a1",
   "metadata": {},
   "outputs": [],
   "source": []
  }
 ],
 "metadata": {
  "kernelspec": {
   "display_name": "Python 3 (ipykernel)",
   "language": "python",
   "name": "python3"
  },
  "language_info": {
   "codemirror_mode": {
    "name": "ipython",
    "version": 3
   },
   "file_extension": ".py",
   "mimetype": "text/x-python",
   "name": "python",
   "nbconvert_exporter": "python",
   "pygments_lexer": "ipython3",
   "version": "3.12.6"
  }
 },
 "nbformat": 4,
 "nbformat_minor": 5
}
